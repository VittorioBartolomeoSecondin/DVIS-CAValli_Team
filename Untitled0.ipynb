{
  "nbformat": 4,
  "nbformat_minor": 0,
  "metadata": {
    "colab": {
      "provenance": [],
      "include_colab_link": true
    },
    "kernelspec": {
      "name": "python3",
      "display_name": "Python 3"
    },
    "language_info": {
      "name": "python"
    }
  },
  "cells": [
    {
      "cell_type": "markdown",
      "metadata": {
        "id": "view-in-github",
        "colab_type": "text"
      },
      "source": [
        "<a href=\"https://colab.research.google.com/github/VittorioBartolomeoSecondin/DVIS-CAValli_Team/blob/main/Untitled0.ipynb\" target=\"_parent\"><img src=\"https://colab.research.google.com/assets/colab-badge.svg\" alt=\"Open In Colab\"/></a>"
      ]
    },
    {
      "cell_type": "code",
      "execution_count": 32,
      "metadata": {
        "id": "a_x5mhoyb1LU",
        "colab": {
          "base_uri": "https://localhost:8080/"
        },
        "outputId": "20a0d702-6d4f-4a76-dce8-97cc9fb05dd2"
      },
      "outputs": [
        {
          "output_type": "stream",
          "name": "stdout",
          "text": [
            "Drive already mounted at /content/drive; to attempt to forcibly remount, call drive.mount(\"/content/drive\", force_remount=True).\n"
          ]
        }
      ],
      "source": [
        "import pandas as pd\n",
        "import glob\n",
        "import matplotlib.pyplot as plt\n",
        "import numpy as np\n",
        "import scipy.stats as stats\n",
        "import scipy\n",
        "from google.colab import drive\n",
        "import csv\n",
        "\n",
        "drive.mount('/content/drive')"
      ]
    },
    {
      "cell_type": "code",
      "source": [
        "all_files = glob.glob(\"drive/MyDrive/tree_dataset/*.csv\")\n",
        "\n",
        "li = []\n",
        "\n",
        "for filename in all_files:\n",
        "    df = pd.read_csv(filename)\n",
        "    if li:\n",
        "        df = df.reindex(columns=li[0].columns)\n",
        "    li.append(df)\n",
        "\n",
        "tree_dataset = pd.concat(li, axis=0, ignore_index=True)"
      ],
      "metadata": {
        "id": "s-U_GUt9dJJE",
        "colab": {
          "base_uri": "https://localhost:8080/"
        },
        "outputId": "d4c638ab-80c3-4b0e-8946-af822b367e7b"
      },
      "execution_count": 33,
      "outputs": [
        {
          "output_type": "stream",
          "name": "stderr",
          "text": [
            "<ipython-input-33-3485f7da239d>:6: DtypeWarning: Columns (0) have mixed types. Specify dtype option on import or set low_memory=False.\n",
            "  df = pd.read_csv(filename)\n",
            "<ipython-input-33-3485f7da239d>:6: DtypeWarning: Columns (0) have mixed types. Specify dtype option on import or set low_memory=False.\n",
            "  df = pd.read_csv(filename)\n",
            "<ipython-input-33-3485f7da239d>:6: DtypeWarning: Columns (0) have mixed types. Specify dtype option on import or set low_memory=False.\n",
            "  df = pd.read_csv(filename)\n"
          ]
        }
      ]
    },
    {
      "cell_type": "code",
      "source": [
        "tree_dataset.head()"
      ],
      "metadata": {
        "id": "hKAXuoLjcjMX",
        "colab": {
          "base_uri": "https://localhost:8080/",
          "height": 342
        },
        "outputId": "b6832837-6445-498b-fd57-4c40145762a7"
      },
      "execution_count": 34,
      "outputs": [
        {
          "output_type": "execute_result",
          "data": {
            "text/plain": [
              "        common_name       scientific_name     city       state  \\\n",
              "0  Mexican fan palm  Washingtonia robusta  Anaheim  California   \n",
              "1  Mexican fan palm  Washingtonia robusta  Anaheim  California   \n",
              "2  Mexican fan palm  Washingtonia robusta  Anaheim  California   \n",
              "3  Mexican fan palm  Washingtonia robusta  Anaheim  California   \n",
              "4  Mexican fan palm  Washingtonia robusta  Anaheim  California   \n",
              "\n",
              "   longitude_coordinate  latitude_coordinate        address      native  \\\n",
              "0           -117.932481            33.810199  1501 9th St S  introduced   \n",
              "1           -117.932493            33.810019  1501 9th St S  introduced   \n",
              "2           -117.932531            33.809840  1501 9th St S  introduced   \n",
              "3           -117.932572            33.809676  1501 9th St S  introduced   \n",
              "4           -117.932626            33.809489  1501 9th St S  introduced   \n",
              "\n",
              "    height_binned_M diameter_breast_height_binned_CM  ... zipcode  \\\n",
              "0  13.71 to 18.29 m                30.48 to 45.72 cm  ...     NaN   \n",
              "1  13.71 to 18.29 m                30.48 to 45.72 cm  ...     NaN   \n",
              "2  13.71 to 18.29 m                30.48 to 45.72 cm  ...     NaN   \n",
              "3  13.71 to 18.29 m                30.48 to 45.72 cm  ...     NaN   \n",
              "4  13.71 to 18.29 m                30.48 to 45.72 cm  ...     NaN   \n",
              "\n",
              "  neighborhood  location_name ward district overhead_utility  \\\n",
              "0          NaN            NaN  NaN      NaN              NaN   \n",
              "1          NaN            NaN  NaN      NaN              NaN   \n",
              "2          NaN            NaN  NaN      NaN              NaN   \n",
              "3          NaN            NaN  NaN      NaN              NaN   \n",
              "4          NaN            NaN  NaN      NaN              NaN   \n",
              "\n",
              "  diameter_breast_height_CM condition height_M percent_population  \n",
              "0                       NaN       NaN      NaN                NaN  \n",
              "1                       NaN       NaN      NaN                NaN  \n",
              "2                       NaN       NaN      NaN                NaN  \n",
              "3                       NaN       NaN      NaN                NaN  \n",
              "4                       NaN       NaN      NaN                NaN  \n",
              "\n",
              "[5 rows x 28 columns]"
            ],
            "text/html": [
              "\n",
              "  <div id=\"df-79d4771d-7904-4eff-bb74-d62261e4b2c4\" class=\"colab-df-container\">\n",
              "    <div>\n",
              "<style scoped>\n",
              "    .dataframe tbody tr th:only-of-type {\n",
              "        vertical-align: middle;\n",
              "    }\n",
              "\n",
              "    .dataframe tbody tr th {\n",
              "        vertical-align: top;\n",
              "    }\n",
              "\n",
              "    .dataframe thead th {\n",
              "        text-align: right;\n",
              "    }\n",
              "</style>\n",
              "<table border=\"1\" class=\"dataframe\">\n",
              "  <thead>\n",
              "    <tr style=\"text-align: right;\">\n",
              "      <th></th>\n",
              "      <th>common_name</th>\n",
              "      <th>scientific_name</th>\n",
              "      <th>city</th>\n",
              "      <th>state</th>\n",
              "      <th>longitude_coordinate</th>\n",
              "      <th>latitude_coordinate</th>\n",
              "      <th>address</th>\n",
              "      <th>native</th>\n",
              "      <th>height_binned_M</th>\n",
              "      <th>diameter_breast_height_binned_CM</th>\n",
              "      <th>...</th>\n",
              "      <th>zipcode</th>\n",
              "      <th>neighborhood</th>\n",
              "      <th>location_name</th>\n",
              "      <th>ward</th>\n",
              "      <th>district</th>\n",
              "      <th>overhead_utility</th>\n",
              "      <th>diameter_breast_height_CM</th>\n",
              "      <th>condition</th>\n",
              "      <th>height_M</th>\n",
              "      <th>percent_population</th>\n",
              "    </tr>\n",
              "  </thead>\n",
              "  <tbody>\n",
              "    <tr>\n",
              "      <th>0</th>\n",
              "      <td>Mexican fan palm</td>\n",
              "      <td>Washingtonia robusta</td>\n",
              "      <td>Anaheim</td>\n",
              "      <td>California</td>\n",
              "      <td>-117.932481</td>\n",
              "      <td>33.810199</td>\n",
              "      <td>1501 9th St S</td>\n",
              "      <td>introduced</td>\n",
              "      <td>13.71 to 18.29 m</td>\n",
              "      <td>30.48 to 45.72 cm</td>\n",
              "      <td>...</td>\n",
              "      <td>NaN</td>\n",
              "      <td>NaN</td>\n",
              "      <td>NaN</td>\n",
              "      <td>NaN</td>\n",
              "      <td>NaN</td>\n",
              "      <td>NaN</td>\n",
              "      <td>NaN</td>\n",
              "      <td>NaN</td>\n",
              "      <td>NaN</td>\n",
              "      <td>NaN</td>\n",
              "    </tr>\n",
              "    <tr>\n",
              "      <th>1</th>\n",
              "      <td>Mexican fan palm</td>\n",
              "      <td>Washingtonia robusta</td>\n",
              "      <td>Anaheim</td>\n",
              "      <td>California</td>\n",
              "      <td>-117.932493</td>\n",
              "      <td>33.810019</td>\n",
              "      <td>1501 9th St S</td>\n",
              "      <td>introduced</td>\n",
              "      <td>13.71 to 18.29 m</td>\n",
              "      <td>30.48 to 45.72 cm</td>\n",
              "      <td>...</td>\n",
              "      <td>NaN</td>\n",
              "      <td>NaN</td>\n",
              "      <td>NaN</td>\n",
              "      <td>NaN</td>\n",
              "      <td>NaN</td>\n",
              "      <td>NaN</td>\n",
              "      <td>NaN</td>\n",
              "      <td>NaN</td>\n",
              "      <td>NaN</td>\n",
              "      <td>NaN</td>\n",
              "    </tr>\n",
              "    <tr>\n",
              "      <th>2</th>\n",
              "      <td>Mexican fan palm</td>\n",
              "      <td>Washingtonia robusta</td>\n",
              "      <td>Anaheim</td>\n",
              "      <td>California</td>\n",
              "      <td>-117.932531</td>\n",
              "      <td>33.809840</td>\n",
              "      <td>1501 9th St S</td>\n",
              "      <td>introduced</td>\n",
              "      <td>13.71 to 18.29 m</td>\n",
              "      <td>30.48 to 45.72 cm</td>\n",
              "      <td>...</td>\n",
              "      <td>NaN</td>\n",
              "      <td>NaN</td>\n",
              "      <td>NaN</td>\n",
              "      <td>NaN</td>\n",
              "      <td>NaN</td>\n",
              "      <td>NaN</td>\n",
              "      <td>NaN</td>\n",
              "      <td>NaN</td>\n",
              "      <td>NaN</td>\n",
              "      <td>NaN</td>\n",
              "    </tr>\n",
              "    <tr>\n",
              "      <th>3</th>\n",
              "      <td>Mexican fan palm</td>\n",
              "      <td>Washingtonia robusta</td>\n",
              "      <td>Anaheim</td>\n",
              "      <td>California</td>\n",
              "      <td>-117.932572</td>\n",
              "      <td>33.809676</td>\n",
              "      <td>1501 9th St S</td>\n",
              "      <td>introduced</td>\n",
              "      <td>13.71 to 18.29 m</td>\n",
              "      <td>30.48 to 45.72 cm</td>\n",
              "      <td>...</td>\n",
              "      <td>NaN</td>\n",
              "      <td>NaN</td>\n",
              "      <td>NaN</td>\n",
              "      <td>NaN</td>\n",
              "      <td>NaN</td>\n",
              "      <td>NaN</td>\n",
              "      <td>NaN</td>\n",
              "      <td>NaN</td>\n",
              "      <td>NaN</td>\n",
              "      <td>NaN</td>\n",
              "    </tr>\n",
              "    <tr>\n",
              "      <th>4</th>\n",
              "      <td>Mexican fan palm</td>\n",
              "      <td>Washingtonia robusta</td>\n",
              "      <td>Anaheim</td>\n",
              "      <td>California</td>\n",
              "      <td>-117.932626</td>\n",
              "      <td>33.809489</td>\n",
              "      <td>1501 9th St S</td>\n",
              "      <td>introduced</td>\n",
              "      <td>13.71 to 18.29 m</td>\n",
              "      <td>30.48 to 45.72 cm</td>\n",
              "      <td>...</td>\n",
              "      <td>NaN</td>\n",
              "      <td>NaN</td>\n",
              "      <td>NaN</td>\n",
              "      <td>NaN</td>\n",
              "      <td>NaN</td>\n",
              "      <td>NaN</td>\n",
              "      <td>NaN</td>\n",
              "      <td>NaN</td>\n",
              "      <td>NaN</td>\n",
              "      <td>NaN</td>\n",
              "    </tr>\n",
              "  </tbody>\n",
              "</table>\n",
              "<p>5 rows × 28 columns</p>\n",
              "</div>\n",
              "    <div class=\"colab-df-buttons\">\n",
              "\n",
              "  <div class=\"colab-df-container\">\n",
              "    <button class=\"colab-df-convert\" onclick=\"convertToInteractive('df-79d4771d-7904-4eff-bb74-d62261e4b2c4')\"\n",
              "            title=\"Convert this dataframe to an interactive table.\"\n",
              "            style=\"display:none;\">\n",
              "\n",
              "  <svg xmlns=\"http://www.w3.org/2000/svg\" height=\"24px\" viewBox=\"0 -960 960 960\">\n",
              "    <path d=\"M120-120v-720h720v720H120Zm60-500h600v-160H180v160Zm220 220h160v-160H400v160Zm0 220h160v-160H400v160ZM180-400h160v-160H180v160Zm440 0h160v-160H620v160ZM180-180h160v-160H180v160Zm440 0h160v-160H620v160Z\"/>\n",
              "  </svg>\n",
              "    </button>\n",
              "\n",
              "  <style>\n",
              "    .colab-df-container {\n",
              "      display:flex;\n",
              "      gap: 12px;\n",
              "    }\n",
              "\n",
              "    .colab-df-convert {\n",
              "      background-color: #E8F0FE;\n",
              "      border: none;\n",
              "      border-radius: 50%;\n",
              "      cursor: pointer;\n",
              "      display: none;\n",
              "      fill: #1967D2;\n",
              "      height: 32px;\n",
              "      padding: 0 0 0 0;\n",
              "      width: 32px;\n",
              "    }\n",
              "\n",
              "    .colab-df-convert:hover {\n",
              "      background-color: #E2EBFA;\n",
              "      box-shadow: 0px 1px 2px rgba(60, 64, 67, 0.3), 0px 1px 3px 1px rgba(60, 64, 67, 0.15);\n",
              "      fill: #174EA6;\n",
              "    }\n",
              "\n",
              "    .colab-df-buttons div {\n",
              "      margin-bottom: 4px;\n",
              "    }\n",
              "\n",
              "    [theme=dark] .colab-df-convert {\n",
              "      background-color: #3B4455;\n",
              "      fill: #D2E3FC;\n",
              "    }\n",
              "\n",
              "    [theme=dark] .colab-df-convert:hover {\n",
              "      background-color: #434B5C;\n",
              "      box-shadow: 0px 1px 3px 1px rgba(0, 0, 0, 0.15);\n",
              "      filter: drop-shadow(0px 1px 2px rgba(0, 0, 0, 0.3));\n",
              "      fill: #FFFFFF;\n",
              "    }\n",
              "  </style>\n",
              "\n",
              "    <script>\n",
              "      const buttonEl =\n",
              "        document.querySelector('#df-79d4771d-7904-4eff-bb74-d62261e4b2c4 button.colab-df-convert');\n",
              "      buttonEl.style.display =\n",
              "        google.colab.kernel.accessAllowed ? 'block' : 'none';\n",
              "\n",
              "      async function convertToInteractive(key) {\n",
              "        const element = document.querySelector('#df-79d4771d-7904-4eff-bb74-d62261e4b2c4');\n",
              "        const dataTable =\n",
              "          await google.colab.kernel.invokeFunction('convertToInteractive',\n",
              "                                                    [key], {});\n",
              "        if (!dataTable) return;\n",
              "\n",
              "        const docLinkHtml = 'Like what you see? Visit the ' +\n",
              "          '<a target=\"_blank\" href=https://colab.research.google.com/notebooks/data_table.ipynb>data table notebook</a>'\n",
              "          + ' to learn more about interactive tables.';\n",
              "        element.innerHTML = '';\n",
              "        dataTable['output_type'] = 'display_data';\n",
              "        await google.colab.output.renderOutput(dataTable, element);\n",
              "        const docLink = document.createElement('div');\n",
              "        docLink.innerHTML = docLinkHtml;\n",
              "        element.appendChild(docLink);\n",
              "      }\n",
              "    </script>\n",
              "  </div>\n",
              "\n",
              "\n",
              "<div id=\"df-02c541e5-4ca5-444e-8e36-bc63282d1324\">\n",
              "  <button class=\"colab-df-quickchart\" onclick=\"quickchart('df-02c541e5-4ca5-444e-8e36-bc63282d1324')\"\n",
              "            title=\"Suggest charts.\"\n",
              "            style=\"display:none;\">\n",
              "\n",
              "<svg xmlns=\"http://www.w3.org/2000/svg\" height=\"24px\"viewBox=\"0 0 24 24\"\n",
              "     width=\"24px\">\n",
              "    <g>\n",
              "        <path d=\"M19 3H5c-1.1 0-2 .9-2 2v14c0 1.1.9 2 2 2h14c1.1 0 2-.9 2-2V5c0-1.1-.9-2-2-2zM9 17H7v-7h2v7zm4 0h-2V7h2v10zm4 0h-2v-4h2v4z\"/>\n",
              "    </g>\n",
              "</svg>\n",
              "  </button>\n",
              "\n",
              "<style>\n",
              "  .colab-df-quickchart {\n",
              "      --bg-color: #E8F0FE;\n",
              "      --fill-color: #1967D2;\n",
              "      --hover-bg-color: #E2EBFA;\n",
              "      --hover-fill-color: #174EA6;\n",
              "      --disabled-fill-color: #AAA;\n",
              "      --disabled-bg-color: #DDD;\n",
              "  }\n",
              "\n",
              "  [theme=dark] .colab-df-quickchart {\n",
              "      --bg-color: #3B4455;\n",
              "      --fill-color: #D2E3FC;\n",
              "      --hover-bg-color: #434B5C;\n",
              "      --hover-fill-color: #FFFFFF;\n",
              "      --disabled-bg-color: #3B4455;\n",
              "      --disabled-fill-color: #666;\n",
              "  }\n",
              "\n",
              "  .colab-df-quickchart {\n",
              "    background-color: var(--bg-color);\n",
              "    border: none;\n",
              "    border-radius: 50%;\n",
              "    cursor: pointer;\n",
              "    display: none;\n",
              "    fill: var(--fill-color);\n",
              "    height: 32px;\n",
              "    padding: 0;\n",
              "    width: 32px;\n",
              "  }\n",
              "\n",
              "  .colab-df-quickchart:hover {\n",
              "    background-color: var(--hover-bg-color);\n",
              "    box-shadow: 0 1px 2px rgba(60, 64, 67, 0.3), 0 1px 3px 1px rgba(60, 64, 67, 0.15);\n",
              "    fill: var(--button-hover-fill-color);\n",
              "  }\n",
              "\n",
              "  .colab-df-quickchart-complete:disabled,\n",
              "  .colab-df-quickchart-complete:disabled:hover {\n",
              "    background-color: var(--disabled-bg-color);\n",
              "    fill: var(--disabled-fill-color);\n",
              "    box-shadow: none;\n",
              "  }\n",
              "\n",
              "  .colab-df-spinner {\n",
              "    border: 2px solid var(--fill-color);\n",
              "    border-color: transparent;\n",
              "    border-bottom-color: var(--fill-color);\n",
              "    animation:\n",
              "      spin 1s steps(1) infinite;\n",
              "  }\n",
              "\n",
              "  @keyframes spin {\n",
              "    0% {\n",
              "      border-color: transparent;\n",
              "      border-bottom-color: var(--fill-color);\n",
              "      border-left-color: var(--fill-color);\n",
              "    }\n",
              "    20% {\n",
              "      border-color: transparent;\n",
              "      border-left-color: var(--fill-color);\n",
              "      border-top-color: var(--fill-color);\n",
              "    }\n",
              "    30% {\n",
              "      border-color: transparent;\n",
              "      border-left-color: var(--fill-color);\n",
              "      border-top-color: var(--fill-color);\n",
              "      border-right-color: var(--fill-color);\n",
              "    }\n",
              "    40% {\n",
              "      border-color: transparent;\n",
              "      border-right-color: var(--fill-color);\n",
              "      border-top-color: var(--fill-color);\n",
              "    }\n",
              "    60% {\n",
              "      border-color: transparent;\n",
              "      border-right-color: var(--fill-color);\n",
              "    }\n",
              "    80% {\n",
              "      border-color: transparent;\n",
              "      border-right-color: var(--fill-color);\n",
              "      border-bottom-color: var(--fill-color);\n",
              "    }\n",
              "    90% {\n",
              "      border-color: transparent;\n",
              "      border-bottom-color: var(--fill-color);\n",
              "    }\n",
              "  }\n",
              "</style>\n",
              "\n",
              "  <script>\n",
              "    async function quickchart(key) {\n",
              "      const quickchartButtonEl =\n",
              "        document.querySelector('#' + key + ' button');\n",
              "      quickchartButtonEl.disabled = true;  // To prevent multiple clicks.\n",
              "      quickchartButtonEl.classList.add('colab-df-spinner');\n",
              "      try {\n",
              "        const charts = await google.colab.kernel.invokeFunction(\n",
              "            'suggestCharts', [key], {});\n",
              "      } catch (error) {\n",
              "        console.error('Error during call to suggestCharts:', error);\n",
              "      }\n",
              "      quickchartButtonEl.classList.remove('colab-df-spinner');\n",
              "      quickchartButtonEl.classList.add('colab-df-quickchart-complete');\n",
              "    }\n",
              "    (() => {\n",
              "      let quickchartButtonEl =\n",
              "        document.querySelector('#df-02c541e5-4ca5-444e-8e36-bc63282d1324 button');\n",
              "      quickchartButtonEl.style.display =\n",
              "        google.colab.kernel.accessAllowed ? 'block' : 'none';\n",
              "    })();\n",
              "  </script>\n",
              "</div>\n",
              "    </div>\n",
              "  </div>\n"
            ]
          },
          "metadata": {},
          "execution_count": 34
        }
      ]
    },
    {
      "cell_type": "code",
      "source": [
        "print(tree_dataset.shape) # N=5132890, 28 columns expected"
      ],
      "metadata": {
        "colab": {
          "base_uri": "https://localhost:8080/"
        },
        "id": "oWn0lrM1iqt5",
        "outputId": "284c57c0-bc4a-4526-89f0-c6fd443ee774"
      },
      "execution_count": 35,
      "outputs": [
        {
          "output_type": "stream",
          "name": "stdout",
          "text": [
            "(5660237, 28)\n"
          ]
        }
      ]
    },
    {
      "cell_type": "code",
      "source": [
        "tree_dataset.isnull().sum()"
      ],
      "metadata": {
        "colab": {
          "base_uri": "https://localhost:8080/"
        },
        "id": "gEnUk2Nqjgoz",
        "outputId": "a5244e26-9ad7-4704-9ef5-49a9fde17e0c"
      },
      "execution_count": 36,
      "outputs": [
        {
          "output_type": "execute_result",
          "data": {
            "text/plain": [
              "common_name                          892476\n",
              "scientific_name                      529297\n",
              "city                                    505\n",
              "state                                    31\n",
              "longitude_coordinate                 751709\n",
              "latitude_coordinate                  751578\n",
              "address                             1254389\n",
              "native                                    0\n",
              "height_binned_M                     4996887\n",
              "diameter_breast_height_binned_CM    1574755\n",
              "greater_metro                             0\n",
              "city_ID                             2017770\n",
              "tree_ID                             5660237\n",
              "planted_date                        5213598\n",
              "most_recent_observation             2127842\n",
              "retired_date                        5658047\n",
              "most_recent_observation_type        3198777\n",
              "location_type                       3469760\n",
              "zipcode                             4768676\n",
              "neighborhood                        5132935\n",
              "location_name                       5310350\n",
              "ward                                5384826\n",
              "district                            5509706\n",
              "overhead_utility                    5017235\n",
              "diameter_breast_height_CM           2785979\n",
              "condition                           3038500\n",
              "height_M                            4951094\n",
              "percent_population                  5660237\n",
              "dtype: int64"
            ]
          },
          "metadata": {},
          "execution_count": 36
        }
      ]
    },
    {
      "cell_type": "code",
      "source": [
        "#tree_dataset = tree_dataset.drop(['height_binned_M', 'tree_ID', 'planted_date', 'retired_date', 'location_type', 'zipcode', 'address', 'neighborhood', 'location_name', 'ward', 'district', 'overhead_utility', 'condition', 'percent_population'], axis='columns')"
      ],
      "metadata": {
        "id": "pVsHULjekSFY"
      },
      "execution_count": 37,
      "outputs": []
    },
    {
      "cell_type": "code",
      "source": [
        "#tree_dataset.isnull().sum()"
      ],
      "metadata": {
        "id": "e0xKfKPdlbGI"
      },
      "execution_count": 38,
      "outputs": []
    },
    {
      "cell_type": "code",
      "source": [
        "#quantitative_tree = tree_dataset[['longitude_coordinate', 'latitude_coordinate', 'city_ID', 'most_recent_observation', 'diameter_breast_height_CM', 'height_M']]\n",
        "#qualitative_tree = tree_dataset[['common_name', 'scientific_name', 'city', 'state', 'native', 'diameter_breast_height_binned_CM', 'greater_metro', 'most_recent_observation_type']]"
      ],
      "metadata": {
        "id": "g3yJU_P6nZGO"
      },
      "execution_count": 39,
      "outputs": []
    },
    {
      "cell_type": "code",
      "source": [
        "count_species = tree_dataset['scientific_name'].value_counts().sort_values(ascending=False).head(10) # excludes NA by default\n",
        "count_species.plot(kind='barh')"
      ],
      "metadata": {
        "colab": {
          "base_uri": "https://localhost:8080/",
          "height": 448
        },
        "id": "5rCbHZ-DzIl3",
        "outputId": "018ea8e6-40c0-4a2a-f3f8-a2e578c167da"
      },
      "execution_count": 40,
      "outputs": [
        {
          "output_type": "execute_result",
          "data": {
            "text/plain": [
              "<Axes: >"
            ]
          },
          "metadata": {},
          "execution_count": 40
        },
        {
          "output_type": "display_data",
          "data": {
            "text/plain": [
              "<Figure size 640x480 with 1 Axes>"
            ],
            "image/png": "[encoded data removed]"
          },
          "metadata": {}
        }
      ]
    },
    {
      "cell_type": "code",
      "source": [
        "tree_dataset['state'].value_counts()"
      ],
      "metadata": {
        "colab": {
          "base_uri": "https://localhost:8080/"
        },
        "id": "7ADqcGJy43fH",
        "outputId": "1a59df3f-ff12-4071-86c2-487551f67281"
      },
      "execution_count": 41,
      "outputs": [
        {
          "output_type": "execute_result",
          "data": {
            "text/plain": [
              "California              2055564\n",
              "New York                 880839\n",
              "Colorado                 367875\n",
              "Texas                    271854\n",
              "Oregon                   218602\n",
              "District of Columbia     190991\n",
              "Minnesota                190766\n",
              "Washington               165623\n",
              "Ohio                     151937\n",
              "Florida                  128731\n",
              "Wisconsin                128302\n",
              "Maryland                 121296\n",
              "Louisiana                105813\n",
              "Michigan                 105324\n",
              "Indiana                   98942\n",
              "Missouri                  83594\n",
              "South Dakota              63024\n",
              "Pennsylvania              45703\n",
              "Kansas                    45148\n",
              "Georgia                   41307\n",
              "Nevada                    39193\n",
              "Kentucky                  32711\n",
              "Rhode Island              24525\n",
              "North Carolina            22619\n",
              "Massachusetts             18787\n",
              "Iowa                      16875\n",
              "Hawaii                    15440\n",
              "Tennessee                 12059\n",
              "Oklahoma                  10000\n",
              "Virginia                   3272\n",
              "New Mexico                 2502\n",
              "New Jersey                  774\n",
              "Arizona                     214\n",
              "Name: state, dtype: int64"
            ]
          },
          "metadata": {},
          "execution_count": 41
        }
      ]
    },
    {
      "cell_type": "code",
      "source": [
        "california_trees = tree_dataset.loc[tree_dataset['state']=='California']"
      ],
      "metadata": {
        "id": "jjsSTjWD88y9"
      },
      "execution_count": 42,
      "outputs": []
    },
    {
      "cell_type": "code",
      "source": [
        "california_trees['city'].value_counts()"
      ],
      "metadata": {
        "colab": {
          "base_uri": "https://localhost:8080/"
        },
        "id": "t_Glgkyv9v4M",
        "outputId": "e4bfccc5-fbb6-4c12-a4a2-522fb489016c"
      },
      "execution_count": 43,
      "outputs": [
        {
          "output_type": "execute_result",
          "data": {
            "text/plain": [
              "Los Angeles         720140\n",
              "San Jose            347669\n",
              "San Diego           212304\n",
              "San Francisco       188462\n",
              "Stockton             98300\n",
              "Sacramento           87191\n",
              "Rancho Cucamonga     82947\n",
              "Anaheim              79651\n",
              "Ontario              58577\n",
              "Irvine               58364\n",
              "Huntington Beach     55828\n",
              "Oakland              38613\n",
              "Garden Grove         17522\n",
              "Fresno                6980\n",
              "Santa Rosa            3016\n",
              "Name: city, dtype: int64"
            ]
          },
          "metadata": {},
          "execution_count": 43
        }
      ]
    },
    {
      "cell_type": "code",
      "source": [
        "top_cities = ['Los Angeles', 'San Jose', 'San Diego', 'San Francisco', 'Stockton']\n",
        "top_cities_trees = california_trees.loc[california_trees['city'].isin(top_cities)]"
      ],
      "metadata": {
        "id": "qGPjE2HX-NmB"
      },
      "execution_count": 44,
      "outputs": []
    },
    {
      "cell_type": "code",
      "source": [
        "top_species = ['Platanus acerifolia', 'Lagerstroemia indica', 'Acer platanoides', 'Gleditsia triacanthos', 'Pyrus calleryana']\n",
        "top_cities_top_trees = top_cities_trees.loc[top_cities_trees['scientific_name'].isin(top_species)]"
      ],
      "metadata": {
        "id": "8QeWn-j1_gte"
      },
      "execution_count": 45,
      "outputs": []
    },
    {
      "cell_type": "code",
      "source": [
        "weight_counts = {}\n",
        "tree_counts = []\n",
        "\n",
        "for species in top_species:\n",
        "  for city in top_cities:\n",
        "    tree_counts.append(top_cities_top_trees.loc[(top_cities_top_trees['scientific_name'] == species) & (top_cities_top_trees['city'] == city)].shape[0])\n",
        "  if (len(tree_counts)==len(top_cities)):\n",
        "    weight_counts.update({species: np.array(tree_counts)})\n",
        "    tree_counts = []"
      ],
      "metadata": {
        "id": "3986H3_iHcV9"
      },
      "execution_count": 46,
      "outputs": []
    },
    {
      "cell_type": "code",
      "source": [
        "cities = tuple(top_cities)\n",
        "\n",
        "width = 0.5\n",
        "\n",
        "fig, ax = plt.subplots()\n",
        "bottom = np.zeros(5)\n",
        "\n",
        "for boolean, weight_count in weight_counts.items():\n",
        "    p = ax.bar(cities, weight_count, width, label=boolean, bottom=bottom)\n",
        "    bottom += weight_count\n",
        "\n",
        "ax.set_title(\"...\")\n",
        "ax.legend(loc=\"upper right\")\n",
        "\n",
        "plt.show()"
      ],
      "metadata": {
        "colab": {
          "base_uri": "https://localhost:8080/",
          "height": 452
        },
        "id": "KrnzjwonHOHB",
        "outputId": "de77f326-92d8-43cb-cb26-23eaf627cac0"
      },
      "execution_count": 47,
      "outputs": [
        {
          "output_type": "display_data",
          "data": {
            "text/plain": [
              "<Figure size 640x480 with 1 Axes>"
            ],
            "image/png": "[encoded data removed]"
          },
          "metadata": {}
        }
      ]
    }
  ]
}