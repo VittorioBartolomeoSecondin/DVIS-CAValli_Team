{
  "nbformat": 4,
  "nbformat_minor": 0,
  "metadata": {
    "colab": {
      "provenance": [],
      "include_colab_link": true
    },
    "kernelspec": {
      "name": "python3",
      "display_name": "Python 3"
    },
    "language_info": {
      "name": "python"
    }
  },
  "cells": [
    {
      "cell_type": "markdown",
      "metadata": {
        "id": "view-in-github",
        "colab_type": "text"
      },
      "source": [
        "<a href=\"https://colab.research.google.com/github/VittorioBartolomeoSecondin/DVIS-CAValli_Team/blob/main/Maps.ipynb\" target=\"_parent\"><img src=\"https://colab.research.google.com/assets/colab-badge.svg\" alt=\"Open In Colab\"/></a>"
      ]
    },
    {
      "cell_type": "markdown",
      "source": [
        "# Importing libraries and connecting to Google Drive"
      ],
      "metadata": {
        "id": "fEUxDlj-TJlh"
      }
    },
    {
      "cell_type": "code",
      "execution_count": 1,
      "metadata": {
        "colab": {
          "base_uri": "https://localhost:8080/"
        },
        "id": "N-5lfwtzTD_p",
        "outputId": "3263ea1c-d4c1-425c-913d-d0f043903770"
      },
      "outputs": [
        {
          "output_type": "stream",
          "name": "stdout",
          "text": [
            "Mounted at /content/drive\n"
          ]
        }
      ],
      "source": [
        "import pandas as pd\n",
        "import matplotlib.pyplot as plt\n",
        "import numpy as np\n",
        "import glob\n",
        "import re\n",
        "import json\n",
        "import csv\n",
        "import requests\n",
        "import os\n",
        "import zipfile\n",
        "from google.colab import files\n",
        "from google.colab import drive\n",
        "drive.mount('/content/drive') # turned out to be a good workaround to load a huge amount of data and keep it available"
      ]
    },
    {
      "cell_type": "markdown",
      "source": [
        "# Load tree_dataset"
      ],
      "metadata": {
        "id": "wduOcyh_2j2k"
      }
    },
    {
      "cell_type": "code",
      "source": [
        "tree_dataset = pd.read_csv(\"/content/drive/MyDrive/tree_dataset/final_dataset/tree_dataset.csv\", low_memory=False)"
      ],
      "metadata": {
        "id": "-yb7Zoj7Uwl3"
      },
      "execution_count": 2,
      "outputs": []
    },
    {
      "cell_type": "markdown",
      "source": [
        "# Computing tree abundance for each state"
      ],
      "metadata": {
        "id": "db3a-MbTX2NY"
      }
    },
    {
      "cell_type": "code",
      "source": [
        "def create_abundance_csv(csv_name, header, name, abundance, postal):\n",
        "  with open(csv_name, 'w', encoding='UTF8', newline='') as f:\n",
        "    writer = csv.writer(f)\n",
        "    writer.writerow(header)\n",
        "    for idx in range(len(state)):\n",
        "      row = [name[idx], abundance[idx], postal.get(name[idx])]\n",
        "      writer.writerow(row)"
      ],
      "metadata": {
        "id": "IyRaqiBQoE-l"
      },
      "execution_count": 3,
      "outputs": []
    },
    {
      "cell_type": "code",
      "source": [
        "postal_codes = {\n",
        "    \"Alabama\": \"AL\",\n",
        "    \"Alaska\": \"AK\",\n",
        "    \"Arizona\": \"AZ\",\n",
        "    \"Arkansas\": \"AR\",\n",
        "    \"California\": \"CA\",\n",
        "    \"Colorado\": \"CO\",\n",
        "    \"Connecticut\": \"CT\",\n",
        "    \"Delaware\": \"DE\",\n",
        "    \"District of Columbia\": \"DC\",\n",
        "    \"Florida\": \"FL\",\n",
        "    \"Georgia\": \"GA\",\n",
        "    \"Hawaii\": \"HI\",\n",
        "    \"Idaho\": \"ID\",\n",
        "    \"Illinois\": \"IL\",\n",
        "    \"Indiana\": \"IN\",\n",
        "    \"Iowa\": \"IA\",\n",
        "    \"Kansas\": \"KS\",\n",
        "    \"Kentucky\": \"KY\",\n",
        "    \"Louisiana\": \"LA\",\n",
        "    \"Maine\": \"ME\",\n",
        "    \"Maryland\": \"MD\",\n",
        "    \"Massachusetts\": \"MA\",\n",
        "    \"Michigan\": \"MI\",\n",
        "    \"Minnesota\": \"MN\",\n",
        "    \"Mississippi\": \"MS\",\n",
        "    \"Missouri\": \"MO\",\n",
        "    \"Montana\": \"MT\",\n",
        "    \"Nebraska\": \"NE\",\n",
        "    \"Nevada\": \"NV\",\n",
        "    \"New Hampshire\": \"NH\",\n",
        "    \"New Jersey\": \"NJ\",\n",
        "    \"New Mexico\": \"NM\",\n",
        "    \"New York\": \"NY\",\n",
        "    \"North Carolina\": \"NC\",\n",
        "    \"North Dakota\": \"ND\",\n",
        "    \"Ohio\": \"OH\",\n",
        "    \"Oklahoma\": \"OK\",\n",
        "    \"Oregon\": \"OR\",\n",
        "    \"Pennsylvania\": \"PA\",\n",
        "    \"Puerto Rico\": \"PR\",\n",
        "    \"Rhode Island\": \"RI\",\n",
        "    \"South Carolina\": \"SC\",\n",
        "    \"South Dakota\": \"SD\",\n",
        "    \"Tennessee\": \"TN\",\n",
        "    \"Texas\": \"TX\",\n",
        "    \"Utah\": \"UT\",\n",
        "    \"Vermont\": \"VT\",\n",
        "    \"Virginia\": \"VA\",\n",
        "    \"Virgin Islands\": \"VI\",\n",
        "    \"Washington\": \"WA\",\n",
        "    \"West Virginia\": \"WV\",\n",
        "    \"Wisconsin\": \"WI\",\n",
        "    \"Wyoming\": \"WY\"\n",
        "}"
      ],
      "metadata": {
        "id": "tXRzRWLzM7ww"
      },
      "execution_count": 4,
      "outputs": []
    },
    {
      "cell_type": "code",
      "source": [
        "csv_name = \"state_abundance_postal.csv\"\n",
        "header = ['state', 'abundance', 'postal']\n",
        "state = list(tree_dataset['state'].value_counts().index)\n",
        "abundance = list(tree_dataset['state'].value_counts().values)\n",
        "create_abundance_csv(csv_name, header, state, abundance, postal_codes)"
      ],
      "metadata": {
        "id": "aT2WX1DhM7z5"
      },
      "execution_count": 5,
      "outputs": []
    },
    {
      "cell_type": "markdown",
      "source": [
        "# Choropleth: JSON file"
      ],
      "metadata": {
        "id": "RZFwZGcAt-XU"
      }
    },
    {
      "cell_type": "code",
      "source": [
        "abundance_df = pd.read_csv(\"/content/state_abundance_postal.csv\", low_memory=False)\n",
        "abundance_dict = {}\n",
        "\n",
        "for idx in range(abundance_df.shape[0]):\n",
        "  name = list(abundance_df.iloc[idx])[0]\n",
        "  abundance = list(abundance_df.iloc[idx])[1]\n",
        "  postal = list(abundance_df.iloc[idx])[2]\n",
        "  abundance_dict[postal] = [name, abundance]\n",
        "\n",
        "for key, value in postal_codes.items():\n",
        "  if abundance_dict.get(value) is None:\n",
        "    name = key\n",
        "    abundance = 0\n",
        "    abundance_dict[value] = [name, abundance]\n",
        "  else:\n",
        "    name = abundance_dict.get(value)[0]\n",
        "    abundance = abundance_dict.get(value)[1]"
      ],
      "metadata": {
        "id": "iEZcy2S43o5K"
      },
      "execution_count": 6,
      "outputs": []
    },
    {
      "cell_type": "code",
      "source": [
        "json_path = \"/content/drive/MyDrive/tree_dataset/final_dataset/us-states.json\"\n",
        "with open(json_path, 'r') as file:\n",
        "    json_file = json.load(file)"
      ],
      "metadata": {
        "id": "KbuSkiNru-SO"
      },
      "execution_count": 7,
      "outputs": []
    },
    {
      "cell_type": "code",
      "source": [
        "areas_dict = {\n",
        "    'Alabama': 135767,\n",
        "    'Alaska': 1717855,\n",
        "    'Arizona': 295234,\n",
        "    'Arkansas': 137733,\n",
        "    'California': 423968,\n",
        "    'Colorado': 269601,\n",
        "    'Connecticut': 12534,\n",
        "    'Delaware': 5047,\n",
        "    'District of Columbia': 177,\n",
        "    'Florida': 170304,\n",
        "    'Georgia': 148958,\n",
        "    'Hawaii': 16637,\n",
        "    'Idaho': 216443,\n",
        "    'Illinois': 144774,\n",
        "    'Indiana': 92789,\n",
        "    'Iowa': 145746,\n",
        "    'Kansas': 211754,\n",
        "    'Kentucky': 102908,\n",
        "    'Louisiana': 135659,\n",
        "    'Maine': 91646,\n",
        "    'Maryland': 25313,\n",
        "    'Massachusetts': 20203,\n",
        "    'Michigan': 250488,\n",
        "    'Minnesota': 225163,\n",
        "    'Mississippi': 120383,\n",
        "    'Missouri': 180560,\n",
        "    'Montana': 380832,\n",
        "    'Nebraska': 199097,\n",
        "    'Nevada': 286380,\n",
        "    'New Hampshire': 23186,\n",
        "    'New Jersey': 19050,\n",
        "    'New Mexico': 314917,\n",
        "    'New York': 141297,\n",
        "    'North Carolina': 139390,\n",
        "    'North Dakota': 178712,\n",
        "    'Ohio': 116096,\n",
        "    'Oklahoma': 177846,\n",
        "    'Oregon': 248608,\n",
        "    'Pennsylvania': 119283,\n",
        "    'Rhode Island': 2678,\n",
        "    'South Carolina': 82931,\n",
        "    'South Dakota': 199729,\n",
        "    'Tennessee': 109153,\n",
        "    'Texas': 695662,\n",
        "    'Utah': 219882,\n",
        "    'Vermont': 24906,\n",
        "    'Virginia': 110787,\n",
        "    'Washington': 184666,\n",
        "    'West Virginia': 62259,\n",
        "    'Wisconsin': 140268,\n",
        "    'Wyoming': 253335\n",
        "}"
      ],
      "metadata": {
        "id": "0CLZWwpT7jRL"
      },
      "execution_count": 8,
      "outputs": []
    },
    {
      "cell_type": "code",
      "source": [
        "for idx in range(len(json_file['objects']['states'].get('geometries'))):\n",
        "  properties = json_file['objects']['states'].get('geometries')[idx]['properties']\n",
        "  postal = properties['postal']\n",
        "  try:\n",
        "    name, abundance = abundance_dict[postal]\n",
        "    area = areas_dict[name]\n",
        "    properties['name'] = name\n",
        "    properties['abundance'] = str(abundance)\n",
        "    properties['area'] = area\n",
        "    properties['density'] = round(abundance / area, 5)\n",
        "    properties['density_1000'] = round(abundance / area * 1000, 2)\n",
        "    print(properties)\n",
        "  except:\n",
        "    pass"
      ],
      "metadata": {
        "colab": {
          "base_uri": "https://localhost:8080/"
        },
        "id": "V1B3jxJhuCYD",
        "outputId": "244676fa-a742-4456-af86-be32c27f847c"
      },
      "execution_count": 9,
      "outputs": [
        {
          "output_type": "stream",
          "name": "stdout",
          "text": [
            "{'postal': 'AK', 'name': 'Alaska', 'abundance': '0', 'area': 1717855, 'density': 0.0, 'density_1000': 0.0}\n",
            "{'postal': 'AL', 'name': 'Alabama', 'abundance': '0', 'area': 135767, 'density': 0.0, 'density_1000': 0.0}\n",
            "{'postal': 'AR', 'name': 'Arkansas', 'abundance': '0', 'area': 137733, 'density': 0.0, 'density_1000': 0.0}\n",
            "{'postal': 'AZ', 'name': 'Arizona', 'abundance': '214', 'area': 295234, 'density': 0.00072, 'density_1000': 0.72}\n",
            "{'postal': 'CA', 'name': 'California', 'abundance': '1806085', 'area': 423968, 'density': 4.25996, 'density_1000': 4259.96}\n",
            "{'postal': 'CO', 'name': 'Colorado', 'abundance': '354878', 'area': 269601, 'density': 1.31631, 'density_1000': 1316.31}\n",
            "{'postal': 'CT', 'name': 'Connecticut', 'abundance': '0', 'area': 12534, 'density': 0.0, 'density_1000': 0.0}\n",
            "{'postal': 'DC', 'name': 'District of Columbia', 'abundance': '175847', 'area': 177, 'density': 993.48588, 'density_1000': 993485.88}\n",
            "{'postal': 'DE', 'name': 'Delaware', 'abundance': '0', 'area': 5047, 'density': 0.0, 'density_1000': 0.0}\n",
            "{'postal': 'FL', 'name': 'Florida', 'abundance': '124208', 'area': 170304, 'density': 0.72933, 'density_1000': 729.33}\n",
            "{'postal': 'GA', 'name': 'Georgia', 'abundance': '41175', 'area': 148958, 'density': 0.27642, 'density_1000': 276.42}\n",
            "{'postal': 'HI', 'name': 'Hawaii', 'abundance': '15150', 'area': 16637, 'density': 0.91062, 'density_1000': 910.62}\n",
            "{'postal': 'IA', 'name': 'Iowa', 'abundance': '15805', 'area': 145746, 'density': 0.10844, 'density_1000': 108.44}\n",
            "{'postal': 'ID', 'name': 'Idaho', 'abundance': '0', 'area': 216443, 'density': 0.0, 'density_1000': 0.0}\n",
            "{'postal': 'IL', 'name': 'Illinois', 'abundance': '0', 'area': 144774, 'density': 0.0, 'density_1000': 0.0}\n",
            "{'postal': 'IN', 'name': 'Indiana', 'abundance': '97227', 'area': 92789, 'density': 1.04783, 'density_1000': 1047.83}\n",
            "{'postal': 'KS', 'name': 'Kansas', 'abundance': '44767', 'area': 211754, 'density': 0.21141, 'density_1000': 211.41}\n",
            "{'postal': 'KY', 'name': 'Kentucky', 'abundance': '32711', 'area': 102908, 'density': 0.31787, 'density_1000': 317.87}\n",
            "{'postal': 'LA', 'name': 'Louisiana', 'abundance': '105786', 'area': 135659, 'density': 0.77979, 'density_1000': 779.79}\n",
            "{'postal': 'MA', 'name': 'Massachusetts', 'abundance': '16735', 'area': 20203, 'density': 0.82834, 'density_1000': 828.34}\n",
            "{'postal': 'MD', 'name': 'Maryland', 'abundance': '121279', 'area': 25313, 'density': 4.79117, 'density_1000': 4791.17}\n",
            "{'postal': 'ME', 'name': 'Maine', 'abundance': '0', 'area': 91646, 'density': 0.0, 'density_1000': 0.0}\n",
            "{'postal': 'MI', 'name': 'Michigan', 'abundance': '92023', 'area': 250488, 'density': 0.36737, 'density_1000': 367.37}\n",
            "{'postal': 'MN', 'name': 'Minnesota', 'abundance': '176834', 'area': 225163, 'density': 0.78536, 'density_1000': 785.36}\n",
            "{'postal': 'MO', 'name': 'Missouri', 'abundance': '83533', 'area': 180560, 'density': 0.46263, 'density_1000': 462.63}\n",
            "{'postal': 'MS', 'name': 'Mississippi', 'abundance': '0', 'area': 120383, 'density': 0.0, 'density_1000': 0.0}\n",
            "{'postal': 'MT', 'name': 'Montana', 'abundance': '0', 'area': 380832, 'density': 0.0, 'density_1000': 0.0}\n",
            "{'postal': 'NC', 'name': 'North Carolina', 'abundance': '22586', 'area': 139390, 'density': 0.16203, 'density_1000': 162.03}\n",
            "{'postal': 'ND', 'name': 'North Dakota', 'abundance': '0', 'area': 178712, 'density': 0.0, 'density_1000': 0.0}\n",
            "{'postal': 'NE', 'name': 'Nebraska', 'abundance': '0', 'area': 199097, 'density': 0.0, 'density_1000': 0.0}\n",
            "{'postal': 'NH', 'name': 'New Hampshire', 'abundance': '0', 'area': 23186, 'density': 0.0, 'density_1000': 0.0}\n",
            "{'postal': 'NJ', 'name': 'New Jersey', 'abundance': '774', 'area': 19050, 'density': 0.04063, 'density_1000': 40.63}\n",
            "{'postal': 'NM', 'name': 'New Mexico', 'abundance': '2485', 'area': 314917, 'density': 0.00789, 'density_1000': 7.89}\n",
            "{'postal': 'NV', 'name': 'Nevada', 'abundance': '32006', 'area': 286380, 'density': 0.11176, 'density_1000': 111.76}\n",
            "{'postal': 'NY', 'name': 'New York', 'abundance': '787349', 'area': 141297, 'density': 5.5723, 'density_1000': 5572.3}\n",
            "{'postal': 'OH', 'name': 'Ohio', 'abundance': '140876', 'area': 116096, 'density': 1.21344, 'density_1000': 1213.44}\n",
            "{'postal': 'OK', 'name': 'Oklahoma', 'abundance': '8871', 'area': 177846, 'density': 0.04988, 'density_1000': 49.88}\n",
            "{'postal': 'OR', 'name': 'Oregon', 'abundance': '216751', 'area': 248608, 'density': 0.87186, 'density_1000': 871.86}\n",
            "{'postal': 'PA', 'name': 'Pennsylvania', 'abundance': '42079', 'area': 119283, 'density': 0.35277, 'density_1000': 352.77}\n",
            "{'postal': 'RI', 'name': 'Rhode Island', 'abundance': '24082', 'area': 2678, 'density': 8.99253, 'density_1000': 8992.53}\n",
            "{'postal': 'SC', 'name': 'South Carolina', 'abundance': '0', 'area': 82931, 'density': 0.0, 'density_1000': 0.0}\n",
            "{'postal': 'SD', 'name': 'South Dakota', 'abundance': '61304', 'area': 199729, 'density': 0.30694, 'density_1000': 306.94}\n",
            "{'postal': 'TN', 'name': 'Tennessee', 'abundance': '10411', 'area': 109153, 'density': 0.09538, 'density_1000': 95.38}\n",
            "{'postal': 'TX', 'name': 'Texas', 'abundance': '264285', 'area': 695662, 'density': 0.3799, 'density_1000': 379.9}\n",
            "{'postal': 'UT', 'name': 'Utah', 'abundance': '0', 'area': 219882, 'density': 0.0, 'density_1000': 0.0}\n",
            "{'postal': 'VA', 'name': 'Virginia', 'abundance': '1815', 'area': 110787, 'density': 0.01638, 'density_1000': 16.38}\n",
            "{'postal': 'VT', 'name': 'Vermont', 'abundance': '0', 'area': 24906, 'density': 0.0, 'density_1000': 0.0}\n",
            "{'postal': 'WA', 'name': 'Washington', 'abundance': '164903', 'area': 184666, 'density': 0.89298, 'density_1000': 892.98}\n",
            "{'postal': 'WI', 'name': 'Wisconsin', 'abundance': '127623', 'area': 140268, 'density': 0.90985, 'density_1000': 909.85}\n",
            "{'postal': 'WV', 'name': 'West Virginia', 'abundance': '0', 'area': 62259, 'density': 0.0, 'density_1000': 0.0}\n",
            "{'postal': 'WY', 'name': 'Wyoming', 'abundance': '0', 'area': 253335, 'density': 0.0, 'density_1000': 0.0}\n"
          ]
        }
      ]
    },
    {
      "cell_type": "code",
      "source": [
        "out_path = \"/content/choropleth.json\"\n",
        "with open(out_path, 'w') as file:\n",
        "    json.dump(json_file, file)"
      ],
      "metadata": {
        "id": "H_HHnLBd6piy"
      },
      "execution_count": 10,
      "outputs": []
    },
    {
      "cell_type": "markdown",
      "source": [
        "# Dot map: CSV file"
      ],
      "metadata": {
        "id": "2joJTd-9Tk44"
      }
    },
    {
      "cell_type": "markdown",
      "source": [
        "We drop data with no longitude/latitude."
      ],
      "metadata": {
        "id": "tW0ynO2Kpn80"
      }
    },
    {
      "cell_type": "code",
      "source": [
        "tree_dataset.dropna(subset=['longitude_coordinate', 'latitude_coordinate'], how='any', inplace=True)\n",
        "print('The total number of remaining trees is:', tree_dataset.shape[0])"
      ],
      "metadata": {
        "id": "DS3I7yUkP-oz",
        "outputId": "be9c611c-6b68-4197-c379-9f08cd5a49cc",
        "colab": {
          "base_uri": "https://localhost:8080/"
        }
      },
      "execution_count": 11,
      "outputs": [
        {
          "output_type": "stream",
          "name": "stdout",
          "text": [
            "The total number of remaining trees is: 4556965\n"
          ]
        }
      ]
    },
    {
      "cell_type": "markdown",
      "source": [
        "We round longitude/latitude to the first decimal number."
      ],
      "metadata": {
        "id": "a0BhIlqYUv3w"
      }
    },
    {
      "cell_type": "code",
      "source": [
        "dotmap_full = tree_dataset[['state', 'longitude_coordinate', 'latitude_coordinate', 'scientific_name', 'common_name', 'tree_genus', 'tree_family', 'tree_order']]\n",
        "dotmap_full['longitude_coordinate_rounded'] = round(dotmap_full['longitude_coordinate'], 1)\n",
        "dotmap_full['latitude_coordinate_rounded'] = round(dotmap_full['latitude_coordinate'], 1)"
      ],
      "metadata": {
        "id": "teaMHG73UAib",
        "outputId": "ee4c2041-3a0c-41a1-a730-f5c253109e3f",
        "colab": {
          "base_uri": "https://localhost:8080/"
        }
      },
      "execution_count": 12,
      "outputs": [
        {
          "output_type": "stream",
          "name": "stderr",
          "text": [
            "<ipython-input-12-d0f0656b8c31>:2: SettingWithCopyWarning: \n",
            "A value is trying to be set on a copy of a slice from a DataFrame.\n",
            "Try using .loc[row_indexer,col_indexer] = value instead\n",
            "\n",
            "See the caveats in the documentation: https://pandas.pydata.org/pandas-docs/stable/user_guide/indexing.html#returning-a-view-versus-a-copy\n",
            "  dotmap_full['longitude_coordinate_rounded'] = round(dotmap_full['longitude_coordinate'], 1)\n",
            "<ipython-input-12-d0f0656b8c31>:3: SettingWithCopyWarning: \n",
            "A value is trying to be set on a copy of a slice from a DataFrame.\n",
            "Try using .loc[row_indexer,col_indexer] = value instead\n",
            "\n",
            "See the caveats in the documentation: https://pandas.pydata.org/pandas-docs/stable/user_guide/indexing.html#returning-a-view-versus-a-copy\n",
            "  dotmap_full['latitude_coordinate_rounded'] = round(dotmap_full['latitude_coordinate'], 1)\n"
          ]
        }
      ]
    },
    {
      "cell_type": "markdown",
      "source": [
        "We define the boundaries of each state to drop data that do not fall within."
      ],
      "metadata": {
        "id": "YEAs2499YFJO"
      }
    },
    {
      "cell_type": "code",
      "source": [
        "# Assuming state_border_coordinates is a dictionary with state names as keys and border coordinates as values\n",
        "state_border_coordinates = {\n",
        "    'California': {'min_longitude': -124.7, 'max_longitude': -113.9, 'min_latitude': 32.3, 'max_latitude': 42.2},\n",
        "    'Colorado': {'min_longitude': -109.3, 'max_longitude': -101.8, 'min_latitude': 36.8, 'max_latitude': 41.2},\n",
        "    'District of Columbia': {'min_longitude': -77.13, 'max_longitude': -76.9, 'min_latitude': 38.79, 'max_latitude': 39},\n",
        "    'Florida': {'min_longitude': -87.85, 'max_longitude': -79.8, 'min_latitude': 24.3, 'max_latitude': 31.2},\n",
        "    'Georgia': {'min_longitude': -85.8, 'max_longitude': -80.6, 'min_latitude': 30.2, 'max_latitude': 35.2},\n",
        "    'Hawaii': {'min_longitude': -160.7, 'max_longitude': -154.6, 'min_latitude': 18.7, 'max_latitude': 22.4},\n",
        "    'Iowa': {'min_longitude': -96.8, 'max_longitude': -89.9, 'min_latitude': 40.2, 'max_latitude': 43.7},\n",
        "    'Kansas': {'min_longitude': -102.3, 'max_longitude': -94.4, 'min_latitude': 36.8, 'max_latitude': 40.2},\n",
        "    'Kentucky': {'min_longitude': -89.8, 'max_longitude': -81.8, 'min_latitude': 35.8, 'max_latitude': 39.8},\n",
        "    'Maryland': {'min_longitude': -79.7, 'max_longitude': -74.8, 'min_latitude': 37.6, 'max_latitude': 40},\n",
        "    'Michigan': {'min_longitude': -90.6, 'max_longitude': -81.9, 'min_latitude': 41.5, 'max_latitude': 48.5},\n",
        "    'Minnesota': {'min_longitude': -97.4, 'max_longitude': -89.3, 'min_latitude': 43.3, 'max_latitude': 49.6},\n",
        "    'Missouri': {'min_longitude': -96, 'max_longitude': -88.9, 'min_latitude': 35.8, 'max_latitude': 40.8},\n",
        "    'Nevada': {'min_longitude': -120.1, 'max_longitude': -113.9, 'min_latitude': 34.9, 'max_latitude': 42.2},\n",
        "    'New Mexico': {'min_longitude': -109.3, 'max_longitude': -102.8, 'min_latitude': 31.1, 'max_latitude': 37.2},\n",
        "    'New York': {'min_longitude': -80, 'max_longitude': -71.7, 'min_latitude': 40.3, 'max_latitude': 45.3},\n",
        "    'North Carolina': {'min_longitude': -84.5, 'max_longitude': -75.2, 'min_latitude': 32.8, 'max_latitude': 37.5},\n",
        "    'Ohio': {'min_longitude': -85, 'max_longitude': -80.3, 'min_latitude': 38.2, 'max_latitude': 42.5},\n",
        "    'Oklahoma': {'min_longitude': -103.2, 'max_longitude': -94.2, 'min_latitude': 33.4, 'max_latitude': 37.2},\n",
        "    'Oregon': {'min_longitude': -124.9, 'max_longitude': -116.3, 'min_latitude': 41.8, 'max_latitude': 46.5},\n",
        "    'Pennsylvania': {'min_longitude': -80.7, 'max_longitude': -74.5, 'min_latitude': 39.5, 'max_latitude': 42.7},\n",
        "    'Rhode Island': {'min_longitude': -72.1, 'max_longitude': -70.9, 'min_latitude': 41, 'max_latitude': 42.2},\n",
        "    'South Dakota': {'min_longitude': -104.3, 'max_longitude': -96.2, 'min_latitude': 42.3, 'max_latitude': 46.1},\n",
        "    'Tennessee': {'min_longitude': -90.5, 'max_longitude': -81.4, 'min_latitude': 33.6, 'max_latitude': 38.1},\n",
        "    'Texas': {'min_longitude': -106.9, 'max_longitude': -93.2, 'min_latitude': 25.5, 'max_latitude': 36.8},\n",
        "    'Washington': {'min_longitude': -125, 'max_longitude': -116.7, 'min_latitude': 45.3, 'max_latitude': 49.2},\n",
        "    'Wisconsin': {'min_longitude': -93.1, 'max_longitude': -86, 'min_latitude': 42.3, 'max_latitude': 47.5}\n",
        "}"
      ],
      "metadata": {
        "id": "b6CE699jYFWu"
      },
      "execution_count": 13,
      "outputs": []
    },
    {
      "cell_type": "markdown",
      "source": [
        "## Dot map: 1 class"
      ],
      "metadata": {
        "id": "M0VSQH5yHWxE"
      }
    },
    {
      "cell_type": "code",
      "source": [
        "dotmap = dotmap_full[['state', 'longitude_coordinate_rounded', 'latitude_coordinate_rounded']\n",
        "                      ].value_counts().reset_index().sort_values(\n",
        "                          by = ['state', 'longitude_coordinate_rounded', 'latitude_coordinate_rounded'])\n",
        "dotmap.columns = ['state', 'longitude', 'latitude', 'count']"
      ],
      "metadata": {
        "id": "2Hu2da5kU_Bx"
      },
      "execution_count": 14,
      "outputs": []
    },
    {
      "cell_type": "markdown",
      "source": [
        "We drop data that do not fall within the boundaries of each state"
      ],
      "metadata": {
        "id": "cFnbA9PDTsGw"
      }
    },
    {
      "cell_type": "code",
      "source": [
        "rows_to_drop = []\n",
        "for index, row in dotmap.iterrows():\n",
        "    state = row['state']\n",
        "    longitude = row['longitude']\n",
        "    latitude = row['latitude']\n",
        "\n",
        "    state_coords = state_border_coordinates.get(state)\n",
        "    if not (state_coords['min_longitude'] <= longitude <= state_coords['max_longitude'] \\\n",
        "            and state_coords['min_latitude'] <= latitude <= state_coords['max_latitude']):\n",
        "        rows_to_drop.append(index)\n",
        "\n",
        "dotmap.drop(rows_to_drop, inplace=True) # keeping only trees within the boundaries of the associated state"
      ],
      "metadata": {
        "id": "CyPlJ0QMX9E4"
      },
      "execution_count": 15,
      "outputs": []
    },
    {
      "cell_type": "code",
      "source": [
        "print('The number of observations is:', dotmap.shape[0])\n",
        "print('The total number of trees considered is:', dotmap['count'].sum())"
      ],
      "metadata": {
        "colab": {
          "base_uri": "https://localhost:8080/"
        },
        "id": "qvsXUdLlWmxO",
        "outputId": "d9ff1d47-9315-4d24-e855-56297da7f962"
      },
      "execution_count": 16,
      "outputs": [
        {
          "output_type": "stream",
          "name": "stdout",
          "text": [
            "The number of observations is: 596\n",
            "The total number of trees considered is: 4534908\n"
          ]
        }
      ]
    },
    {
      "cell_type": "code",
      "source": [
        "dotmap.to_csv('dotmap.csv', index=False)"
      ],
      "metadata": {
        "id": "sM2qR7EpWPek"
      },
      "execution_count": 17,
      "outputs": []
    },
    {
      "cell_type": "markdown",
      "source": [
        "## Dot map: 10 classes + *Others*"
      ],
      "metadata": {
        "id": "7ACfleyIWKuo"
      }
    },
    {
      "cell_type": "code",
      "source": [
        "dotmap2 = dotmap_full[['state', 'longitude_coordinate_rounded', 'latitude_coordinate_rounded', 'scientific_name']\n",
        "                      ].value_counts().reset_index().sort_values(\n",
        "                          by = ['state', 'longitude_coordinate_rounded', 'latitude_coordinate_rounded', 'scientific_name'])\n",
        "dotmap2.columns = ['state', 'longitude', 'latitude', 'scientific_name', 'count']"
      ],
      "metadata": {
        "id": "RtMm-rUer2Lj"
      },
      "execution_count": 18,
      "outputs": []
    },
    {
      "cell_type": "markdown",
      "source": [
        "We drop data that do not fall within the boundaries of each state"
      ],
      "metadata": {
        "id": "2J3QHxJjZWdy"
      }
    },
    {
      "cell_type": "code",
      "source": [
        "rows_to_drop = []\n",
        "for index, row in dotmap2.iterrows():\n",
        "    state = row['state']\n",
        "    longitude = row['longitude']\n",
        "    latitude = row['latitude']\n",
        "\n",
        "    state_coords = state_border_coordinates.get(state)\n",
        "    if not (state_coords['min_longitude'] <= longitude <= state_coords['max_longitude'] \\\n",
        "            and state_coords['min_latitude'] <= latitude <= state_coords['max_latitude']):\n",
        "        rows_to_drop.append(index)\n",
        "\n",
        "dotmap2.drop(rows_to_drop, inplace=True) # keeping only trees within the boundaries of the associated state"
      ],
      "metadata": {
        "id": "KXrS0Nh6ZWdy"
      },
      "execution_count": 19,
      "outputs": []
    },
    {
      "cell_type": "markdown",
      "source": [
        "We retrieve the top 10 species (among those trees with correct longitude/latitude values)."
      ],
      "metadata": {
        "id": "VwItREp8Zlgn"
      }
    },
    {
      "cell_type": "code",
      "source": [
        "dotmap2['total_count'] = dotmap2.groupby('scientific_name')['count'].transform('sum')\n",
        "dotmap2_sorted = dotmap2.sort_values(by = ['total_count', 'scientific_name'], ascending = [False, True])\n",
        "dotmap2_top = dotmap2_sorted[['scientific_name', 'total_count']].drop_duplicates().head(10)\n",
        "top_species = list(dotmap2_top['scientific_name'])\n",
        "print(top_species)"
      ],
      "metadata": {
        "id": "u4-sIFOEbRIx",
        "outputId": "4ef569e0-d0c9-48fd-c551-6d0b9467a787",
        "colab": {
          "base_uri": "https://localhost:8080/"
        }
      },
      "execution_count": 20,
      "outputs": [
        {
          "output_type": "stream",
          "name": "stdout",
          "text": [
            "['Gleditsia triacanthos', 'Platanus acerifolia', 'Acer platanoides', 'Lagerstroemia indica', 'Pyrus calleryana', 'Fraxinus pennsylvanica', 'Acer rubrum', 'Liquidambar styraciflua', 'Tilia cordata', 'Prunus']\n"
          ]
        }
      ]
    },
    {
      "cell_type": "markdown",
      "source": [
        "We put the remaining ones in the *others* class."
      ],
      "metadata": {
        "id": "H0IJW6SGggX9"
      }
    },
    {
      "cell_type": "code",
      "source": [
        "dotmap2['scientific_name'] = dotmap2.apply(lambda row: 'Others' if row['scientific_name'] not in top_species else row['scientific_name'], axis=1)"
      ],
      "metadata": {
        "id": "lbnN3M8Gds3W"
      },
      "execution_count": 21,
      "outputs": []
    },
    {
      "cell_type": "markdown",
      "source": [
        "We aggregate in one observation all the trees in *Others* that were distinct before."
      ],
      "metadata": {
        "id": "lgQEjtUHlIhc"
      }
    },
    {
      "cell_type": "code",
      "source": [
        "dotmap2.drop('total_count', axis=1, inplace=True)\n",
        "dotmap2['count'] = dotmap2.groupby(['state', 'longitude', 'latitude', 'scientific_name'])['count'].transform('sum')\n",
        "dotmap2.drop_duplicates(inplace=True)"
      ],
      "metadata": {
        "id": "72RV5eaek8XU"
      },
      "execution_count": 22,
      "outputs": []
    },
    {
      "cell_type": "code",
      "source": [
        "print('The number of observations is:', dotmap2.shape[0])\n",
        "print('The total number of trees considered is:', dotmap2['count'].sum())"
      ],
      "metadata": {
        "outputId": "45617fc5-0ad3-4e03-a579-fbfb6002d57b",
        "colab": {
          "base_uri": "https://localhost:8080/"
        },
        "id": "cC4ahe3-ZWdy"
      },
      "execution_count": 23,
      "outputs": [
        {
          "output_type": "stream",
          "name": "stdout",
          "text": [
            "The number of observations is: 3468\n",
            "The total number of trees considered is: 4534908\n"
          ]
        }
      ]
    },
    {
      "cell_type": "code",
      "source": [
        "dotmap2.to_csv('dotmap2.csv', index=False)"
      ],
      "metadata": {
        "id": "D_QIZrG1ZWdy"
      },
      "execution_count": 24,
      "outputs": []
    }
  ]
}