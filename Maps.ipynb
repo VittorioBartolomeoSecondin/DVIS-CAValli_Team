{
  "nbformat": 4,
  "nbformat_minor": 0,
  "metadata": {
    "colab": {
      "provenance": [],
      "authorship_tag": "ABX9TyMHXLMAhlxp4H3u4VucBdiT",
      "include_colab_link": true
    },
    "kernelspec": {
      "name": "python3",
      "display_name": "Python 3"
    },
    "language_info": {
      "name": "python"
    }
  },
  "cells": [
    {
      "cell_type": "markdown",
      "metadata": {
        "id": "view-in-github",
        "colab_type": "text"
      },
      "source": [
        "<a href=\"https://colab.research.google.com/github/VittorioBartolomeoSecondin/DVIS-CAValli_Team/blob/main/Maps.ipynb\" target=\"_parent\"><img src=\"https://colab.research.google.com/assets/colab-badge.svg\" alt=\"Open In Colab\"/></a>"
      ]
    },
    {
      "cell_type": "markdown",
      "source": [
        "# Importing libraries and connecting to Google Drive"
      ],
      "metadata": {
        "id": "fEUxDlj-TJlh"
      }
    },
    {
      "cell_type": "code",
      "execution_count": 1,
      "metadata": {
        "colab": {
          "base_uri": "https://localhost:8080/"
        },
        "id": "N-5lfwtzTD_p",
        "outputId": "a55710ec-5f8f-4426-ef0e-1389b2479797"
      },
      "outputs": [
        {
          "output_type": "stream",
          "name": "stdout",
          "text": [
            "Mounted at /content/drive\n"
          ]
        }
      ],
      "source": [
        "import pandas as pd\n",
        "import matplotlib.pyplot as plt\n",
        "import numpy as np\n",
        "import glob\n",
        "import re\n",
        "import json\n",
        "import csv\n",
        "import requests\n",
        "import os\n",
        "import zipfile\n",
        "from google.colab import files\n",
        "from google.colab import drive\n",
        "drive.mount('/content/drive') # turned out to be a good workaround to load a huge amount of data and keep it available"
      ]
    },
    {
      "cell_type": "markdown",
      "source": [
        "# Load tree_dataset"
      ],
      "metadata": {
        "id": "wduOcyh_2j2k"
      }
    },
    {
      "cell_type": "code",
      "source": [
        "tree_dataset = pd.read_csv(\"/content/drive/MyDrive/tree_dataset/final_dataset/tree_dataset.csv\", low_memory=False)"
      ],
      "metadata": {
        "id": "-yb7Zoj7Uwl3"
      },
      "execution_count": 24,
      "outputs": []
    },
    {
      "cell_type": "markdown",
      "source": [
        "# Prepare data for mapping"
      ],
      "metadata": {
        "id": "db3a-MbTX2NY"
      }
    },
    {
      "cell_type": "code",
      "source": [
        "def create_abundance_csv(csv_name, header, name, abundance):\n",
        "\n",
        "  with open(csv_name, 'w', encoding='UTF8', newline='') as f:\n",
        "    writer = csv.writer(f)\n",
        "    writer.writerow(header)\n",
        "    for idx in range(len(state)):\n",
        "      row = [name[idx], abundance[idx]]\n",
        "      writer.writerow(row)"
      ],
      "metadata": {
        "id": "W4u9Tbpic3Jx"
      },
      "execution_count": 3,
      "outputs": []
    },
    {
      "cell_type": "code",
      "source": [
        "def create_abundance_fips_csv(csv_name, header, name, abundance, fips_codes):\n",
        "\n",
        "  with open(csv_name, 'w', encoding='UTF8', newline='') as f:\n",
        "    writer = csv.writer(f)\n",
        "    writer.writerow(header)\n",
        "    for idx in range(len(state)):\n",
        "      row = [name[idx], abundance[idx], fips_codes.get(name[idx])]\n",
        "      writer.writerow(row)"
      ],
      "metadata": {
        "id": "IyRaqiBQoE-l"
      },
      "execution_count": 4,
      "outputs": []
    },
    {
      "cell_type": "markdown",
      "source": [
        "## State abundance"
      ],
      "metadata": {
        "id": "QQh6c7p0g14e"
      }
    },
    {
      "cell_type": "code",
      "source": [
        "csv_name = \"state_abundance.csv\"\n",
        "header = ['state', 'abundance']\n",
        "state = list(tree_dataset['state'].value_counts().index)\n",
        "abundance = list(tree_dataset['state'].value_counts().values)\n",
        "create_abundance_csv(csv_name, header, state, abundance)"
      ],
      "metadata": {
        "id": "IqR9Tvo6fglY"
      },
      "execution_count": 5,
      "outputs": []
    },
    {
      "cell_type": "markdown",
      "source": [
        "## State abundance and fips code"
      ],
      "metadata": {
        "id": "q84uaUUVoj0M"
      }
    },
    {
      "cell_type": "code",
      "source": [
        "fips_codes = {\n",
        "    \"Alabama\": \"US01\",\n",
        "    \"Alaska\": \"US02\",\n",
        "    \"Arizona\": \"US04\",\n",
        "    \"Arkansas\": \"US05\",\n",
        "    \"California\": \"US06\",\n",
        "    \"Colorado\": \"US08\",\n",
        "    \"Connecticut\": \"US09\",\n",
        "    \"Delaware\": \"US10\",\n",
        "    \"District of Columbia\": \"US11\",\n",
        "    \"Florida\": \"US12\",\n",
        "    \"Georgia\": \"US13\",\n",
        "    \"Hawaii\": \"US15\",\n",
        "    \"Idaho\": \"US16\",\n",
        "    \"Illinois\": \"US17\",\n",
        "    \"Indiana\": \"US18\",\n",
        "    \"Iowa\": \"US19\",\n",
        "    \"Kansas\": \"US20\",\n",
        "    \"Kentucky\": \"US21\",\n",
        "    \"Louisiana\": \"US22\",\n",
        "    \"Maine\": \"US23\",\n",
        "    \"Maryland\": \"US24\",\n",
        "    \"Massachussetts\": \"US25\",\n",
        "    \"Michigan\": \"US26\",\n",
        "    \"Minnesota\": \"US27\",\n",
        "    \"Mississippi\": \"US28\",\n",
        "    \"Missouri\": \"US29\",\n",
        "    \"Montana\": \"US30\",\n",
        "    \"Nebraska\": \"US31\",\n",
        "    \"Nevada\": \"US32\",\n",
        "    \"New Hampshire\": \"US33\",\n",
        "    \"New Jersey\": \"US34\",\n",
        "    \"New Mexico\": \"US35\",\n",
        "    \"New York\": \"US36\",\n",
        "    \"North Carolina\": \"US37\",\n",
        "    \"North Dakota\": \"US38\",\n",
        "    \"Ohio\": \"US39\",\n",
        "    \"Oklahoma\": \"US40\",\n",
        "    \"Oregon\": \"US41\",\n",
        "    \"Pennsylvania\": \"US42\",\n",
        "    \"Rhode Island\": \"US44\",\n",
        "    \"South Carolina\": \"US45\",\n",
        "    \"South Dakota\": \"US46\",\n",
        "    \"Tennessee\": \"US47\",\n",
        "    \"Texas\": \"US48\",\n",
        "    \"Utah\": \"US49\",\n",
        "    \"Vermont\": \"US50\",\n",
        "    \"Virginia\": \"US51\",\n",
        "    \"Washington\": \"US53\",\n",
        "    \"West Virginia\": \"US54\",\n",
        "    \"Wisconsin\": \"US55\",\n",
        "    \"Wyoming\": \"US56\"\n",
        "}"
      ],
      "metadata": {
        "id": "sj9o3FYYkVyp"
      },
      "execution_count": 6,
      "outputs": []
    },
    {
      "cell_type": "code",
      "source": [
        "csv_name = \"state_abundance_fips.csv\"\n",
        "header = ['state', 'abundance', 'fips']\n",
        "state = list(tree_dataset['state'].value_counts().index)\n",
        "abundance = list(tree_dataset['state'].value_counts().values)\n",
        "create_abundance_fips_csv(csv_name, header, state, abundance, fips_codes)"
      ],
      "metadata": {
        "id": "nEeTI8AwoqPc"
      },
      "execution_count": 7,
      "outputs": []
    },
    {
      "cell_type": "markdown",
      "source": [
        "## State abundance and postal"
      ],
      "metadata": {
        "id": "BfA4nKyVM1yo"
      }
    },
    {
      "cell_type": "code",
      "source": [
        "postal_codes = {\n",
        "    \"Alabama\": \"AL\",\n",
        "    \"Alaska\": \"AK\",\n",
        "    \"Arizona\": \"AZ\",\n",
        "    \"Arkansas\": \"AR\",\n",
        "    \"California\": \"CA\",\n",
        "    \"Colorado\": \"CO\",\n",
        "    \"Connecticut\": \"CT\",\n",
        "    \"Delaware\": \"DE\",\n",
        "    \"District of Columbia\": \"DC\",\n",
        "    \"Florida\": \"FL\",\n",
        "    \"Georgia\": \"GA\",\n",
        "    \"Hawaii\": \"HI\",\n",
        "    \"Idaho\": \"ID\",\n",
        "    \"Illinois\": \"IL\",\n",
        "    \"Indiana\": \"IN\",\n",
        "    \"Iowa\": \"IA\",\n",
        "    \"Kansas\": \"KS\",\n",
        "    \"Kentucky\": \"KY\",\n",
        "    \"Louisiana\": \"LA\",\n",
        "    \"Maine\": \"ME\",\n",
        "    \"Maryland\": \"MD\",\n",
        "    \"Massachusetts\": \"MA\",\n",
        "    \"Michigan\": \"MI\",\n",
        "    \"Minnesota\": \"MN\",\n",
        "    \"Mississippi\": \"MS\",\n",
        "    \"Missouri\": \"MO\",\n",
        "    \"Montana\": \"MT\",\n",
        "    \"Nebraska\": \"NE\",\n",
        "    \"Nevada\": \"NV\",\n",
        "    \"New Hampshire\": \"NH\",\n",
        "    \"New Jersey\": \"NJ\",\n",
        "    \"New Mexico\": \"NM\",\n",
        "    \"New York\": \"NY\",\n",
        "    \"North Carolina\": \"NC\",\n",
        "    \"North Dakota\": \"ND\",\n",
        "    \"Ohio\": \"OH\",\n",
        "    \"Oklahoma\": \"OK\",\n",
        "    \"Oregon\": \"OR\",\n",
        "    \"Pennsylvania\": \"PA\",\n",
        "    \"Puerto Rico\": \"PR\",\n",
        "    \"Rhode Island\": \"RI\",\n",
        "    \"South Carolina\": \"SC\",\n",
        "    \"South Dakota\": \"SD\",\n",
        "    \"Tennessee\": \"TN\",\n",
        "    \"Texas\": \"TX\",\n",
        "    \"Utah\": \"UT\",\n",
        "    \"Vermont\": \"VT\",\n",
        "    \"Virginia\": \"VA\",\n",
        "    \"Virgin Islands\": \"VI\",\n",
        "    \"Washington\": \"WA\",\n",
        "    \"West Virginia\": \"WV\",\n",
        "    \"Wisconsin\": \"WI\",\n",
        "    \"Wyoming\": \"WY\"\n",
        "}"
      ],
      "metadata": {
        "id": "tXRzRWLzM7ww"
      },
      "execution_count": 8,
      "outputs": []
    },
    {
      "cell_type": "code",
      "source": [
        "csv_name = \"state_abundance_postal.csv\"\n",
        "header = ['state', 'abundance', 'postal']\n",
        "state = list(tree_dataset['state'].value_counts().index)\n",
        "abundance = list(tree_dataset['state'].value_counts().values)\n",
        "create_abundance_fips_csv(csv_name, header, state, abundance, postal_codes)"
      ],
      "metadata": {
        "id": "aT2WX1DhM7z5"
      },
      "execution_count": 9,
      "outputs": []
    },
    {
      "cell_type": "markdown",
      "source": [
        "## City abundance"
      ],
      "metadata": {
        "id": "4tnTR-Gcg6o2"
      }
    },
    {
      "cell_type": "code",
      "source": [
        "csv_name = \"city_abundance.csv\"\n",
        "header = ['city', 'abundance']\n",
        "city = list(tree_dataset['greater_metro'].value_counts().index)\n",
        "abundance = list(tree_dataset['greater_metro'].value_counts().values)\n",
        "create_abundance_csv(csv_name, header, city, abundance)"
      ],
      "metadata": {
        "id": "lnKvMELng_nH"
      },
      "execution_count": 10,
      "outputs": []
    },
    {
      "cell_type": "markdown",
      "source": [
        "## JSON"
      ],
      "metadata": {
        "id": "RZFwZGcAt-XU"
      }
    },
    {
      "cell_type": "code",
      "source": [
        "abundance_df = pd.read_csv(\"/content/state_abundance_postal.csv\", low_memory=False)\n",
        "abundance_dict = {}\n",
        "\n",
        "for idx in range(abundance_df.shape[0]):\n",
        "  name = list(abundance_df.iloc[idx])[0]\n",
        "  abundance = list(abundance_df.iloc[idx])[1]\n",
        "  postal = list(abundance_df.iloc[idx])[2]\n",
        "  abundance_dict[postal] = [name, abundance]\n",
        "\n",
        "for key, value in postal_codes.items():\n",
        "  if abundance_dict.get(value) is None:\n",
        "    name = key\n",
        "    abundance = 0\n",
        "    abundance_dict[value] = [name, abundance]\n",
        "  else:\n",
        "    name = abundance_dict.get(value)[0]\n",
        "    abundance = abundance_dict.get(value)[1]"
      ],
      "metadata": {
        "id": "iEZcy2S43o5K"
      },
      "execution_count": 11,
      "outputs": []
    },
    {
      "cell_type": "code",
      "source": [
        "json_path = \"/content/drive/MyDrive/tree_dataset/final_dataset/us-states.json\"\n",
        "with open(json_path, 'r') as file:\n",
        "    json_file = json.load(file)"
      ],
      "metadata": {
        "id": "KbuSkiNru-SO"
      },
      "execution_count": 12,
      "outputs": []
    },
    {
      "cell_type": "code",
      "source": [
        "# import geopandas\n",
        "# data = geopandas.read_file(json_path)['geometry']\n",
        "# data.crs = 'EPSG:4326'\n",
        "# state_polygons = geopandas.read_file(json_path)[['postal', 'geometry']]\n",
        "# state_polygons['area'] = data.to_crs('EPSG:3857').geometry.area / (10**6)\n",
        "# print(state_polygons[['postal', 'area']])"
      ],
      "metadata": {
        "id": "u-py47-EgwVR"
      },
      "execution_count": 13,
      "outputs": []
    },
    {
      "cell_type": "code",
      "source": [
        "areas_dict = {\n",
        "    'Alabama': 135767,\n",
        "    'Alaska': 1717855,\n",
        "    'Arizona': 295234,\n",
        "    'Arkansas': 137733,\n",
        "    'California': 423968,\n",
        "    'Colorado': 269601,\n",
        "    'Connecticut': 12534,\n",
        "    'Delaware': 5047,\n",
        "    'District of Columbia': 177,\n",
        "    'Florida': 170304,\n",
        "    'Georgia': 148958,\n",
        "    'Hawaii': 16637,\n",
        "    'Idaho': 216443,\n",
        "    'Illinois': 144774,\n",
        "    'Indiana': 92789,\n",
        "    'Iowa': 145746,\n",
        "    'Kansas': 211754,\n",
        "    'Kentucky': 102908,\n",
        "    'Louisiana': 135659,\n",
        "    'Maine': 91646,\n",
        "    'Maryland': 25313,\n",
        "    'Massachusetts': 20203,\n",
        "    'Michigan': 250488,\n",
        "    'Minnesota': 225163,\n",
        "    'Mississippi': 120383,\n",
        "    'Missouri': 180560,\n",
        "    'Montana': 380832,\n",
        "    'Nebraska': 199097,\n",
        "    'Nevada': 286380,\n",
        "    'New Hampshire': 23186,\n",
        "    'New Jersey': 19050,\n",
        "    'New Mexico': 314917,\n",
        "    'New York': 141297,\n",
        "    'North Carolina': 139390,\n",
        "    'North Dakota': 178712,\n",
        "    'Ohio': 116096,\n",
        "    'Oklahoma': 177846,\n",
        "    'Oregon': 248608,\n",
        "    'Pennsylvania': 119283,\n",
        "    'Rhode Island': 2678,\n",
        "    'South Carolina': 82931,\n",
        "    'South Dakota': 199729,\n",
        "    'Tennessee': 109153,\n",
        "    'Texas': 695662,\n",
        "    'Utah': 219882,\n",
        "    'Vermont': 24906,\n",
        "    'Virginia': 110787,\n",
        "    'Washington': 184666,\n",
        "    'West Virginia': 62259,\n",
        "    'Wisconsin': 140268,\n",
        "    'Wyoming': 253335\n",
        "}"
      ],
      "metadata": {
        "id": "0CLZWwpT7jRL"
      },
      "execution_count": 14,
      "outputs": []
    },
    {
      "cell_type": "code",
      "source": [
        "for idx in range(len(json_file['objects']['states'].get('geometries'))):\n",
        "  properties = json_file['objects']['states'].get('geometries')[idx]['properties']\n",
        "  postal = properties['postal']\n",
        "  try:\n",
        "    name, abundance = abundance_dict[postal]\n",
        "    area = areas_dict[name]\n",
        "    properties['name'] = name\n",
        "    properties['abundance'] = str(abundance)\n",
        "    properties['area'] = area\n",
        "    properties['density'] = round(abundance / area, 5)\n",
        "    properties['density_1000'] = round(abundance / area * 1000, 2)\n",
        "    print(properties)\n",
        "  except:\n",
        "    pass"
      ],
      "metadata": {
        "colab": {
          "base_uri": "https://localhost:8080/"
        },
        "id": "V1B3jxJhuCYD",
        "outputId": "23859bf6-22da-458b-bd30-2e72c9e5cd8b"
      },
      "execution_count": 15,
      "outputs": [
        {
          "output_type": "stream",
          "name": "stdout",
          "text": [
            "{'postal': 'AK', 'name': 'Alaska', 'abundance': '0', 'area': 1717855, 'density': 0.0, 'density_1000': 0.0}\n",
            "{'postal': 'AL', 'name': 'Alabama', 'abundance': '0', 'area': 135767, 'density': 0.0, 'density_1000': 0.0}\n",
            "{'postal': 'AR', 'name': 'Arkansas', 'abundance': '0', 'area': 137733, 'density': 0.0, 'density_1000': 0.0}\n",
            "{'postal': 'AZ', 'name': 'Arizona', 'abundance': '214', 'area': 295234, 'density': 0.00072, 'density_1000': 0.72}\n",
            "{'postal': 'CA', 'name': 'California', 'abundance': '1806085', 'area': 423968, 'density': 4.25996, 'density_1000': 4259.96}\n",
            "{'postal': 'CO', 'name': 'Colorado', 'abundance': '354878', 'area': 269601, 'density': 1.31631, 'density_1000': 1316.31}\n",
            "{'postal': 'CT', 'name': 'Connecticut', 'abundance': '0', 'area': 12534, 'density': 0.0, 'density_1000': 0.0}\n",
            "{'postal': 'DC', 'name': 'District of Columbia', 'abundance': '175847', 'area': 177, 'density': 993.48588, 'density_1000': 993485.88}\n",
            "{'postal': 'DE', 'name': 'Delaware', 'abundance': '0', 'area': 5047, 'density': 0.0, 'density_1000': 0.0}\n",
            "{'postal': 'FL', 'name': 'Florida', 'abundance': '124208', 'area': 170304, 'density': 0.72933, 'density_1000': 729.33}\n",
            "{'postal': 'GA', 'name': 'Georgia', 'abundance': '41175', 'area': 148958, 'density': 0.27642, 'density_1000': 276.42}\n",
            "{'postal': 'HI', 'name': 'Hawaii', 'abundance': '15150', 'area': 16637, 'density': 0.91062, 'density_1000': 910.62}\n",
            "{'postal': 'IA', 'name': 'Iowa', 'abundance': '15805', 'area': 145746, 'density': 0.10844, 'density_1000': 108.44}\n",
            "{'postal': 'ID', 'name': 'Idaho', 'abundance': '0', 'area': 216443, 'density': 0.0, 'density_1000': 0.0}\n",
            "{'postal': 'IL', 'name': 'Illinois', 'abundance': '0', 'area': 144774, 'density': 0.0, 'density_1000': 0.0}\n",
            "{'postal': 'IN', 'name': 'Indiana', 'abundance': '97227', 'area': 92789, 'density': 1.04783, 'density_1000': 1047.83}\n",
            "{'postal': 'KS', 'name': 'Kansas', 'abundance': '44767', 'area': 211754, 'density': 0.21141, 'density_1000': 211.41}\n",
            "{'postal': 'KY', 'name': 'Kentucky', 'abundance': '32711', 'area': 102908, 'density': 0.31787, 'density_1000': 317.87}\n",
            "{'postal': 'LA', 'name': 'Louisiana', 'abundance': '105786', 'area': 135659, 'density': 0.77979, 'density_1000': 779.79}\n",
            "{'postal': 'MA', 'name': 'Massachusetts', 'abundance': '16735', 'area': 20203, 'density': 0.82834, 'density_1000': 828.34}\n",
            "{'postal': 'MD', 'name': 'Maryland', 'abundance': '121279', 'area': 25313, 'density': 4.79117, 'density_1000': 4791.17}\n",
            "{'postal': 'ME', 'name': 'Maine', 'abundance': '0', 'area': 91646, 'density': 0.0, 'density_1000': 0.0}\n",
            "{'postal': 'MI', 'name': 'Michigan', 'abundance': '92023', 'area': 250488, 'density': 0.36737, 'density_1000': 367.37}\n",
            "{'postal': 'MN', 'name': 'Minnesota', 'abundance': '176834', 'area': 225163, 'density': 0.78536, 'density_1000': 785.36}\n",
            "{'postal': 'MO', 'name': 'Missouri', 'abundance': '83533', 'area': 180560, 'density': 0.46263, 'density_1000': 462.63}\n",
            "{'postal': 'MS', 'name': 'Mississippi', 'abundance': '0', 'area': 120383, 'density': 0.0, 'density_1000': 0.0}\n",
            "{'postal': 'MT', 'name': 'Montana', 'abundance': '0', 'area': 380832, 'density': 0.0, 'density_1000': 0.0}\n",
            "{'postal': 'NC', 'name': 'North Carolina', 'abundance': '22586', 'area': 139390, 'density': 0.16203, 'density_1000': 162.03}\n",
            "{'postal': 'ND', 'name': 'North Dakota', 'abundance': '0', 'area': 178712, 'density': 0.0, 'density_1000': 0.0}\n",
            "{'postal': 'NE', 'name': 'Nebraska', 'abundance': '0', 'area': 199097, 'density': 0.0, 'density_1000': 0.0}\n",
            "{'postal': 'NH', 'name': 'New Hampshire', 'abundance': '0', 'area': 23186, 'density': 0.0, 'density_1000': 0.0}\n",
            "{'postal': 'NJ', 'name': 'New Jersey', 'abundance': '774', 'area': 19050, 'density': 0.04063, 'density_1000': 40.63}\n",
            "{'postal': 'NM', 'name': 'New Mexico', 'abundance': '2485', 'area': 314917, 'density': 0.00789, 'density_1000': 7.89}\n",
            "{'postal': 'NV', 'name': 'Nevada', 'abundance': '32006', 'area': 286380, 'density': 0.11176, 'density_1000': 111.76}\n",
            "{'postal': 'NY', 'name': 'New York', 'abundance': '787349', 'area': 141297, 'density': 5.5723, 'density_1000': 5572.3}\n",
            "{'postal': 'OH', 'name': 'Ohio', 'abundance': '140876', 'area': 116096, 'density': 1.21344, 'density_1000': 1213.44}\n",
            "{'postal': 'OK', 'name': 'Oklahoma', 'abundance': '8871', 'area': 177846, 'density': 0.04988, 'density_1000': 49.88}\n",
            "{'postal': 'OR', 'name': 'Oregon', 'abundance': '216751', 'area': 248608, 'density': 0.87186, 'density_1000': 871.86}\n",
            "{'postal': 'PA', 'name': 'Pennsylvania', 'abundance': '42079', 'area': 119283, 'density': 0.35277, 'density_1000': 352.77}\n",
            "{'postal': 'RI', 'name': 'Rhode Island', 'abundance': '24082', 'area': 2678, 'density': 8.99253, 'density_1000': 8992.53}\n",
            "{'postal': 'SC', 'name': 'South Carolina', 'abundance': '0', 'area': 82931, 'density': 0.0, 'density_1000': 0.0}\n",
            "{'postal': 'SD', 'name': 'South Dakota', 'abundance': '61304', 'area': 199729, 'density': 0.30694, 'density_1000': 306.94}\n",
            "{'postal': 'TN', 'name': 'Tennessee', 'abundance': '10411', 'area': 109153, 'density': 0.09538, 'density_1000': 95.38}\n",
            "{'postal': 'TX', 'name': 'Texas', 'abundance': '264285', 'area': 695662, 'density': 0.3799, 'density_1000': 379.9}\n",
            "{'postal': 'UT', 'name': 'Utah', 'abundance': '0', 'area': 219882, 'density': 0.0, 'density_1000': 0.0}\n",
            "{'postal': 'VA', 'name': 'Virginia', 'abundance': '1815', 'area': 110787, 'density': 0.01638, 'density_1000': 16.38}\n",
            "{'postal': 'VT', 'name': 'Vermont', 'abundance': '0', 'area': 24906, 'density': 0.0, 'density_1000': 0.0}\n",
            "{'postal': 'WA', 'name': 'Washington', 'abundance': '164903', 'area': 184666, 'density': 0.89298, 'density_1000': 892.98}\n",
            "{'postal': 'WI', 'name': 'Wisconsin', 'abundance': '127623', 'area': 140268, 'density': 0.90985, 'density_1000': 909.85}\n",
            "{'postal': 'WV', 'name': 'West Virginia', 'abundance': '0', 'area': 62259, 'density': 0.0, 'density_1000': 0.0}\n",
            "{'postal': 'WY', 'name': 'Wyoming', 'abundance': '0', 'area': 253335, 'density': 0.0, 'density_1000': 0.0}\n"
          ]
        }
      ]
    },
    {
      "cell_type": "code",
      "source": [
        "out_path = \"/content/choropleth.json\"\n",
        "with open(out_path, 'w') as file:\n",
        "    json.dump(json_file, file)"
      ],
      "metadata": {
        "id": "H_HHnLBd6piy"
      },
      "execution_count": 16,
      "outputs": []
    },
    {
      "cell_type": "markdown",
      "source": [
        "## Drop data with no longitude/latitude"
      ],
      "metadata": {
        "id": "tW0ynO2Kpn80"
      }
    },
    {
      "cell_type": "code",
      "source": [
        "tree_dataset.dropna(subset=['longitude_coordinate', 'latitude_coordinate'], how='any', inplace=True)"
      ],
      "metadata": {
        "id": "CyPlJ0QMX9E4"
      },
      "execution_count": 25,
      "outputs": []
    },
    {
      "cell_type": "markdown",
      "source": [
        "### Prepare dataset (just one class)"
      ],
      "metadata": {
        "id": "M0VSQH5yHWxE"
      }
    },
    {
      "cell_type": "code",
      "source": [
        "dotmap_data = tree_dataset[['state', 'longitude_coordinate', 'latitude_coordinate']]\n",
        "dotmap_data.to_csv('dotmap_full.csv', index=False)"
      ],
      "metadata": {
        "id": "YoGh3hqGK_Nd"
      },
      "execution_count": 26,
      "outputs": []
    },
    {
      "cell_type": "code",
      "source": [
        "dotmap_data['longitude_coordinate_rounded'] = round(dotmap_data['longitude_coordinate'], 1)\n",
        "dotmap_data['latitude_coordinate_rounded'] = round(dotmap_data['latitude_coordinate'], 1)"
      ],
      "metadata": {
        "colab": {
          "base_uri": "https://localhost:8080/"
        },
        "id": "HOsNbrEEVJPv",
        "outputId": "adbbd5ef-dbb6-4b7f-e53c-10b513d8080a"
      },
      "execution_count": 27,
      "outputs": [
        {
          "output_type": "stream",
          "name": "stderr",
          "text": [
            "<ipython-input-27-09e52983d8c9>:1: SettingWithCopyWarning: \n",
            "A value is trying to be set on a copy of a slice from a DataFrame.\n",
            "Try using .loc[row_indexer,col_indexer] = value instead\n",
            "\n",
            "See the caveats in the documentation: https://pandas.pydata.org/pandas-docs/stable/user_guide/indexing.html#returning-a-view-versus-a-copy\n",
            "  dotmap_data['longitude_coordinate_rounded'] = round(dotmap_data['longitude_coordinate'], 1)\n",
            "<ipython-input-27-09e52983d8c9>:2: SettingWithCopyWarning: \n",
            "A value is trying to be set on a copy of a slice from a DataFrame.\n",
            "Try using .loc[row_indexer,col_indexer] = value instead\n",
            "\n",
            "See the caveats in the documentation: https://pandas.pydata.org/pandas-docs/stable/user_guide/indexing.html#returning-a-view-versus-a-copy\n",
            "  dotmap_data['latitude_coordinate_rounded'] = round(dotmap_data['latitude_coordinate'], 1)\n"
          ]
        }
      ]
    },
    {
      "cell_type": "code",
      "source": [
        "dotmap_rounded = dotmap_data[['state', 'longitude_coordinate_rounded', 'latitude_coordinate_rounded']\n",
        "                             ].value_counts().reset_index().sort_values(\n",
        "                                 by = ['state', 'longitude_coordinate_rounded', 'latitude_coordinate_rounded'])\n",
        "dotmap_rounded.columns = ['state', 'longitude', 'latitude', 'count']"
      ],
      "metadata": {
        "id": "RtMm-rUer2Lj"
      },
      "execution_count": 29,
      "outputs": []
    },
    {
      "cell_type": "code",
      "source": [
        "dotmap_rounded"
      ],
      "metadata": {
        "id": "gKzfMO69r8kq",
        "outputId": "03618c2f-de35-489d-bdf0-bb2e78c89d43",
        "colab": {
          "base_uri": "https://localhost:8080/",
          "height": 450
        }
      },
      "execution_count": 30,
      "outputs": [
        {
          "output_type": "execute_result",
          "data": {
            "text/plain": [
              "          state  longitude  latitude  count\n",
              "490  California     -122.8      38.5     95\n",
              "278  California     -122.7      38.5   1118\n",
              "71   California     -122.5      37.7  20672\n",
              "60   California     -122.5      37.8  26481\n",
              "672  California     -122.4      37.5      1\n",
              "..          ...        ...       ...    ...\n",
              "203   Wisconsin      -87.9      43.0   3012\n",
              "186   Wisconsin      -87.9      43.1   3869\n",
              "276   Wisconsin      -87.9      43.2   1123\n",
              "360   Wisconsin      -87.8      42.9    484\n",
              "467   Wisconsin      -87.8      43.0    126\n",
              "\n",
              "[689 rows x 4 columns]"
            ],
            "text/html": [
              "\n",
              "  <div id=\"df-12004c8a-0943-46c6-9495-6fc8972d44fe\" class=\"colab-df-container\">\n",
              "    <div>\n",
              "<style scoped>\n",
              "    .dataframe tbody tr th:only-of-type {\n",
              "        vertical-align: middle;\n",
              "    }\n",
              "\n",
              "    .dataframe tbody tr th {\n",
              "        vertical-align: top;\n",
              "    }\n",
              "\n",
              "    .dataframe thead th {\n",
              "        text-align: right;\n",
              "    }\n",
              "</style>\n",
              "<table border=\"1\" class=\"dataframe\">\n",
              "  <thead>\n",
              "    <tr style=\"text-align: right;\">\n",
              "      <th></th>\n",
              "      <th>state</th>\n",
              "      <th>longitude</th>\n",
              "      <th>latitude</th>\n",
              "      <th>count</th>\n",
              "    </tr>\n",
              "  </thead>\n",
              "  <tbody>\n",
              "    <tr>\n",
              "      <th>490</th>\n",
              "      <td>California</td>\n",
              "      <td>-122.8</td>\n",
              "      <td>38.5</td>\n",
              "      <td>95</td>\n",
              "    </tr>\n",
              "    <tr>\n",
              "      <th>278</th>\n",
              "      <td>California</td>\n",
              "      <td>-122.7</td>\n",
              "      <td>38.5</td>\n",
              "      <td>1118</td>\n",
              "    </tr>\n",
              "    <tr>\n",
              "      <th>71</th>\n",
              "      <td>California</td>\n",
              "      <td>-122.5</td>\n",
              "      <td>37.7</td>\n",
              "      <td>20672</td>\n",
              "    </tr>\n",
              "    <tr>\n",
              "      <th>60</th>\n",
              "      <td>California</td>\n",
              "      <td>-122.5</td>\n",
              "      <td>37.8</td>\n",
              "      <td>26481</td>\n",
              "    </tr>\n",
              "    <tr>\n",
              "      <th>672</th>\n",
              "      <td>California</td>\n",
              "      <td>-122.4</td>\n",
              "      <td>37.5</td>\n",
              "      <td>1</td>\n",
              "    </tr>\n",
              "    <tr>\n",
              "      <th>...</th>\n",
              "      <td>...</td>\n",
              "      <td>...</td>\n",
              "      <td>...</td>\n",
              "      <td>...</td>\n",
              "    </tr>\n",
              "    <tr>\n",
              "      <th>203</th>\n",
              "      <td>Wisconsin</td>\n",
              "      <td>-87.9</td>\n",
              "      <td>43.0</td>\n",
              "      <td>3012</td>\n",
              "    </tr>\n",
              "    <tr>\n",
              "      <th>186</th>\n",
              "      <td>Wisconsin</td>\n",
              "      <td>-87.9</td>\n",
              "      <td>43.1</td>\n",
              "      <td>3869</td>\n",
              "    </tr>\n",
              "    <tr>\n",
              "      <th>276</th>\n",
              "      <td>Wisconsin</td>\n",
              "      <td>-87.9</td>\n",
              "      <td>43.2</td>\n",
              "      <td>1123</td>\n",
              "    </tr>\n",
              "    <tr>\n",
              "      <th>360</th>\n",
              "      <td>Wisconsin</td>\n",
              "      <td>-87.8</td>\n",
              "      <td>42.9</td>\n",
              "      <td>484</td>\n",
              "    </tr>\n",
              "    <tr>\n",
              "      <th>467</th>\n",
              "      <td>Wisconsin</td>\n",
              "      <td>-87.8</td>\n",
              "      <td>43.0</td>\n",
              "      <td>126</td>\n",
              "    </tr>\n",
              "  </tbody>\n",
              "</table>\n",
              "<p>689 rows × 4 columns</p>\n",
              "</div>\n",
              "    <div class=\"colab-df-buttons\">\n",
              "\n",
              "  <div class=\"colab-df-container\">\n",
              "    <button class=\"colab-df-convert\" onclick=\"convertToInteractive('df-12004c8a-0943-46c6-9495-6fc8972d44fe')\"\n",
              "            title=\"Convert this dataframe to an interactive table.\"\n",
              "            style=\"display:none;\">\n",
              "\n",
              "  <svg xmlns=\"http://www.w3.org/2000/svg\" height=\"24px\" viewBox=\"0 -960 960 960\">\n",
              "    <path d=\"M120-120v-720h720v720H120Zm60-500h600v-160H180v160Zm220 220h160v-160H400v160Zm0 220h160v-160H400v160ZM180-400h160v-160H180v160Zm440 0h160v-160H620v160ZM180-180h160v-160H180v160Zm440 0h160v-160H620v160Z\"/>\n",
              "  </svg>\n",
              "    </button>\n",
              "\n",
              "  <style>\n",
              "    .colab-df-container {\n",
              "      display:flex;\n",
              "      gap: 12px;\n",
              "    }\n",
              "\n",
              "    .colab-df-convert {\n",
              "      background-color: #E8F0FE;\n",
              "      border: none;\n",
              "      border-radius: 50%;\n",
              "      cursor: pointer;\n",
              "      display: none;\n",
              "      fill: #1967D2;\n",
              "      height: 32px;\n",
              "      padding: 0 0 0 0;\n",
              "      width: 32px;\n",
              "    }\n",
              "\n",
              "    .colab-df-convert:hover {\n",
              "      background-color: #E2EBFA;\n",
              "      box-shadow: 0px 1px 2px rgba(60, 64, 67, 0.3), 0px 1px 3px 1px rgba(60, 64, 67, 0.15);\n",
              "      fill: #174EA6;\n",
              "    }\n",
              "\n",
              "    .colab-df-buttons div {\n",
              "      margin-bottom: 4px;\n",
              "    }\n",
              "\n",
              "    [theme=dark] .colab-df-convert {\n",
              "      background-color: #3B4455;\n",
              "      fill: #D2E3FC;\n",
              "    }\n",
              "\n",
              "    [theme=dark] .colab-df-convert:hover {\n",
              "      background-color: #434B5C;\n",
              "      box-shadow: 0px 1px 3px 1px rgba(0, 0, 0, 0.15);\n",
              "      filter: drop-shadow(0px 1px 2px rgba(0, 0, 0, 0.3));\n",
              "      fill: #FFFFFF;\n",
              "    }\n",
              "  </style>\n",
              "\n",
              "    <script>\n",
              "      const buttonEl =\n",
              "        document.querySelector('#df-12004c8a-0943-46c6-9495-6fc8972d44fe button.colab-df-convert');\n",
              "      buttonEl.style.display =\n",
              "        google.colab.kernel.accessAllowed ? 'block' : 'none';\n",
              "\n",
              "      async function convertToInteractive(key) {\n",
              "        const element = document.querySelector('#df-12004c8a-0943-46c6-9495-6fc8972d44fe');\n",
              "        const dataTable =\n",
              "          await google.colab.kernel.invokeFunction('convertToInteractive',\n",
              "                                                    [key], {});\n",
              "        if (!dataTable) return;\n",
              "\n",
              "        const docLinkHtml = 'Like what you see? Visit the ' +\n",
              "          '<a target=\"_blank\" href=https://colab.research.google.com/notebooks/data_table.ipynb>data table notebook</a>'\n",
              "          + ' to learn more about interactive tables.';\n",
              "        element.innerHTML = '';\n",
              "        dataTable['output_type'] = 'display_data';\n",
              "        await google.colab.output.renderOutput(dataTable, element);\n",
              "        const docLink = document.createElement('div');\n",
              "        docLink.innerHTML = docLinkHtml;\n",
              "        element.appendChild(docLink);\n",
              "      }\n",
              "    </script>\n",
              "  </div>\n",
              "\n",
              "\n",
              "<div id=\"df-a2b8474c-98e1-44f8-8144-5da7f1aa2add\">\n",
              "  <button class=\"colab-df-quickchart\" onclick=\"quickchart('df-a2b8474c-98e1-44f8-8144-5da7f1aa2add')\"\n",
              "            title=\"Suggest charts\"\n",
              "            style=\"display:none;\">\n",
              "\n",
              "<svg xmlns=\"http://www.w3.org/2000/svg\" height=\"24px\"viewBox=\"0 0 24 24\"\n",
              "     width=\"24px\">\n",
              "    <g>\n",
              "        <path d=\"M19 3H5c-1.1 0-2 .9-2 2v14c0 1.1.9 2 2 2h14c1.1 0 2-.9 2-2V5c0-1.1-.9-2-2-2zM9 17H7v-7h2v7zm4 0h-2V7h2v10zm4 0h-2v-4h2v4z\"/>\n",
              "    </g>\n",
              "</svg>\n",
              "  </button>\n",
              "\n",
              "<style>\n",
              "  .colab-df-quickchart {\n",
              "      --bg-color: #E8F0FE;\n",
              "      --fill-color: #1967D2;\n",
              "      --hover-bg-color: #E2EBFA;\n",
              "      --hover-fill-color: #174EA6;\n",
              "      --disabled-fill-color: #AAA;\n",
              "      --disabled-bg-color: #DDD;\n",
              "  }\n",
              "\n",
              "  [theme=dark] .colab-df-quickchart {\n",
              "      --bg-color: #3B4455;\n",
              "      --fill-color: #D2E3FC;\n",
              "      --hover-bg-color: #434B5C;\n",
              "      --hover-fill-color: #FFFFFF;\n",
              "      --disabled-bg-color: #3B4455;\n",
              "      --disabled-fill-color: #666;\n",
              "  }\n",
              "\n",
              "  .colab-df-quickchart {\n",
              "    background-color: var(--bg-color);\n",
              "    border: none;\n",
              "    border-radius: 50%;\n",
              "    cursor: pointer;\n",
              "    display: none;\n",
              "    fill: var(--fill-color);\n",
              "    height: 32px;\n",
              "    padding: 0;\n",
              "    width: 32px;\n",
              "  }\n",
              "\n",
              "  .colab-df-quickchart:hover {\n",
              "    background-color: var(--hover-bg-color);\n",
              "    box-shadow: 0 1px 2px rgba(60, 64, 67, 0.3), 0 1px 3px 1px rgba(60, 64, 67, 0.15);\n",
              "    fill: var(--button-hover-fill-color);\n",
              "  }\n",
              "\n",
              "  .colab-df-quickchart-complete:disabled,\n",
              "  .colab-df-quickchart-complete:disabled:hover {\n",
              "    background-color: var(--disabled-bg-color);\n",
              "    fill: var(--disabled-fill-color);\n",
              "    box-shadow: none;\n",
              "  }\n",
              "\n",
              "  .colab-df-spinner {\n",
              "    border: 2px solid var(--fill-color);\n",
              "    border-color: transparent;\n",
              "    border-bottom-color: var(--fill-color);\n",
              "    animation:\n",
              "      spin 1s steps(1) infinite;\n",
              "  }\n",
              "\n",
              "  @keyframes spin {\n",
              "    0% {\n",
              "      border-color: transparent;\n",
              "      border-bottom-color: var(--fill-color);\n",
              "      border-left-color: var(--fill-color);\n",
              "    }\n",
              "    20% {\n",
              "      border-color: transparent;\n",
              "      border-left-color: var(--fill-color);\n",
              "      border-top-color: var(--fill-color);\n",
              "    }\n",
              "    30% {\n",
              "      border-color: transparent;\n",
              "      border-left-color: var(--fill-color);\n",
              "      border-top-color: var(--fill-color);\n",
              "      border-right-color: var(--fill-color);\n",
              "    }\n",
              "    40% {\n",
              "      border-color: transparent;\n",
              "      border-right-color: var(--fill-color);\n",
              "      border-top-color: var(--fill-color);\n",
              "    }\n",
              "    60% {\n",
              "      border-color: transparent;\n",
              "      border-right-color: var(--fill-color);\n",
              "    }\n",
              "    80% {\n",
              "      border-color: transparent;\n",
              "      border-right-color: var(--fill-color);\n",
              "      border-bottom-color: var(--fill-color);\n",
              "    }\n",
              "    90% {\n",
              "      border-color: transparent;\n",
              "      border-bottom-color: var(--fill-color);\n",
              "    }\n",
              "  }\n",
              "</style>\n",
              "\n",
              "  <script>\n",
              "    async function quickchart(key) {\n",
              "      const quickchartButtonEl =\n",
              "        document.querySelector('#' + key + ' button');\n",
              "      quickchartButtonEl.disabled = true;  // To prevent multiple clicks.\n",
              "      quickchartButtonEl.classList.add('colab-df-spinner');\n",
              "      try {\n",
              "        const charts = await google.colab.kernel.invokeFunction(\n",
              "            'suggestCharts', [key], {});\n",
              "      } catch (error) {\n",
              "        console.error('Error during call to suggestCharts:', error);\n",
              "      }\n",
              "      quickchartButtonEl.classList.remove('colab-df-spinner');\n",
              "      quickchartButtonEl.classList.add('colab-df-quickchart-complete');\n",
              "    }\n",
              "    (() => {\n",
              "      let quickchartButtonEl =\n",
              "        document.querySelector('#df-a2b8474c-98e1-44f8-8144-5da7f1aa2add button');\n",
              "      quickchartButtonEl.style.display =\n",
              "        google.colab.kernel.accessAllowed ? 'block' : 'none';\n",
              "    })();\n",
              "  </script>\n",
              "</div>\n",
              "    </div>\n",
              "  </div>\n"
            ]
          },
          "metadata": {},
          "execution_count": 30
        }
      ]
    },
    {
      "cell_type": "code",
      "source": [
        "dotmap_rounded2 = dotmap_data[['state', 'longitude_coordinate_rounded', 'latitude_coordinate_rounded']\n",
        "                              ].value_counts().reset_index().sort_values(\n",
        "                                  by = ['longitude_coordinate_rounded', 'latitude_coordinate_rounded', 'state'])\n",
        "dotmap_rounded2.columns = ['state', 'longitude', 'latitude', 'count']"
      ],
      "metadata": {
        "id": "ywBVZdJcumw1"
      },
      "execution_count": 33,
      "outputs": []
    },
    {
      "cell_type": "markdown",
      "source": [
        "GUARDARE QUI PER ELIMINARE"
      ],
      "metadata": {
        "id": "JRkA8IKLxCyD"
      }
    },
    {
      "cell_type": "code",
      "source": [
        "dotmap_rounded2\n",
        "### Eliminare pag 8-11 --> tutte le occorrenze California dal 588 (sotto New Mexico) in poi\n",
        "### Eliminare pag 12-15 --> tutte le occorrenze Minnesota dal 472 (sotto Oklahoma) in poi (fino a sopra Texas)\n",
        "### Eliminare pag 18-19 --> tutte le occorrenze Texas dal 630 (sopra Iowa) in poi\n"
      ],
      "metadata": {
        "id": "rLpqZkq5utj5",
        "outputId": "d815d087-33f1-425e-bae7-17032568429a",
        "colab": {
          "base_uri": "https://localhost:8080/",
          "height": 424
        }
      },
      "execution_count": 35,
      "outputs": [
        {
          "output_type": "execute_result",
          "data": {
            "text/plain": [
              "            state  longitude  latitude  count\n",
              "536        Hawaii     -158.0      21.4     43\n",
              "264        Hawaii     -157.9      21.3   1362\n",
              "680        Hawaii     -157.9      21.4      1\n",
              "153        Hawaii     -157.8      21.3   6224\n",
              "200        Hawaii     -157.8      21.4   3122\n",
              "..            ...        ...       ...    ...\n",
              "655    California      -72.2      42.0      3\n",
              "247  Rhode Island      -71.5      41.8   1562\n",
              "502  Rhode Island      -71.5      41.9     76\n",
              "80   Rhode Island      -71.4      41.8  19266\n",
              "255  Rhode Island      -71.4      41.9   1423\n",
              "\n",
              "[689 rows x 4 columns]"
            ],
            "text/html": [
              "\n",
              "  <div id=\"df-0b59927a-208a-4c66-a1ef-69743b6c2d28\" class=\"colab-df-container\">\n",
              "    <div>\n",
              "<style scoped>\n",
              "    .dataframe tbody tr th:only-of-type {\n",
              "        vertical-align: middle;\n",
              "    }\n",
              "\n",
              "    .dataframe tbody tr th {\n",
              "        vertical-align: top;\n",
              "    }\n",
              "\n",
              "    .dataframe thead th {\n",
              "        text-align: right;\n",
              "    }\n",
              "</style>\n",
              "<table border=\"1\" class=\"dataframe\">\n",
              "  <thead>\n",
              "    <tr style=\"text-align: right;\">\n",
              "      <th></th>\n",
              "      <th>state</th>\n",
              "      <th>longitude</th>\n",
              "      <th>latitude</th>\n",
              "      <th>count</th>\n",
              "    </tr>\n",
              "  </thead>\n",
              "  <tbody>\n",
              "    <tr>\n",
              "      <th>536</th>\n",
              "      <td>Hawaii</td>\n",
              "      <td>-158.0</td>\n",
              "      <td>21.4</td>\n",
              "      <td>43</td>\n",
              "    </tr>\n",
              "    <tr>\n",
              "      <th>264</th>\n",
              "      <td>Hawaii</td>\n",
              "      <td>-157.9</td>\n",
              "      <td>21.3</td>\n",
              "      <td>1362</td>\n",
              "    </tr>\n",
              "    <tr>\n",
              "      <th>680</th>\n",
              "      <td>Hawaii</td>\n",
              "      <td>-157.9</td>\n",
              "      <td>21.4</td>\n",
              "      <td>1</td>\n",
              "    </tr>\n",
              "    <tr>\n",
              "      <th>153</th>\n",
              "      <td>Hawaii</td>\n",
              "      <td>-157.8</td>\n",
              "      <td>21.3</td>\n",
              "      <td>6224</td>\n",
              "    </tr>\n",
              "    <tr>\n",
              "      <th>200</th>\n",
              "      <td>Hawaii</td>\n",
              "      <td>-157.8</td>\n",
              "      <td>21.4</td>\n",
              "      <td>3122</td>\n",
              "    </tr>\n",
              "    <tr>\n",
              "      <th>...</th>\n",
              "      <td>...</td>\n",
              "      <td>...</td>\n",
              "      <td>...</td>\n",
              "      <td>...</td>\n",
              "    </tr>\n",
              "    <tr>\n",
              "      <th>655</th>\n",
              "      <td>California</td>\n",
              "      <td>-72.2</td>\n",
              "      <td>42.0</td>\n",
              "      <td>3</td>\n",
              "    </tr>\n",
              "    <tr>\n",
              "      <th>247</th>\n",
              "      <td>Rhode Island</td>\n",
              "      <td>-71.5</td>\n",
              "      <td>41.8</td>\n",
              "      <td>1562</td>\n",
              "    </tr>\n",
              "    <tr>\n",
              "      <th>502</th>\n",
              "      <td>Rhode Island</td>\n",
              "      <td>-71.5</td>\n",
              "      <td>41.9</td>\n",
              "      <td>76</td>\n",
              "    </tr>\n",
              "    <tr>\n",
              "      <th>80</th>\n",
              "      <td>Rhode Island</td>\n",
              "      <td>-71.4</td>\n",
              "      <td>41.8</td>\n",
              "      <td>19266</td>\n",
              "    </tr>\n",
              "    <tr>\n",
              "      <th>255</th>\n",
              "      <td>Rhode Island</td>\n",
              "      <td>-71.4</td>\n",
              "      <td>41.9</td>\n",
              "      <td>1423</td>\n",
              "    </tr>\n",
              "  </tbody>\n",
              "</table>\n",
              "<p>689 rows × 4 columns</p>\n",
              "</div>\n",
              "    <div class=\"colab-df-buttons\">\n",
              "\n",
              "  <div class=\"colab-df-container\">\n",
              "    <button class=\"colab-df-convert\" onclick=\"convertToInteractive('df-0b59927a-208a-4c66-a1ef-69743b6c2d28')\"\n",
              "            title=\"Convert this dataframe to an interactive table.\"\n",
              "            style=\"display:none;\">\n",
              "\n",
              "  <svg xmlns=\"http://www.w3.org/2000/svg\" height=\"24px\" viewBox=\"0 -960 960 960\">\n",
              "    <path d=\"M120-120v-720h720v720H120Zm60-500h600v-160H180v160Zm220 220h160v-160H400v160Zm0 220h160v-160H400v160ZM180-400h160v-160H180v160Zm440 0h160v-160H620v160ZM180-180h160v-160H180v160Zm440 0h160v-160H620v160Z\"/>\n",
              "  </svg>\n",
              "    </button>\n",
              "\n",
              "  <style>\n",
              "    .colab-df-container {\n",
              "      display:flex;\n",
              "      gap: 12px;\n",
              "    }\n",
              "\n",
              "    .colab-df-convert {\n",
              "      background-color: #E8F0FE;\n",
              "      border: none;\n",
              "      border-radius: 50%;\n",
              "      cursor: pointer;\n",
              "      display: none;\n",
              "      fill: #1967D2;\n",
              "      height: 32px;\n",
              "      padding: 0 0 0 0;\n",
              "      width: 32px;\n",
              "    }\n",
              "\n",
              "    .colab-df-convert:hover {\n",
              "      background-color: #E2EBFA;\n",
              "      box-shadow: 0px 1px 2px rgba(60, 64, 67, 0.3), 0px 1px 3px 1px rgba(60, 64, 67, 0.15);\n",
              "      fill: #174EA6;\n",
              "    }\n",
              "\n",
              "    .colab-df-buttons div {\n",
              "      margin-bottom: 4px;\n",
              "    }\n",
              "\n",
              "    [theme=dark] .colab-df-convert {\n",
              "      background-color: #3B4455;\n",
              "      fill: #D2E3FC;\n",
              "    }\n",
              "\n",
              "    [theme=dark] .colab-df-convert:hover {\n",
              "      background-color: #434B5C;\n",
              "      box-shadow: 0px 1px 3px 1px rgba(0, 0, 0, 0.15);\n",
              "      filter: drop-shadow(0px 1px 2px rgba(0, 0, 0, 0.3));\n",
              "      fill: #FFFFFF;\n",
              "    }\n",
              "  </style>\n",
              "\n",
              "    <script>\n",
              "      const buttonEl =\n",
              "        document.querySelector('#df-0b59927a-208a-4c66-a1ef-69743b6c2d28 button.colab-df-convert');\n",
              "      buttonEl.style.display =\n",
              "        google.colab.kernel.accessAllowed ? 'block' : 'none';\n",
              "\n",
              "      async function convertToInteractive(key) {\n",
              "        const element = document.querySelector('#df-0b59927a-208a-4c66-a1ef-69743b6c2d28');\n",
              "        const dataTable =\n",
              "          await google.colab.kernel.invokeFunction('convertToInteractive',\n",
              "                                                    [key], {});\n",
              "        if (!dataTable) return;\n",
              "\n",
              "        const docLinkHtml = 'Like what you see? Visit the ' +\n",
              "          '<a target=\"_blank\" href=https://colab.research.google.com/notebooks/data_table.ipynb>data table notebook</a>'\n",
              "          + ' to learn more about interactive tables.';\n",
              "        element.innerHTML = '';\n",
              "        dataTable['output_type'] = 'display_data';\n",
              "        await google.colab.output.renderOutput(dataTable, element);\n",
              "        const docLink = document.createElement('div');\n",
              "        docLink.innerHTML = docLinkHtml;\n",
              "        element.appendChild(docLink);\n",
              "      }\n",
              "    </script>\n",
              "  </div>\n",
              "\n",
              "\n",
              "<div id=\"df-bc4e1ab5-df3f-45d0-993c-359d6277df29\">\n",
              "  <button class=\"colab-df-quickchart\" onclick=\"quickchart('df-bc4e1ab5-df3f-45d0-993c-359d6277df29')\"\n",
              "            title=\"Suggest charts\"\n",
              "            style=\"display:none;\">\n",
              "\n",
              "<svg xmlns=\"http://www.w3.org/2000/svg\" height=\"24px\"viewBox=\"0 0 24 24\"\n",
              "     width=\"24px\">\n",
              "    <g>\n",
              "        <path d=\"M19 3H5c-1.1 0-2 .9-2 2v14c0 1.1.9 2 2 2h14c1.1 0 2-.9 2-2V5c0-1.1-.9-2-2-2zM9 17H7v-7h2v7zm4 0h-2V7h2v10zm4 0h-2v-4h2v4z\"/>\n",
              "    </g>\n",
              "</svg>\n",
              "  </button>\n",
              "\n",
              "<style>\n",
              "  .colab-df-quickchart {\n",
              "      --bg-color: #E8F0FE;\n",
              "      --fill-color: #1967D2;\n",
              "      --hover-bg-color: #E2EBFA;\n",
              "      --hover-fill-color: #174EA6;\n",
              "      --disabled-fill-color: #AAA;\n",
              "      --disabled-bg-color: #DDD;\n",
              "  }\n",
              "\n",
              "  [theme=dark] .colab-df-quickchart {\n",
              "      --bg-color: #3B4455;\n",
              "      --fill-color: #D2E3FC;\n",
              "      --hover-bg-color: #434B5C;\n",
              "      --hover-fill-color: #FFFFFF;\n",
              "      --disabled-bg-color: #3B4455;\n",
              "      --disabled-fill-color: #666;\n",
              "  }\n",
              "\n",
              "  .colab-df-quickchart {\n",
              "    background-color: var(--bg-color);\n",
              "    border: none;\n",
              "    border-radius: 50%;\n",
              "    cursor: pointer;\n",
              "    display: none;\n",
              "    fill: var(--fill-color);\n",
              "    height: 32px;\n",
              "    padding: 0;\n",
              "    width: 32px;\n",
              "  }\n",
              "\n",
              "  .colab-df-quickchart:hover {\n",
              "    background-color: var(--hover-bg-color);\n",
              "    box-shadow: 0 1px 2px rgba(60, 64, 67, 0.3), 0 1px 3px 1px rgba(60, 64, 67, 0.15);\n",
              "    fill: var(--button-hover-fill-color);\n",
              "  }\n",
              "\n",
              "  .colab-df-quickchart-complete:disabled,\n",
              "  .colab-df-quickchart-complete:disabled:hover {\n",
              "    background-color: var(--disabled-bg-color);\n",
              "    fill: var(--disabled-fill-color);\n",
              "    box-shadow: none;\n",
              "  }\n",
              "\n",
              "  .colab-df-spinner {\n",
              "    border: 2px solid var(--fill-color);\n",
              "    border-color: transparent;\n",
              "    border-bottom-color: var(--fill-color);\n",
              "    animation:\n",
              "      spin 1s steps(1) infinite;\n",
              "  }\n",
              "\n",
              "  @keyframes spin {\n",
              "    0% {\n",
              "      border-color: transparent;\n",
              "      border-bottom-color: var(--fill-color);\n",
              "      border-left-color: var(--fill-color);\n",
              "    }\n",
              "    20% {\n",
              "      border-color: transparent;\n",
              "      border-left-color: var(--fill-color);\n",
              "      border-top-color: var(--fill-color);\n",
              "    }\n",
              "    30% {\n",
              "      border-color: transparent;\n",
              "      border-left-color: var(--fill-color);\n",
              "      border-top-color: var(--fill-color);\n",
              "      border-right-color: var(--fill-color);\n",
              "    }\n",
              "    40% {\n",
              "      border-color: transparent;\n",
              "      border-right-color: var(--fill-color);\n",
              "      border-top-color: var(--fill-color);\n",
              "    }\n",
              "    60% {\n",
              "      border-color: transparent;\n",
              "      border-right-color: var(--fill-color);\n",
              "    }\n",
              "    80% {\n",
              "      border-color: transparent;\n",
              "      border-right-color: var(--fill-color);\n",
              "      border-bottom-color: var(--fill-color);\n",
              "    }\n",
              "    90% {\n",
              "      border-color: transparent;\n",
              "      border-bottom-color: var(--fill-color);\n",
              "    }\n",
              "  }\n",
              "</style>\n",
              "\n",
              "  <script>\n",
              "    async function quickchart(key) {\n",
              "      const quickchartButtonEl =\n",
              "        document.querySelector('#' + key + ' button');\n",
              "      quickchartButtonEl.disabled = true;  // To prevent multiple clicks.\n",
              "      quickchartButtonEl.classList.add('colab-df-spinner');\n",
              "      try {\n",
              "        const charts = await google.colab.kernel.invokeFunction(\n",
              "            'suggestCharts', [key], {});\n",
              "      } catch (error) {\n",
              "        console.error('Error during call to suggestCharts:', error);\n",
              "      }\n",
              "      quickchartButtonEl.classList.remove('colab-df-spinner');\n",
              "      quickchartButtonEl.classList.add('colab-df-quickchart-complete');\n",
              "    }\n",
              "    (() => {\n",
              "      let quickchartButtonEl =\n",
              "        document.querySelector('#df-bc4e1ab5-df3f-45d0-993c-359d6277df29 button');\n",
              "      quickchartButtonEl.style.display =\n",
              "        google.colab.kernel.accessAllowed ? 'block' : 'none';\n",
              "    })();\n",
              "  </script>\n",
              "</div>\n",
              "    </div>\n",
              "  </div>\n"
            ]
          },
          "metadata": {},
          "execution_count": 35
        }
      ]
    },
    {
      "cell_type": "code",
      "source": [
        "dotmap_rounded.to_csv('dotmap.csv', index=False)"
      ],
      "metadata": {
        "id": "sM2qR7EpWPek"
      },
      "execution_count": 20,
      "outputs": []
    },
    {
      "cell_type": "markdown",
      "source": [
        "# Download ALL .csv files"
      ],
      "metadata": {
        "id": "Xu0I1XPBTWqA"
      }
    },
    {
      "cell_type": "code",
      "source": [
        "directory_path = '/content'\n",
        "file_type = \".csv\"\n",
        "files_to_download = glob.glob(f\"{directory_path}/*{file_type}\")\n",
        "zip_filename = \"datasets.zip\"\n",
        "with zipfile.ZipFile(zip_filename, \"w\") as zipf:\n",
        "    for file in files_to_download:\n",
        "        zipf.write(file, arcname=os.path.basename(file))\n",
        "files.download(zip_filename)"
      ],
      "metadata": {
        "id": "TCLdmxRCTUmf",
        "outputId": "8ce08fb9-b8c3-422e-bf3a-3085db9a5ae5",
        "colab": {
          "base_uri": "https://localhost:8080/",
          "height": 17
        }
      },
      "execution_count": null,
      "outputs": [
        {
          "output_type": "display_data",
          "data": {
            "text/plain": [
              "<IPython.core.display.Javascript object>"
            ],
            "application/javascript": [
              "\n",
              "    async function download(id, filename, size) {\n",
              "      if (!google.colab.kernel.accessAllowed) {\n",
              "        return;\n",
              "      }\n",
              "      const div = document.createElement('div');\n",
              "      const label = document.createElement('label');\n",
              "      label.textContent = `Downloading \"${filename}\": `;\n",
              "      div.appendChild(label);\n",
              "      const progress = document.createElement('progress');\n",
              "      progress.max = size;\n",
              "      div.appendChild(progress);\n",
              "      document.body.appendChild(div);\n",
              "\n",
              "      const buffers = [];\n",
              "      let downloaded = 0;\n",
              "\n",
              "      const channel = await google.colab.kernel.comms.open(id);\n",
              "      // Send a message to notify the kernel that we're ready.\n",
              "      channel.send({})\n",
              "\n",
              "      for await (const message of channel.messages) {\n",
              "        // Send a message to notify the kernel that we're ready.\n",
              "        channel.send({})\n",
              "        if (message.buffers) {\n",
              "          for (const buffer of message.buffers) {\n",
              "            buffers.push(buffer);\n",
              "            downloaded += buffer.byteLength;\n",
              "            progress.value = downloaded;\n",
              "          }\n",
              "        }\n",
              "      }\n",
              "      const blob = new Blob(buffers, {type: 'application/binary'});\n",
              "      const a = document.createElement('a');\n",
              "      a.href = window.URL.createObjectURL(blob);\n",
              "      a.download = filename;\n",
              "      div.appendChild(a);\n",
              "      a.click();\n",
              "      div.remove();\n",
              "    }\n",
              "  "
            ]
          },
          "metadata": {}
        },
        {
          "output_type": "display_data",
          "data": {
            "text/plain": [
              "<IPython.core.display.Javascript object>"
            ],
            "application/javascript": [
              "download(\"download_8597fff4-27ca-40ad-b4ca-69d9cf83b0c2\", \"datasets.zip\", 2531658)"
            ]
          },
          "metadata": {}
        }
      ]
    }
  ]
}