{
  "nbformat": 4,
  "nbformat_minor": 0,
  "metadata": {
    "colab": {
      "provenance": [],
      "authorship_tag": "ABX9TyMT6iah4Ndz4EUjzfgWSBDM",
      "include_colab_link": true
    },
    "kernelspec": {
      "name": "python3",
      "display_name": "Python 3"
    },
    "language_info": {
      "name": "python"
    }
  },
  "cells": [
    {
      "cell_type": "markdown",
      "metadata": {
        "id": "view-in-github",
        "colab_type": "text"
      },
      "source": [
        "<a href=\"https://colab.research.google.com/github/VittorioBartolomeoSecondin/DVIS-CAValli_Team/blob/main/Maps.ipynb\" target=\"_parent\"><img src=\"https://colab.research.google.com/assets/colab-badge.svg\" alt=\"Open In Colab\"/></a>"
      ]
    },
    {
      "cell_type": "markdown",
      "source": [
        "# Importing libraries and connecting to Google Drive"
      ],
      "metadata": {
        "id": "fEUxDlj-TJlh"
      }
    },
    {
      "cell_type": "code",
      "execution_count": null,
      "metadata": {
        "colab": {
          "base_uri": "https://localhost:8080/"
        },
        "id": "N-5lfwtzTD_p",
        "outputId": "3eaa91e2-bd58-4b5d-8f28-69f52b33fbfc"
      },
      "outputs": [
        {
          "output_type": "stream",
          "name": "stdout",
          "text": [
            "Mounted at /content/drive\n"
          ]
        }
      ],
      "source": [
        "import pandas as pd\n",
        "import matplotlib.pyplot as plt\n",
        "import numpy as np\n",
        "import glob\n",
        "import re\n",
        "import json\n",
        "import csv\n",
        "import requests\n",
        "import os\n",
        "import zipfile\n",
        "from google.colab import files\n",
        "from google.colab import drive\n",
        "drive.mount('/content/drive') # turned out to be a good workaround to load a huge amount of data and keep it available"
      ]
    },
    {
      "cell_type": "markdown",
      "source": [
        "# Load tree_dataset"
      ],
      "metadata": {
        "id": "wduOcyh_2j2k"
      }
    },
    {
      "cell_type": "markdown",
      "source": [
        "Uncomment the following line of code to load the already pre-processed *tree_dataset* from google drive"
      ],
      "metadata": {
        "id": "TikljYvEHD6o"
      }
    },
    {
      "cell_type": "code",
      "source": [
        "tree_dataset = pd.read_csv(\"/content/drive/MyDrive/tree_dataset/final_dataset/tree_dataset.csv\", low_memory=False)"
      ],
      "metadata": {
        "id": "-yb7Zoj7Uwl3"
      },
      "execution_count": null,
      "outputs": []
    },
    {
      "cell_type": "markdown",
      "source": [
        "# Prepare data for mapping"
      ],
      "metadata": {
        "id": "db3a-MbTX2NY"
      }
    },
    {
      "cell_type": "code",
      "source": [
        "def create_abundance_csv(csv_name, header, name, abundance):\n",
        "\n",
        "  with open(csv_name, 'w', encoding='UTF8', newline='') as f:\n",
        "    writer = csv.writer(f)\n",
        "    writer.writerow(header)\n",
        "    for idx in range(len(state)):\n",
        "      row = [name[idx], abundance[idx]]\n",
        "      writer.writerow(row)"
      ],
      "metadata": {
        "id": "W4u9Tbpic3Jx"
      },
      "execution_count": null,
      "outputs": []
    },
    {
      "cell_type": "code",
      "source": [
        "def create_abundance_fips_csv(csv_name, header, name, abundance, fips_codes):\n",
        "\n",
        "  with open(csv_name, 'w', encoding='UTF8', newline='') as f:\n",
        "    writer = csv.writer(f)\n",
        "    writer.writerow(header)\n",
        "    for idx in range(len(state)):\n",
        "      row = [name[idx], abundance[idx], fips_codes.get(name[idx])]\n",
        "      writer.writerow(row)"
      ],
      "metadata": {
        "id": "IyRaqiBQoE-l"
      },
      "execution_count": null,
      "outputs": []
    },
    {
      "cell_type": "markdown",
      "source": [
        "## State abundance"
      ],
      "metadata": {
        "id": "QQh6c7p0g14e"
      }
    },
    {
      "cell_type": "code",
      "source": [
        "csv_name = \"state_abundance.csv\"\n",
        "header = ['state', 'abundance']\n",
        "state = list(tree_dataset['state'].value_counts().index)\n",
        "abundance = list(tree_dataset['state'].value_counts().values)\n",
        "create_abundance_csv(csv_name, header, state, abundance)"
      ],
      "metadata": {
        "id": "IqR9Tvo6fglY"
      },
      "execution_count": null,
      "outputs": []
    },
    {
      "cell_type": "markdown",
      "source": [
        "## State abundance and fips code"
      ],
      "metadata": {
        "id": "q84uaUUVoj0M"
      }
    },
    {
      "cell_type": "code",
      "source": [
        "fips_codes = {\n",
        "    \"Alabama\": \"US01\",\n",
        "    \"Alaska\": \"US02\",\n",
        "    \"Arizona\": \"US04\",\n",
        "    \"Arkansas\": \"US05\",\n",
        "    \"California\": \"US06\",\n",
        "    \"Colorado\": \"US08\",\n",
        "    \"Connecticut\": \"US09\",\n",
        "    \"Delaware\": \"US10\",\n",
        "    \"District of Columbia\": \"US11\",\n",
        "    \"Florida\": \"US12\",\n",
        "    \"Georgia\": \"US13\",\n",
        "    \"Hawaii\": \"US15\",\n",
        "    \"Idaho\": \"US16\",\n",
        "    \"Illinois\": \"US17\",\n",
        "    \"Indiana\": \"US18\",\n",
        "    \"Iowa\": \"US19\",\n",
        "    \"Kansas\": \"US20\",\n",
        "    \"Kentucky\": \"US21\",\n",
        "    \"Louisiana\": \"US22\",\n",
        "    \"Maine\": \"US23\",\n",
        "    \"Maryland\": \"US24\",\n",
        "    \"Massachussetts\": \"US25\",\n",
        "    \"Michigan\": \"US26\",\n",
        "    \"Minnesota\": \"US27\",\n",
        "    \"Mississippi\": \"US28\",\n",
        "    \"Missouri\": \"US29\",\n",
        "    \"Montana\": \"US30\",\n",
        "    \"Nebraska\": \"US31\",\n",
        "    \"Nevada\": \"US32\",\n",
        "    \"New Hampshire\": \"US33\",\n",
        "    \"New Jersey\": \"US34\",\n",
        "    \"New Mexico\": \"US35\",\n",
        "    \"New York\": \"US36\",\n",
        "    \"North Carolina\": \"US37\",\n",
        "    \"North Dakota\": \"US38\",\n",
        "    \"Ohio\": \"US39\",\n",
        "    \"Oklahoma\": \"US40\",\n",
        "    \"Oregon\": \"US41\",\n",
        "    \"Pennsylvania\": \"US42\",\n",
        "    \"Rhode Island\": \"US44\",\n",
        "    \"South Carolina\": \"US45\",\n",
        "    \"South Dakota\": \"US46\",\n",
        "    \"Tennessee\": \"US47\",\n",
        "    \"Texas\": \"US48\",\n",
        "    \"Utah\": \"US49\",\n",
        "    \"Vermont\": \"US50\",\n",
        "    \"Virginia\": \"US51\",\n",
        "    \"Washington\": \"US53\",\n",
        "    \"West Virginia\": \"US54\",\n",
        "    \"Wisconsin\": \"US55\",\n",
        "    \"Wyoming\": \"US56\"\n",
        "}"
      ],
      "metadata": {
        "id": "sj9o3FYYkVyp"
      },
      "execution_count": null,
      "outputs": []
    },
    {
      "cell_type": "code",
      "source": [
        "csv_name = \"state_abundance_fips.csv\"\n",
        "header = ['state', 'abundance', 'fips']\n",
        "state = list(tree_dataset['state'].value_counts().index)\n",
        "abundance = list(tree_dataset['state'].value_counts().values)\n",
        "create_abundance_fips_csv(csv_name, header, state, abundance, fips_codes)"
      ],
      "metadata": {
        "id": "nEeTI8AwoqPc"
      },
      "execution_count": null,
      "outputs": []
    },
    {
      "cell_type": "markdown",
      "source": [
        "## State abundance and postal"
      ],
      "metadata": {
        "id": "BfA4nKyVM1yo"
      }
    },
    {
      "cell_type": "code",
      "source": [
        "postal_codes = {\n",
        "    \"Alabama\": \"AL\",\n",
        "    \"Alaska\": \"AK\",\n",
        "    \"Arizona\": \"AZ\",\n",
        "    \"Arkansas\": \"AR\",\n",
        "    \"California\": \"CA\",\n",
        "    \"Colorado\": \"CO\",\n",
        "    \"Connecticut\": \"CT\",\n",
        "    \"Delaware\": \"DE\",\n",
        "    \"District of Columbia\": \"DC\",\n",
        "    \"Florida\": \"FL\",\n",
        "    \"Georgia\": \"GA\",\n",
        "    \"Hawaii\": \"HI\",\n",
        "    \"Idaho\": \"ID\",\n",
        "    \"Illinois\": \"IL\",\n",
        "    \"Indiana\": \"IN\",\n",
        "    \"Iowa\": \"IA\",\n",
        "    \"Kansas\": \"KS\",\n",
        "    \"Kentucky\": \"KY\",\n",
        "    \"Louisiana\": \"LA\",\n",
        "    \"Maine\": \"ME\",\n",
        "    \"Maryland\": \"MD\",\n",
        "    \"Massachusetts\": \"MA\",\n",
        "    \"Michigan\": \"MI\",\n",
        "    \"Minnesota\": \"MN\",\n",
        "    \"Mississippi\": \"MS\",\n",
        "    \"Missouri\": \"MO\",\n",
        "    \"Montana\": \"MT\",\n",
        "    \"Nebraska\": \"NE\",\n",
        "    \"Nevada\": \"NV\",\n",
        "    \"New Hampshire\": \"NH\",\n",
        "    \"New Jersey\": \"NJ\",\n",
        "    \"New Mexico\": \"NM\",\n",
        "    \"New York\": \"NY\",\n",
        "    \"North Carolina\": \"NC\",\n",
        "    \"North Dakota\": \"ND\",\n",
        "    \"Ohio\": \"OH\",\n",
        "    \"Oklahoma\": \"OK\",\n",
        "    \"Oregon\": \"OR\",\n",
        "    \"Pennsylvania\": \"PA\",\n",
        "    \"Puerto Rico\": \"PR\",\n",
        "    \"Rhode Island\": \"RI\",\n",
        "    \"South Carolina\": \"SC\",\n",
        "    \"South Dakota\": \"SD\",\n",
        "    \"Tennessee\": \"TN\",\n",
        "    \"Texas\": \"TX\",\n",
        "    \"Utah\": \"UT\",\n",
        "    \"Vermont\": \"VT\",\n",
        "    \"Virginia\": \"VA\",\n",
        "    \"Virgin Islands\": \"VI\",\n",
        "    \"Washington\": \"WA\",\n",
        "    \"West Virginia\": \"WV\",\n",
        "    \"Wisconsin\": \"WI\",\n",
        "    \"Wyoming\": \"WY\"\n",
        "}"
      ],
      "metadata": {
        "id": "tXRzRWLzM7ww"
      },
      "execution_count": null,
      "outputs": []
    },
    {
      "cell_type": "code",
      "source": [
        "csv_name = \"state_abundance_postal.csv\"\n",
        "header = ['state', 'abundance', 'postal']\n",
        "state = list(tree_dataset['state'].value_counts().index)\n",
        "abundance = list(tree_dataset['state'].value_counts().values)\n",
        "create_abundance_fips_csv(csv_name, header, state, abundance, postal_codes)"
      ],
      "metadata": {
        "id": "aT2WX1DhM7z5"
      },
      "execution_count": null,
      "outputs": []
    },
    {
      "cell_type": "markdown",
      "source": [
        "## City abundance"
      ],
      "metadata": {
        "id": "4tnTR-Gcg6o2"
      }
    },
    {
      "cell_type": "code",
      "source": [
        "csv_name = \"city_abundance.csv\"\n",
        "header = ['city', 'abundance']\n",
        "city = list(tree_dataset['greater_metro'].value_counts().index)\n",
        "abundance = list(tree_dataset['greater_metro'].value_counts().values)\n",
        "create_abundance_csv(csv_name, header, city, abundance)"
      ],
      "metadata": {
        "id": "lnKvMELng_nH"
      },
      "execution_count": null,
      "outputs": []
    },
    {
      "cell_type": "markdown",
      "source": [
        "## JSON"
      ],
      "metadata": {
        "id": "RZFwZGcAt-XU"
      }
    },
    {
      "cell_type": "code",
      "source": [
        "abundance_df = pd.read_csv(\"/content/state_abundance_postal.csv\", low_memory=False)\n",
        "abundance_dict = {}\n",
        "\n",
        "for idx in range(abundance_df.shape[0]):\n",
        "  name = list(abundance_df.iloc[idx])[0]\n",
        "  abundance = list(abundance_df.iloc[idx])[1]\n",
        "  postal = list(abundance_df.iloc[idx])[2]\n",
        "  abundance_dict[postal] = [name, abundance]\n",
        "\n",
        "for key, value in postal_codes.items():\n",
        "  if abundance_dict.get(value) is None:\n",
        "    name = key\n",
        "    abundance = 0\n",
        "    abundance_dict[value] = [name, abundance]\n",
        "  else:\n",
        "    name = abundance_dict.get(value)[0]\n",
        "    abundance = abundance_dict.get(value)[1]"
      ],
      "metadata": {
        "id": "iEZcy2S43o5K"
      },
      "execution_count": null,
      "outputs": []
    },
    {
      "cell_type": "code",
      "source": [
        "json_path = \"/content/drive/MyDrive/tree_dataset/final_dataset/us-states.json\"\n",
        "with open(json_path, 'r') as file:\n",
        "    json_file = json.load(file)"
      ],
      "metadata": {
        "id": "KbuSkiNru-SO"
      },
      "execution_count": null,
      "outputs": []
    },
    {
      "cell_type": "code",
      "source": [
        "for idx in range(len(json_file['objects']['states'].get('geometries'))):\n",
        "  properties = json_file['objects']['states'].get('geometries')[idx]['properties']\n",
        "  postal = properties['postal']\n",
        "  try:\n",
        "    name, abundance = abundance_dict[postal]\n",
        "    properties['name'] = name\n",
        "    properties['abundance'] = str(abundance)\n",
        "    print(properties)\n",
        "  except:\n",
        "    pass"
      ],
      "metadata": {
        "colab": {
          "base_uri": "https://localhost:8080/"
        },
        "id": "V1B3jxJhuCYD",
        "outputId": "41273e8b-b503-4aaa-dc2d-7da391b42d63"
      },
      "execution_count": null,
      "outputs": [
        {
          "output_type": "stream",
          "name": "stdout",
          "text": [
            "{'postal': 'AK', 'name': 'Alaska', 'abundance': '0'}\n",
            "{'postal': 'AL', 'name': 'Alabama', 'abundance': '0'}\n",
            "{'postal': 'AR', 'name': 'Arkansas', 'abundance': '0'}\n",
            "{'postal': 'AZ', 'name': 'Arizona', 'abundance': '214'}\n",
            "{'postal': 'CA', 'name': 'California', 'abundance': '1806085'}\n",
            "{'postal': 'CO', 'name': 'Colorado', 'abundance': '354878'}\n",
            "{'postal': 'CT', 'name': 'Connecticut', 'abundance': '0'}\n",
            "{'postal': 'DC', 'name': 'District of Columbia', 'abundance': '175847'}\n",
            "{'postal': 'DE', 'name': 'Delaware', 'abundance': '0'}\n",
            "{'postal': 'FL', 'name': 'Florida', 'abundance': '124208'}\n",
            "{'postal': 'GA', 'name': 'Georgia', 'abundance': '41175'}\n",
            "{'postal': 'HI', 'name': 'Hawaii', 'abundance': '15150'}\n",
            "{'postal': 'IA', 'name': 'Iowa', 'abundance': '15805'}\n",
            "{'postal': 'ID', 'name': 'Idaho', 'abundance': '0'}\n",
            "{'postal': 'IL', 'name': 'Illinois', 'abundance': '0'}\n",
            "{'postal': 'IN', 'name': 'Indiana', 'abundance': '97227'}\n",
            "{'postal': 'KS', 'name': 'Kansas', 'abundance': '44767'}\n",
            "{'postal': 'KY', 'name': 'Kentucky', 'abundance': '32711'}\n",
            "{'postal': 'LA', 'name': 'Louisiana', 'abundance': '105786'}\n",
            "{'postal': 'MA', 'name': 'Massachusetts', 'abundance': '16735'}\n",
            "{'postal': 'MD', 'name': 'Maryland', 'abundance': '121279'}\n",
            "{'postal': 'ME', 'name': 'Maine', 'abundance': '0'}\n",
            "{'postal': 'MI', 'name': 'Michigan', 'abundance': '92023'}\n",
            "{'postal': 'MN', 'name': 'Minnesota', 'abundance': '176834'}\n",
            "{'postal': 'MO', 'name': 'Missouri', 'abundance': '83533'}\n",
            "{'postal': 'MS', 'name': 'Mississippi', 'abundance': '0'}\n",
            "{'postal': 'MT', 'name': 'Montana', 'abundance': '0'}\n",
            "{'postal': 'NC', 'name': 'North Carolina', 'abundance': '22586'}\n",
            "{'postal': 'ND', 'name': 'North Dakota', 'abundance': '0'}\n",
            "{'postal': 'NE', 'name': 'Nebraska', 'abundance': '0'}\n",
            "{'postal': 'NH', 'name': 'New Hampshire', 'abundance': '0'}\n",
            "{'postal': 'NJ', 'name': 'New Jersey', 'abundance': '774'}\n",
            "{'postal': 'NM', 'name': 'New Mexico', 'abundance': '2485'}\n",
            "{'postal': 'NV', 'name': 'Nevada', 'abundance': '32006'}\n",
            "{'postal': 'NY', 'name': 'New York', 'abundance': '787349'}\n",
            "{'postal': 'OH', 'name': 'Ohio', 'abundance': '140876'}\n",
            "{'postal': 'OK', 'name': 'Oklahoma', 'abundance': '8871'}\n",
            "{'postal': 'OR', 'name': 'Oregon', 'abundance': '216751'}\n",
            "{'postal': 'PA', 'name': 'Pennsylvania', 'abundance': '42079'}\n",
            "{'postal': 'RI', 'name': 'Rhode Island', 'abundance': '24082'}\n",
            "{'postal': 'SC', 'name': 'South Carolina', 'abundance': '0'}\n",
            "{'postal': 'SD', 'name': 'South Dakota', 'abundance': '61304'}\n",
            "{'postal': 'TN', 'name': 'Tennessee', 'abundance': '10411'}\n",
            "{'postal': 'TX', 'name': 'Texas', 'abundance': '264285'}\n",
            "{'postal': 'UT', 'name': 'Utah', 'abundance': '0'}\n",
            "{'postal': 'VA', 'name': 'Virginia', 'abundance': '1815'}\n",
            "{'postal': 'VT', 'name': 'Vermont', 'abundance': '0'}\n",
            "{'postal': 'WA', 'name': 'Washington', 'abundance': '164903'}\n",
            "{'postal': 'WI', 'name': 'Wisconsin', 'abundance': '127623'}\n",
            "{'postal': 'WV', 'name': 'West Virginia', 'abundance': '0'}\n",
            "{'postal': 'WY', 'name': 'Wyoming', 'abundance': '0'}\n"
          ]
        }
      ]
    },
    {
      "cell_type": "code",
      "source": [
        "out_path = \"/content/choropleth.json\"\n",
        "with open(out_path, 'w') as file:\n",
        "    json.dump(json_file, file)"
      ],
      "metadata": {
        "id": "H_HHnLBd6piy"
      },
      "execution_count": null,
      "outputs": []
    },
    {
      "cell_type": "markdown",
      "source": [
        "## Drop data with no longitude/latitude"
      ],
      "metadata": {
        "id": "tW0ynO2Kpn80"
      }
    },
    {
      "cell_type": "code",
      "source": [
        "# tree_dataset.dropna(subset=['longitude_coordinate', 'latitude_coordinate'], how='any', inplace=True)"
      ],
      "metadata": {
        "id": "CyPlJ0QMX9E4"
      },
      "execution_count": null,
      "outputs": []
    },
    {
      "cell_type": "markdown",
      "source": [
        "# Download ALL .csv files"
      ],
      "metadata": {
        "id": "Xu0I1XPBTWqA"
      }
    },
    {
      "cell_type": "code",
      "source": [
        "directory_path = '/content'\n",
        "file_type = \".csv\"\n",
        "files_to_download = glob.glob(f\"{directory_path}/*{file_type}\")\n",
        "zip_filename = \"datasets.zip\"\n",
        "with zipfile.ZipFile(zip_filename, \"w\") as zipf:\n",
        "    for file in files_to_download:\n",
        "        zipf.write(file, arcname=os.path.basename(file))\n",
        "files.download(zip_filename)"
      ],
      "metadata": {
        "id": "TCLdmxRCTUmf",
        "outputId": "8ce08fb9-b8c3-422e-bf3a-3085db9a5ae5",
        "colab": {
          "base_uri": "https://localhost:8080/",
          "height": 17
        }
      },
      "execution_count": null,
      "outputs": [
        {
          "output_type": "display_data",
          "data": {
            "text/plain": [
              "<IPython.core.display.Javascript object>"
            ],
            "application/javascript": [
              "\n",
              "    async function download(id, filename, size) {\n",
              "      if (!google.colab.kernel.accessAllowed) {\n",
              "        return;\n",
              "      }\n",
              "      const div = document.createElement('div');\n",
              "      const label = document.createElement('label');\n",
              "      label.textContent = `Downloading \"${filename}\": `;\n",
              "      div.appendChild(label);\n",
              "      const progress = document.createElement('progress');\n",
              "      progress.max = size;\n",
              "      div.appendChild(progress);\n",
              "      document.body.appendChild(div);\n",
              "\n",
              "      const buffers = [];\n",
              "      let downloaded = 0;\n",
              "\n",
              "      const channel = await google.colab.kernel.comms.open(id);\n",
              "      // Send a message to notify the kernel that we're ready.\n",
              "      channel.send({})\n",
              "\n",
              "      for await (const message of channel.messages) {\n",
              "        // Send a message to notify the kernel that we're ready.\n",
              "        channel.send({})\n",
              "        if (message.buffers) {\n",
              "          for (const buffer of message.buffers) {\n",
              "            buffers.push(buffer);\n",
              "            downloaded += buffer.byteLength;\n",
              "            progress.value = downloaded;\n",
              "          }\n",
              "        }\n",
              "      }\n",
              "      const blob = new Blob(buffers, {type: 'application/binary'});\n",
              "      const a = document.createElement('a');\n",
              "      a.href = window.URL.createObjectURL(blob);\n",
              "      a.download = filename;\n",
              "      div.appendChild(a);\n",
              "      a.click();\n",
              "      div.remove();\n",
              "    }\n",
              "  "
            ]
          },
          "metadata": {}
        },
        {
          "output_type": "display_data",
          "data": {
            "text/plain": [
              "<IPython.core.display.Javascript object>"
            ],
            "application/javascript": [
              "download(\"download_8597fff4-27ca-40ad-b4ca-69d9cf83b0c2\", \"datasets.zip\", 2531658)"
            ]
          },
          "metadata": {}
        }
      ]
    }
  ]
}