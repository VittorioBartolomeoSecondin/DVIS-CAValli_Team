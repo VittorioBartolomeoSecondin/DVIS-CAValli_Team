{
  "nbformat": 4,
  "nbformat_minor": 0,
  "metadata": {
    "colab": {
      "provenance": [],
      "include_colab_link": true
    },
    "kernelspec": {
      "name": "python3",
      "display_name": "Python 3"
    },
    "language_info": {
      "name": "python"
    }
  },
  "cells": [
    {
      "cell_type": "markdown",
      "metadata": {
        "id": "view-in-github",
        "colab_type": "text"
      },
      "source": [
        "<a href=\"https://colab.research.google.com/github/VittorioBartolomeoSecondin/DVIS-CAValli_Team/blob/main/Temperatures.ipynb\" target=\"_parent\"><img src=\"https://colab.research.google.com/assets/colab-badge.svg\" alt=\"Open In Colab\"/></a>"
      ]
    },
    {
      "cell_type": "markdown",
      "source": [
        "# Data exploration and preprocessing"
      ],
      "metadata": {
        "id": "K_OLejOUTNVn"
      }
    },
    {
      "cell_type": "markdown",
      "source": [
        "## Importing libraries and connecting to Google Drive"
      ],
      "metadata": {
        "id": "fEUxDlj-TJlh"
      }
    },
    {
      "cell_type": "code",
      "execution_count": 2,
      "metadata": {
        "colab": {
          "base_uri": "https://localhost:8080/"
        },
        "id": "N-5lfwtzTD_p",
        "outputId": "3eaa91e2-bd58-4b5d-8f28-69f52b33fbfc"
      },
      "outputs": [
        {
          "output_type": "stream",
          "name": "stdout",
          "text": [
            "Mounted at /content/drive\n"
          ]
        }
      ],
      "source": [
        "import pandas as pd\n",
        "import matplotlib.pyplot as plt\n",
        "import numpy as np\n",
        "import glob\n",
        "import re\n",
        "import json\n",
        "import csv\n",
        "import requests\n",
        "import os\n",
        "import zipfile\n",
        "from google.colab import files\n",
        "from google.colab import drive\n",
        "drive.mount('/content/drive') # turned out to be a good workaround to load a huge amount of data and keep it available"
      ]
    },
    {
      "cell_type": "markdown",
      "source": [
        "## Reading the data"
      ],
      "metadata": {
        "id": "bwliM6Hp2y8U"
      }
    },
    {
      "cell_type": "code",
      "source": [
        "all_files = glob.glob(\"/content/drive/MyDrive/tree_dataset/final_dataset/*.txt\")\n",
        "all_files.sort()\n",
        "print(all_files)"
      ],
      "metadata": {
        "colab": {
          "base_uri": "https://localhost:8080/"
        },
        "id": "hCGvHGJTVYGo",
        "outputId": "b1e6d115-0d56-40bd-b2db-e76675d6b6a1"
      },
      "execution_count": 3,
      "outputs": [
        {
          "output_type": "stream",
          "name": "stdout",
          "text": [
            "['/content/drive/MyDrive/tree_dataset/final_dataset/climdiv-tmaxst-v1.0.0-20231106.txt', '/content/drive/MyDrive/tree_dataset/final_dataset/climdiv-tminst-v1.0.0-20231106.txt', '/content/drive/MyDrive/tree_dataset/final_dataset/climdiv-tmpcst-v1.0.0-20231106.txt']\n"
          ]
        }
      ]
    },
    {
      "cell_type": "code",
      "source": [
        "column_names = ['Code', 'JanF', 'FebF', 'MarF', 'AprF', 'MayF', 'JunF', 'JulF', 'AugF', 'SepF', 'OctF', 'NovF', 'DecF']\n",
        "column_data_types = {column_names[0]: str}\n",
        "column_data_types.update({column_names[i]: float for i in range(1, 13)})\n",
        "max_dataset = pd.read_csv(all_files[0], delimiter = r'\\s+', header = None, names = column_names, dtype = column_data_types)\n",
        "min_dataset = pd.read_csv(all_files[1], delimiter = r'\\s+', header = None, names = column_names, dtype = column_data_types)\n",
        "avg_dataset = pd.read_csv(all_files[2], delimiter = r'\\s+', header = None, names = column_names, dtype = column_data_types)"
      ],
      "metadata": {
        "id": "yp9Kf_QXVtGg"
      },
      "execution_count": 4,
      "outputs": []
    },
    {
      "cell_type": "markdown",
      "source": [
        "## Preparing the datasets for the export"
      ],
      "metadata": {
        "id": "UqJ1Twku21qG"
      }
    },
    {
      "cell_type": "markdown",
      "source": [
        "Replace -99.9 with NULL values"
      ],
      "metadata": {
        "id": "eD6XOIgj3h5m"
      }
    },
    {
      "cell_type": "code",
      "source": [
        "max_dataset.replace(-99.9, np.nan, inplace=True)\n",
        "min_dataset.replace(-99.9, np.nan, inplace=True)\n",
        "avg_dataset.replace(-99.9, np.nan, inplace=True)"
      ],
      "metadata": {
        "id": "-RsIGAiRYDtf"
      },
      "execution_count": 5,
      "outputs": []
    },
    {
      "cell_type": "markdown",
      "source": [
        "Convert from F to C"
      ],
      "metadata": {
        "id": "BYQJo2453pJV"
      }
    },
    {
      "cell_type": "code",
      "source": [
        "months_F = column_names[1:]\n",
        "months_C = ['Jan', 'Feb', 'Mar', 'Apr', 'May', 'Jun', 'Jul', 'Aug', 'Sep', 'Oct', 'Nov', 'Dec']\n",
        "for idx, month in enumerate(months_C):\n",
        "  max_dataset[month] = ((max_dataset[months_F[idx]] - 32) * 5 / 9).round(1)\n",
        "  min_dataset[month] = ((min_dataset[months_F[idx]] - 32) * 5 / 9).round(1)\n",
        "  avg_dataset[month] = ((avg_dataset[months_F[idx]] - 32) * 5 / 9).round(1)"
      ],
      "metadata": {
        "id": "7jndYgLyZXP_"
      },
      "execution_count": 6,
      "outputs": []
    },
    {
      "cell_type": "markdown",
      "source": [
        "Extract *state_code* and *year* from *Code*"
      ],
      "metadata": {
        "id": "AJnZnRUp3t57"
      }
    },
    {
      "cell_type": "code",
      "source": [
        "max_dataset['state_code'] = max_dataset['Code'].str[:3]\n",
        "max_dataset['year'] = max_dataset['Code'].str[6:]\n",
        "\n",
        "min_dataset['state_code'] = min_dataset['Code'].str[:3]\n",
        "min_dataset['year'] = min_dataset['Code'].str[6:]\n",
        "\n",
        "avg_dataset['state_code'] = avg_dataset['Code'].str[:3]\n",
        "avg_dataset['year'] = avg_dataset['Code'].str[6:]"
      ],
      "metadata": {
        "id": "mMfVFwbvq_vs"
      },
      "execution_count": 7,
      "outputs": []
    },
    {
      "cell_type": "markdown",
      "source": [
        "Create a dictionary with *state_code* as key and its corresponding *state* nomenclature as value"
      ],
      "metadata": {
        "id": "ujGmTIP131IV"
      }
    },
    {
      "cell_type": "code",
      "source": [
        "data = \"\"\"001 Alabama\n",
        "002 Arizona\n",
        "003 Arkansas\n",
        "004 California\n",
        "005 Colorado\n",
        "006 Connecticut\n",
        "007 Delaware\n",
        "008 Florida\n",
        "009 Georgia\n",
        "010 Idaho\n",
        "011 Illinois\n",
        "012 Indiana\n",
        "013 Iowa\n",
        "014 Kansas\n",
        "015 Kentucky\n",
        "016 Louisiana\n",
        "017 Maine\n",
        "018 Maryland\n",
        "019 Massachusetts\n",
        "020 Michigan\n",
        "021 Minnesota\n",
        "022 Mississippi\n",
        "023 Missouri\n",
        "024 Montana\n",
        "025 Nebraska\n",
        "026 Nevada\n",
        "027 New Hampshire\n",
        "028 New Jersey\n",
        "029 New Mexico\n",
        "030 New York\n",
        "031 North Carolina\n",
        "032 North Dakota\n",
        "033 Ohio\n",
        "034 Oklahoma\n",
        "035 Oregon\n",
        "036 Pennsylvania\n",
        "037 Rhode Island\n",
        "038 South Carolina\n",
        "039 South Dakota\n",
        "040 Tennessee\n",
        "041 Texas\n",
        "042 Utah\n",
        "043 Vermont\n",
        "044 Virginia\n",
        "045 Washington\n",
        "046 West Virginia\n",
        "047 Wisconsin\n",
        "048 Wyoming\n",
        "050 Alaska\n",
        "101 Northeast Region\n",
        "102 East North Central Region\n",
        "103 Central Region\n",
        "104 Southeast Region\n",
        "105 West North Central Region\n",
        "106 South Region\n",
        "107 Southwest Region\n",
        "108 Northwest Region\n",
        "109 West Region\n",
        "110 National (contiguous 48 States)\n",
        "111 Great Plains\n",
        "115 Southern Plains and Gulf Coast\n",
        "120 US Rockies and Westward\n",
        "121 NWS Eastern Region\n",
        "122 NWS Southern Region\n",
        "123 NWS Central Region\n",
        "124 NWS Western Region\n",
        "201 Pacific Northwest Basin\n",
        "202 California River Basin\n",
        "203 Great Basin\n",
        "204 Lower Colorado River Basin\n",
        "205 Upper Colorado River Basin\n",
        "206 Rio Grande River Basin\n",
        "207 Texas Gulf Coast River Basin\n",
        "208 Arkansas-White-Red Basin\n",
        "209 Lower Mississippi River Basin\n",
        "210 Missouri River Basin\n",
        "211 Souris-Red-Rainy Basin\n",
        "212 Upper Mississippi River Basin\n",
        "213 Great Lakes Basin\n",
        "214 Tennessee River Basin\n",
        "215 Ohio River Basin\n",
        "216 South Atlantic-Gulf Basin\n",
        "217 Mid-Atlantic Basin\n",
        "218 New England Basin\n",
        "220 Mississippi River Basin & Tributaties (N. of Memphis, TN)\n",
        "250 Spring Wheat Belt (area weighted)\n",
        "255 Primary Hard Red Winter Wheat Belt (area weighted)\n",
        "256 Winter Wheat Belt (area weighted)\n",
        "260 Primary Corn and Soybean Belt (area weighted)\n",
        "261 Corn Belt (area weighted)\n",
        "262 Soybean Belt (area weighted)\n",
        "265 Cotton Belt (area weighted)\n",
        "350 Spring Wheat Belt (productivity weighted)\n",
        "356 Winter Wheat Belt (productivity weighted)\n",
        "361 Corn Belt (productivity weighted)\n",
        "362 Soybean Belt (productivity weighted)\n",
        "365 Cotton Belt (productivity weighted)\n",
        "450 Spring Wheat Belt (% productivity in the Palmer Z Index)\n",
        "456 Winter Wheat Belt (% productivity in the Palmer Z Index)\n",
        "461 Corn Belt (% productivity in the Palmer Z Index)\n",
        "462 Soybean Belt (% productivity in the Palmer Z Index)\n",
        "465 Cotton Belt (% productivity in the Palmer Z Index)\"\"\"\n",
        "\n",
        "lines = data.split('\\n')\n",
        "code_to_state = {line[:3]: line[4:].strip() for line in lines}\n",
        "print(code_to_state)"
      ],
      "metadata": {
        "colab": {
          "base_uri": "https://localhost:8080/"
        },
        "id": "6HNBTVLTng_q",
        "outputId": "4b3a7d22-74b8-4aa5-c751-21d8ace14e88"
      },
      "execution_count": 8,
      "outputs": [
        {
          "output_type": "stream",
          "name": "stdout",
          "text": [
            "{'001': 'Alabama', '002': 'Arizona', '003': 'Arkansas', '004': 'California', '005': 'Colorado', '006': 'Connecticut', '007': 'Delaware', '008': 'Florida', '009': 'Georgia', '010': 'Idaho', '011': 'Illinois', '012': 'Indiana', '013': 'Iowa', '014': 'Kansas', '015': 'Kentucky', '016': 'Louisiana', '017': 'Maine', '018': 'Maryland', '019': 'Massachusetts', '020': 'Michigan', '021': 'Minnesota', '022': 'Mississippi', '023': 'Missouri', '024': 'Montana', '025': 'Nebraska', '026': 'Nevada', '027': 'New Hampshire', '028': 'New Jersey', '029': 'New Mexico', '030': 'New York', '031': 'North Carolina', '032': 'North Dakota', '033': 'Ohio', '034': 'Oklahoma', '035': 'Oregon', '036': 'Pennsylvania', '037': 'Rhode Island', '038': 'South Carolina', '039': 'South Dakota', '040': 'Tennessee', '041': 'Texas', '042': 'Utah', '043': 'Vermont', '044': 'Virginia', '045': 'Washington', '046': 'West Virginia', '047': 'Wisconsin', '048': 'Wyoming', '050': 'Alaska', '101': 'Northeast Region', '102': 'East North Central Region', '103': 'Central Region', '104': 'Southeast Region', '105': 'West North Central Region', '106': 'South Region', '107': 'Southwest Region', '108': 'Northwest Region', '109': 'West Region', '110': 'National (contiguous 48 States)', '111': 'Great Plains', '115': 'Southern Plains and Gulf Coast', '120': 'US Rockies and Westward', '121': 'NWS Eastern Region', '122': 'NWS Southern Region', '123': 'NWS Central Region', '124': 'NWS Western Region', '201': 'Pacific Northwest Basin', '202': 'California River Basin', '203': 'Great Basin', '204': 'Lower Colorado River Basin', '205': 'Upper Colorado River Basin', '206': 'Rio Grande River Basin', '207': 'Texas Gulf Coast River Basin', '208': 'Arkansas-White-Red Basin', '209': 'Lower Mississippi River Basin', '210': 'Missouri River Basin', '211': 'Souris-Red-Rainy Basin', '212': 'Upper Mississippi River Basin', '213': 'Great Lakes Basin', '214': 'Tennessee River Basin', '215': 'Ohio River Basin', '216': 'South Atlantic-Gulf Basin', '217': 'Mid-Atlantic Basin', '218': 'New England Basin', '220': 'Mississippi River Basin & Tributaties (N. of Memphis, TN)', '250': 'Spring Wheat Belt (area weighted)', '255': 'Primary Hard Red Winter Wheat Belt (area weighted)', '256': 'Winter Wheat Belt (area weighted)', '260': 'Primary Corn and Soybean Belt (area weighted)', '261': 'Corn Belt (area weighted)', '262': 'Soybean Belt (area weighted)', '265': 'Cotton Belt (area weighted)', '350': 'Spring Wheat Belt (productivity weighted)', '356': 'Winter Wheat Belt (productivity weighted)', '361': 'Corn Belt (productivity weighted)', '362': 'Soybean Belt (productivity weighted)', '365': 'Cotton Belt (productivity weighted)', '450': 'Spring Wheat Belt (% productivity in the Palmer Z Index)', '456': 'Winter Wheat Belt (% productivity in the Palmer Z Index)', '461': 'Corn Belt (% productivity in the Palmer Z Index)', '462': 'Soybean Belt (% productivity in the Palmer Z Index)', '465': 'Cotton Belt (% productivity in the Palmer Z Index)'}\n"
          ]
        }
      ]
    },
    {
      "cell_type": "markdown",
      "source": [
        "Add column *state* to the dataset using the dictionary"
      ],
      "metadata": {
        "id": "PmXcRcHL4DM7"
      }
    },
    {
      "cell_type": "code",
      "source": [
        "max_dataset['state'] = max_dataset.apply(lambda row: code_to_state[row['state_code']]\n",
        "                                         if row['state_code'] in code_to_state\n",
        "                                         else np.nan, axis=1)\n",
        "\n",
        "min_dataset['state'] = min_dataset.apply(lambda row: code_to_state[row['state_code']]\n",
        "                                         if row['state_code'] in code_to_state\n",
        "                                         else np.nan, axis=1)\n",
        "\n",
        "avg_dataset['state'] = avg_dataset.apply(lambda row: code_to_state[row['state_code']]\n",
        "                                         if row['state_code'] in code_to_state\n",
        "                                         else np.nan, axis=1)"
      ],
      "metadata": {
        "id": "p06CxjQazff_"
      },
      "execution_count": 9,
      "outputs": []
    },
    {
      "cell_type": "markdown",
      "source": [
        "Drop useless columns"
      ],
      "metadata": {
        "id": "0luWpyHe3dGG"
      }
    },
    {
      "cell_type": "code",
      "source": [
        "max_dataset.drop(columns = ['Code', 'state_code'], inplace = True)\n",
        "min_dataset.drop(columns = ['Code', 'state_code'], inplace = True)\n",
        "avg_dataset.drop(columns = ['Code', 'state_code'], inplace = True)"
      ],
      "metadata": {
        "id": "lc9k5fBg1ipN"
      },
      "execution_count": 10,
      "outputs": []
    },
    {
      "cell_type": "markdown",
      "source": [
        "Min and Max per some states"
      ],
      "metadata": {
        "id": "ixJyGkyLnPIE"
      }
    },
    {
      "cell_type": "code",
      "source": [
        "arizona_min = min_dataset[min_dataset['state'] == 'Arizona']\n",
        "print(min((arizona_min.iloc[:, 12:24]).min()))\n",
        "arizona_max = max_dataset[max_dataset['state'] == 'Arizona']\n",
        "print(max((arizona_max.iloc[:, 12:24]).max()))\n",
        "\n",
        "alabama_min = min_dataset[min_dataset['state'] == 'Alabama']\n",
        "print(min((alabama_min.iloc[:, 12:24]).min()))\n",
        "alabama_max = max_dataset[max_dataset['state'] == 'Alabama']\n",
        "print(max((alabama_max.iloc[:, 12:24]).max()))"
      ],
      "metadata": {
        "id": "cwZtgVKbnRcs",
        "outputId": "5e61577e-ca88-40dd-9f43-72e8ca50f77a",
        "colab": {
          "base_uri": "https://localhost:8080/"
        }
      },
      "execution_count": 11,
      "outputs": [
        {
          "output_type": "stream",
          "name": "stdout",
          "text": [
            "-8.5\n",
            "38.3\n",
            "-6.0\n",
            "36.3\n"
          ]
        }
      ]
    },
    {
      "cell_type": "code",
      "source": [
        "arizona_min"
      ],
      "metadata": {
        "id": "T2W93rTXp9P_",
        "outputId": "21a318d3-4ba0-4c28-be4f-8ccb259930d0",
        "colab": {
          "base_uri": "https://localhost:8080/",
          "height": 0
        }
      },
      "execution_count": 12,
      "outputs": [
        {
          "output_type": "execute_result",
          "data": {
            "text/plain": [
              "     JanF  FebF  MarF  AprF  MayF  JunF  JulF  AugF  SepF  OctF  ...   May  \\\n",
              "129  31.8  31.0  35.4  42.6  50.9  55.9  65.6  65.5  58.2  48.6  ...  10.5   \n",
              "130  32.5  32.5  38.0  40.9  51.3  61.9  67.2  66.0  60.7  50.1  ...  10.7   \n",
              "131  32.4  30.5  33.0  41.9  52.1  56.7  65.4  66.5  60.9  46.8  ...  11.2   \n",
              "132  24.3  33.0  33.8  47.2  49.3  60.3  68.7  68.1  58.5  44.8  ...   9.6   \n",
              "133  25.9  30.4  35.7  42.9  44.8  59.4  67.8  62.6  59.6  45.9  ...   7.1   \n",
              "..    ...   ...   ...   ...   ...   ...   ...   ...   ...   ...  ...   ...   \n",
              "253  30.7  29.4  38.5  45.1  46.2  58.6  67.0  67.2  59.9  43.9  ...   7.9   \n",
              "254  30.7  32.0  38.8  44.0  53.5  60.0  67.8  68.8  59.3  48.8  ...  11.9   \n",
              "255  29.4  32.4  35.3  45.5  51.2  64.3  68.7  66.2  60.8  45.4  ...  10.7   \n",
              "256  30.2  29.4  36.9  44.6  51.9  63.0  68.6  66.3  62.1  48.1  ...  11.1   \n",
              "257  29.1  28.9  35.4  42.0  50.8  55.8  69.7  67.1  58.8  49.2  ...  10.4   \n",
              "\n",
              "      Jun   Jul   Aug   Sep   Oct  Nov  Dec  year    state  \n",
              "129  13.3  18.7  18.6  14.6   9.2  1.8 -3.4  1895  Arizona  \n",
              "130  16.6  19.6  18.9  15.9  10.1  2.7 -0.7  1896  Arizona  \n",
              "131  13.7  18.6  19.2  16.1   8.2  2.1 -3.8  1897  Arizona  \n",
              "132  15.7  20.4  20.1  14.7   7.1  0.8 -4.3  1898  Arizona  \n",
              "133  15.2  19.9  17.0  15.3   7.7  3.0 -1.3  1899  Arizona  \n",
              "..    ...   ...   ...   ...   ...  ...  ...   ...      ...  \n",
              "253  14.8  19.4  19.6  15.5   6.6  3.4 -0.2  2019  Arizona  \n",
              "254  15.6  19.9  20.4  15.2   9.3  3.8 -2.4  2020  Arizona  \n",
              "255  17.9  20.4  19.0  16.0   7.4  4.8  0.9  2021  Arizona  \n",
              "256  17.2  20.3  19.1  16.7   8.9  0.1 -0.4  2022  Arizona  \n",
              "257  13.2  20.9  19.5  14.9   9.6  NaN  NaN  2023  Arizona  \n",
              "\n",
              "[129 rows x 26 columns]"
            ],
            "text/html": [
              "\n",
              "  <div id=\"df-588a1c4d-02f3-4402-9356-74d65a780e3f\" class=\"colab-df-container\">\n",
              "    <div>\n",
              "<style scoped>\n",
              "    .dataframe tbody tr th:only-of-type {\n",
              "        vertical-align: middle;\n",
              "    }\n",
              "\n",
              "    .dataframe tbody tr th {\n",
              "        vertical-align: top;\n",
              "    }\n",
              "\n",
              "    .dataframe thead th {\n",
              "        text-align: right;\n",
              "    }\n",
              "</style>\n",
              "<table border=\"1\" class=\"dataframe\">\n",
              "  <thead>\n",
              "    <tr style=\"text-align: right;\">\n",
              "      <th></th>\n",
              "      <th>JanF</th>\n",
              "      <th>FebF</th>\n",
              "      <th>MarF</th>\n",
              "      <th>AprF</th>\n",
              "      <th>MayF</th>\n",
              "      <th>JunF</th>\n",
              "      <th>JulF</th>\n",
              "      <th>AugF</th>\n",
              "      <th>SepF</th>\n",
              "      <th>OctF</th>\n",
              "      <th>...</th>\n",
              "      <th>May</th>\n",
              "      <th>Jun</th>\n",
              "      <th>Jul</th>\n",
              "      <th>Aug</th>\n",
              "      <th>Sep</th>\n",
              "      <th>Oct</th>\n",
              "      <th>Nov</th>\n",
              "      <th>Dec</th>\n",
              "      <th>year</th>\n",
              "      <th>state</th>\n",
              "    </tr>\n",
              "  </thead>\n",
              "  <tbody>\n",
              "    <tr>\n",
              "      <th>129</th>\n",
              "      <td>31.8</td>\n",
              "      <td>31.0</td>\n",
              "      <td>35.4</td>\n",
              "      <td>42.6</td>\n",
              "      <td>50.9</td>\n",
              "      <td>55.9</td>\n",
              "      <td>65.6</td>\n",
              "      <td>65.5</td>\n",
              "      <td>58.2</td>\n",
              "      <td>48.6</td>\n",
              "      <td>...</td>\n",
              "      <td>10.5</td>\n",
              "      <td>13.3</td>\n",
              "      <td>18.7</td>\n",
              "      <td>18.6</td>\n",
              "      <td>14.6</td>\n",
              "      <td>9.2</td>\n",
              "      <td>1.8</td>\n",
              "      <td>-3.4</td>\n",
              "      <td>1895</td>\n",
              "      <td>Arizona</td>\n",
              "    </tr>\n",
              "    <tr>\n",
              "      <th>130</th>\n",
              "      <td>32.5</td>\n",
              "      <td>32.5</td>\n",
              "      <td>38.0</td>\n",
              "      <td>40.9</td>\n",
              "      <td>51.3</td>\n",
              "      <td>61.9</td>\n",
              "      <td>67.2</td>\n",
              "      <td>66.0</td>\n",
              "      <td>60.7</td>\n",
              "      <td>50.1</td>\n",
              "      <td>...</td>\n",
              "      <td>10.7</td>\n",
              "      <td>16.6</td>\n",
              "      <td>19.6</td>\n",
              "      <td>18.9</td>\n",
              "      <td>15.9</td>\n",
              "      <td>10.1</td>\n",
              "      <td>2.7</td>\n",
              "      <td>-0.7</td>\n",
              "      <td>1896</td>\n",
              "      <td>Arizona</td>\n",
              "    </tr>\n",
              "    <tr>\n",
              "      <th>131</th>\n",
              "      <td>32.4</td>\n",
              "      <td>30.5</td>\n",
              "      <td>33.0</td>\n",
              "      <td>41.9</td>\n",
              "      <td>52.1</td>\n",
              "      <td>56.7</td>\n",
              "      <td>65.4</td>\n",
              "      <td>66.5</td>\n",
              "      <td>60.9</td>\n",
              "      <td>46.8</td>\n",
              "      <td>...</td>\n",
              "      <td>11.2</td>\n",
              "      <td>13.7</td>\n",
              "      <td>18.6</td>\n",
              "      <td>19.2</td>\n",
              "      <td>16.1</td>\n",
              "      <td>8.2</td>\n",
              "      <td>2.1</td>\n",
              "      <td>-3.8</td>\n",
              "      <td>1897</td>\n",
              "      <td>Arizona</td>\n",
              "    </tr>\n",
              "    <tr>\n",
              "      <th>132</th>\n",
              "      <td>24.3</td>\n",
              "      <td>33.0</td>\n",
              "      <td>33.8</td>\n",
              "      <td>47.2</td>\n",
              "      <td>49.3</td>\n",
              "      <td>60.3</td>\n",
              "      <td>68.7</td>\n",
              "      <td>68.1</td>\n",
              "      <td>58.5</td>\n",
              "      <td>44.8</td>\n",
              "      <td>...</td>\n",
              "      <td>9.6</td>\n",
              "      <td>15.7</td>\n",
              "      <td>20.4</td>\n",
              "      <td>20.1</td>\n",
              "      <td>14.7</td>\n",
              "      <td>7.1</td>\n",
              "      <td>0.8</td>\n",
              "      <td>-4.3</td>\n",
              "      <td>1898</td>\n",
              "      <td>Arizona</td>\n",
              "    </tr>\n",
              "    <tr>\n",
              "      <th>133</th>\n",
              "      <td>25.9</td>\n",
              "      <td>30.4</td>\n",
              "      <td>35.7</td>\n",
              "      <td>42.9</td>\n",
              "      <td>44.8</td>\n",
              "      <td>59.4</td>\n",
              "      <td>67.8</td>\n",
              "      <td>62.6</td>\n",
              "      <td>59.6</td>\n",
              "      <td>45.9</td>\n",
              "      <td>...</td>\n",
              "      <td>7.1</td>\n",
              "      <td>15.2</td>\n",
              "      <td>19.9</td>\n",
              "      <td>17.0</td>\n",
              "      <td>15.3</td>\n",
              "      <td>7.7</td>\n",
              "      <td>3.0</td>\n",
              "      <td>-1.3</td>\n",
              "      <td>1899</td>\n",
              "      <td>Arizona</td>\n",
              "    </tr>\n",
              "    <tr>\n",
              "      <th>...</th>\n",
              "      <td>...</td>\n",
              "      <td>...</td>\n",
              "      <td>...</td>\n",
              "      <td>...</td>\n",
              "      <td>...</td>\n",
              "      <td>...</td>\n",
              "      <td>...</td>\n",
              "      <td>...</td>\n",
              "      <td>...</td>\n",
              "      <td>...</td>\n",
              "      <td>...</td>\n",
              "      <td>...</td>\n",
              "      <td>...</td>\n",
              "      <td>...</td>\n",
              "      <td>...</td>\n",
              "      <td>...</td>\n",
              "      <td>...</td>\n",
              "      <td>...</td>\n",
              "      <td>...</td>\n",
              "      <td>...</td>\n",
              "      <td>...</td>\n",
              "    </tr>\n",
              "    <tr>\n",
              "      <th>253</th>\n",
              "      <td>30.7</td>\n",
              "      <td>29.4</td>\n",
              "      <td>38.5</td>\n",
              "      <td>45.1</td>\n",
              "      <td>46.2</td>\n",
              "      <td>58.6</td>\n",
              "      <td>67.0</td>\n",
              "      <td>67.2</td>\n",
              "      <td>59.9</td>\n",
              "      <td>43.9</td>\n",
              "      <td>...</td>\n",
              "      <td>7.9</td>\n",
              "      <td>14.8</td>\n",
              "      <td>19.4</td>\n",
              "      <td>19.6</td>\n",
              "      <td>15.5</td>\n",
              "      <td>6.6</td>\n",
              "      <td>3.4</td>\n",
              "      <td>-0.2</td>\n",
              "      <td>2019</td>\n",
              "      <td>Arizona</td>\n",
              "    </tr>\n",
              "    <tr>\n",
              "      <th>254</th>\n",
              "      <td>30.7</td>\n",
              "      <td>32.0</td>\n",
              "      <td>38.8</td>\n",
              "      <td>44.0</td>\n",
              "      <td>53.5</td>\n",
              "      <td>60.0</td>\n",
              "      <td>67.8</td>\n",
              "      <td>68.8</td>\n",
              "      <td>59.3</td>\n",
              "      <td>48.8</td>\n",
              "      <td>...</td>\n",
              "      <td>11.9</td>\n",
              "      <td>15.6</td>\n",
              "      <td>19.9</td>\n",
              "      <td>20.4</td>\n",
              "      <td>15.2</td>\n",
              "      <td>9.3</td>\n",
              "      <td>3.8</td>\n",
              "      <td>-2.4</td>\n",
              "      <td>2020</td>\n",
              "      <td>Arizona</td>\n",
              "    </tr>\n",
              "    <tr>\n",
              "      <th>255</th>\n",
              "      <td>29.4</td>\n",
              "      <td>32.4</td>\n",
              "      <td>35.3</td>\n",
              "      <td>45.5</td>\n",
              "      <td>51.2</td>\n",
              "      <td>64.3</td>\n",
              "      <td>68.7</td>\n",
              "      <td>66.2</td>\n",
              "      <td>60.8</td>\n",
              "      <td>45.4</td>\n",
              "      <td>...</td>\n",
              "      <td>10.7</td>\n",
              "      <td>17.9</td>\n",
              "      <td>20.4</td>\n",
              "      <td>19.0</td>\n",
              "      <td>16.0</td>\n",
              "      <td>7.4</td>\n",
              "      <td>4.8</td>\n",
              "      <td>0.9</td>\n",
              "      <td>2021</td>\n",
              "      <td>Arizona</td>\n",
              "    </tr>\n",
              "    <tr>\n",
              "      <th>256</th>\n",
              "      <td>30.2</td>\n",
              "      <td>29.4</td>\n",
              "      <td>36.9</td>\n",
              "      <td>44.6</td>\n",
              "      <td>51.9</td>\n",
              "      <td>63.0</td>\n",
              "      <td>68.6</td>\n",
              "      <td>66.3</td>\n",
              "      <td>62.1</td>\n",
              "      <td>48.1</td>\n",
              "      <td>...</td>\n",
              "      <td>11.1</td>\n",
              "      <td>17.2</td>\n",
              "      <td>20.3</td>\n",
              "      <td>19.1</td>\n",
              "      <td>16.7</td>\n",
              "      <td>8.9</td>\n",
              "      <td>0.1</td>\n",
              "      <td>-0.4</td>\n",
              "      <td>2022</td>\n",
              "      <td>Arizona</td>\n",
              "    </tr>\n",
              "    <tr>\n",
              "      <th>257</th>\n",
              "      <td>29.1</td>\n",
              "      <td>28.9</td>\n",
              "      <td>35.4</td>\n",
              "      <td>42.0</td>\n",
              "      <td>50.8</td>\n",
              "      <td>55.8</td>\n",
              "      <td>69.7</td>\n",
              "      <td>67.1</td>\n",
              "      <td>58.8</td>\n",
              "      <td>49.2</td>\n",
              "      <td>...</td>\n",
              "      <td>10.4</td>\n",
              "      <td>13.2</td>\n",
              "      <td>20.9</td>\n",
              "      <td>19.5</td>\n",
              "      <td>14.9</td>\n",
              "      <td>9.6</td>\n",
              "      <td>NaN</td>\n",
              "      <td>NaN</td>\n",
              "      <td>2023</td>\n",
              "      <td>Arizona</td>\n",
              "    </tr>\n",
              "  </tbody>\n",
              "</table>\n",
              "<p>129 rows × 26 columns</p>\n",
              "</div>\n",
              "    <div class=\"colab-df-buttons\">\n",
              "\n",
              "  <div class=\"colab-df-container\">\n",
              "    <button class=\"colab-df-convert\" onclick=\"convertToInteractive('df-588a1c4d-02f3-4402-9356-74d65a780e3f')\"\n",
              "            title=\"Convert this dataframe to an interactive table.\"\n",
              "            style=\"display:none;\">\n",
              "\n",
              "  <svg xmlns=\"http://www.w3.org/2000/svg\" height=\"24px\" viewBox=\"0 -960 960 960\">\n",
              "    <path d=\"M120-120v-720h720v720H120Zm60-500h600v-160H180v160Zm220 220h160v-160H400v160Zm0 220h160v-160H400v160ZM180-400h160v-160H180v160Zm440 0h160v-160H620v160ZM180-180h160v-160H180v160Zm440 0h160v-160H620v160Z\"/>\n",
              "  </svg>\n",
              "    </button>\n",
              "\n",
              "  <style>\n",
              "    .colab-df-container {\n",
              "      display:flex;\n",
              "      gap: 12px;\n",
              "    }\n",
              "\n",
              "    .colab-df-convert {\n",
              "      background-color: #E8F0FE;\n",
              "      border: none;\n",
              "      border-radius: 50%;\n",
              "      cursor: pointer;\n",
              "      display: none;\n",
              "      fill: #1967D2;\n",
              "      height: 32px;\n",
              "      padding: 0 0 0 0;\n",
              "      width: 32px;\n",
              "    }\n",
              "\n",
              "    .colab-df-convert:hover {\n",
              "      background-color: #E2EBFA;\n",
              "      box-shadow: 0px 1px 2px rgba(60, 64, 67, 0.3), 0px 1px 3px 1px rgba(60, 64, 67, 0.15);\n",
              "      fill: #174EA6;\n",
              "    }\n",
              "\n",
              "    .colab-df-buttons div {\n",
              "      margin-bottom: 4px;\n",
              "    }\n",
              "\n",
              "    [theme=dark] .colab-df-convert {\n",
              "      background-color: #3B4455;\n",
              "      fill: #D2E3FC;\n",
              "    }\n",
              "\n",
              "    [theme=dark] .colab-df-convert:hover {\n",
              "      background-color: #434B5C;\n",
              "      box-shadow: 0px 1px 3px 1px rgba(0, 0, 0, 0.15);\n",
              "      filter: drop-shadow(0px 1px 2px rgba(0, 0, 0, 0.3));\n",
              "      fill: #FFFFFF;\n",
              "    }\n",
              "  </style>\n",
              "\n",
              "    <script>\n",
              "      const buttonEl =\n",
              "        document.querySelector('#df-588a1c4d-02f3-4402-9356-74d65a780e3f button.colab-df-convert');\n",
              "      buttonEl.style.display =\n",
              "        google.colab.kernel.accessAllowed ? 'block' : 'none';\n",
              "\n",
              "      async function convertToInteractive(key) {\n",
              "        const element = document.querySelector('#df-588a1c4d-02f3-4402-9356-74d65a780e3f');\n",
              "        const dataTable =\n",
              "          await google.colab.kernel.invokeFunction('convertToInteractive',\n",
              "                                                    [key], {});\n",
              "        if (!dataTable) return;\n",
              "\n",
              "        const docLinkHtml = 'Like what you see? Visit the ' +\n",
              "          '<a target=\"_blank\" href=https://colab.research.google.com/notebooks/data_table.ipynb>data table notebook</a>'\n",
              "          + ' to learn more about interactive tables.';\n",
              "        element.innerHTML = '';\n",
              "        dataTable['output_type'] = 'display_data';\n",
              "        await google.colab.output.renderOutput(dataTable, element);\n",
              "        const docLink = document.createElement('div');\n",
              "        docLink.innerHTML = docLinkHtml;\n",
              "        element.appendChild(docLink);\n",
              "      }\n",
              "    </script>\n",
              "  </div>\n",
              "\n",
              "\n",
              "<div id=\"df-eda43821-8c9d-43d7-a785-5848790afecf\">\n",
              "  <button class=\"colab-df-quickchart\" onclick=\"quickchart('df-eda43821-8c9d-43d7-a785-5848790afecf')\"\n",
              "            title=\"Suggest charts\"\n",
              "            style=\"display:none;\">\n",
              "\n",
              "<svg xmlns=\"http://www.w3.org/2000/svg\" height=\"24px\"viewBox=\"0 0 24 24\"\n",
              "     width=\"24px\">\n",
              "    <g>\n",
              "        <path d=\"M19 3H5c-1.1 0-2 .9-2 2v14c0 1.1.9 2 2 2h14c1.1 0 2-.9 2-2V5c0-1.1-.9-2-2-2zM9 17H7v-7h2v7zm4 0h-2V7h2v10zm4 0h-2v-4h2v4z\"/>\n",
              "    </g>\n",
              "</svg>\n",
              "  </button>\n",
              "\n",
              "<style>\n",
              "  .colab-df-quickchart {\n",
              "      --bg-color: #E8F0FE;\n",
              "      --fill-color: #1967D2;\n",
              "      --hover-bg-color: #E2EBFA;\n",
              "      --hover-fill-color: #174EA6;\n",
              "      --disabled-fill-color: #AAA;\n",
              "      --disabled-bg-color: #DDD;\n",
              "  }\n",
              "\n",
              "  [theme=dark] .colab-df-quickchart {\n",
              "      --bg-color: #3B4455;\n",
              "      --fill-color: #D2E3FC;\n",
              "      --hover-bg-color: #434B5C;\n",
              "      --hover-fill-color: #FFFFFF;\n",
              "      --disabled-bg-color: #3B4455;\n",
              "      --disabled-fill-color: #666;\n",
              "  }\n",
              "\n",
              "  .colab-df-quickchart {\n",
              "    background-color: var(--bg-color);\n",
              "    border: none;\n",
              "    border-radius: 50%;\n",
              "    cursor: pointer;\n",
              "    display: none;\n",
              "    fill: var(--fill-color);\n",
              "    height: 32px;\n",
              "    padding: 0;\n",
              "    width: 32px;\n",
              "  }\n",
              "\n",
              "  .colab-df-quickchart:hover {\n",
              "    background-color: var(--hover-bg-color);\n",
              "    box-shadow: 0 1px 2px rgba(60, 64, 67, 0.3), 0 1px 3px 1px rgba(60, 64, 67, 0.15);\n",
              "    fill: var(--button-hover-fill-color);\n",
              "  }\n",
              "\n",
              "  .colab-df-quickchart-complete:disabled,\n",
              "  .colab-df-quickchart-complete:disabled:hover {\n",
              "    background-color: var(--disabled-bg-color);\n",
              "    fill: var(--disabled-fill-color);\n",
              "    box-shadow: none;\n",
              "  }\n",
              "\n",
              "  .colab-df-spinner {\n",
              "    border: 2px solid var(--fill-color);\n",
              "    border-color: transparent;\n",
              "    border-bottom-color: var(--fill-color);\n",
              "    animation:\n",
              "      spin 1s steps(1) infinite;\n",
              "  }\n",
              "\n",
              "  @keyframes spin {\n",
              "    0% {\n",
              "      border-color: transparent;\n",
              "      border-bottom-color: var(--fill-color);\n",
              "      border-left-color: var(--fill-color);\n",
              "    }\n",
              "    20% {\n",
              "      border-color: transparent;\n",
              "      border-left-color: var(--fill-color);\n",
              "      border-top-color: var(--fill-color);\n",
              "    }\n",
              "    30% {\n",
              "      border-color: transparent;\n",
              "      border-left-color: var(--fill-color);\n",
              "      border-top-color: var(--fill-color);\n",
              "      border-right-color: var(--fill-color);\n",
              "    }\n",
              "    40% {\n",
              "      border-color: transparent;\n",
              "      border-right-color: var(--fill-color);\n",
              "      border-top-color: var(--fill-color);\n",
              "    }\n",
              "    60% {\n",
              "      border-color: transparent;\n",
              "      border-right-color: var(--fill-color);\n",
              "    }\n",
              "    80% {\n",
              "      border-color: transparent;\n",
              "      border-right-color: var(--fill-color);\n",
              "      border-bottom-color: var(--fill-color);\n",
              "    }\n",
              "    90% {\n",
              "      border-color: transparent;\n",
              "      border-bottom-color: var(--fill-color);\n",
              "    }\n",
              "  }\n",
              "</style>\n",
              "\n",
              "  <script>\n",
              "    async function quickchart(key) {\n",
              "      const quickchartButtonEl =\n",
              "        document.querySelector('#' + key + ' button');\n",
              "      quickchartButtonEl.disabled = true;  // To prevent multiple clicks.\n",
              "      quickchartButtonEl.classList.add('colab-df-spinner');\n",
              "      try {\n",
              "        const charts = await google.colab.kernel.invokeFunction(\n",
              "            'suggestCharts', [key], {});\n",
              "      } catch (error) {\n",
              "        console.error('Error during call to suggestCharts:', error);\n",
              "      }\n",
              "      quickchartButtonEl.classList.remove('colab-df-spinner');\n",
              "      quickchartButtonEl.classList.add('colab-df-quickchart-complete');\n",
              "    }\n",
              "    (() => {\n",
              "      let quickchartButtonEl =\n",
              "        document.querySelector('#df-eda43821-8c9d-43d7-a785-5848790afecf button');\n",
              "      quickchartButtonEl.style.display =\n",
              "        google.colab.kernel.accessAllowed ? 'block' : 'none';\n",
              "    })();\n",
              "  </script>\n",
              "</div>\n",
              "    </div>\n",
              "  </div>\n"
            ]
          },
          "metadata": {},
          "execution_count": 12
        }
      ]
    },
    {
      "cell_type": "markdown",
      "source": [
        "## Export the .csv files"
      ],
      "metadata": {
        "id": "iPwNnVKoym7j"
      }
    },
    {
      "cell_type": "code",
      "source": [
        "def create_csv(csv_name, dataset):\n",
        "\n",
        "  '''\n",
        "  csv_name = output filename\n",
        "  dataset = temperature dataset from which data has to be read row by row\n",
        "  '''\n",
        "\n",
        "  with open(csv_name, 'w', encoding='UTF8', newline='') as f:\n",
        "    writer = csv.writer(f)\n",
        "    header = ['state', 'year', 'Jan', 'Feb', 'Mar', 'Apr', 'May', 'Jun', 'Jul', 'Aug', 'Sep', 'Oct', 'Nov', 'Dec', 'JanF', 'FebF', 'MarF', 'AprF', 'MayF', 'JunF', 'JulF', 'AugF', 'SepF', 'OctF', 'NovF', 'DecF']\n",
        "    writer.writerow(header)\n",
        "    for idx in range(dataset.shape[0]):\n",
        "      # row with: state, year, 12 months temperatures in C, 12 months temperatures in F\n",
        "      row = [dataset.iloc[idx, 25]] + [int(dataset.iloc[idx, 24])] + list(dataset.iloc[idx, 12:24]) + list(dataset.iloc[idx, :12])\n",
        "      writer.writerow(row)"
      ],
      "metadata": {
        "id": "taQx980jE8D0"
      },
      "execution_count": 13,
      "outputs": []
    },
    {
      "cell_type": "code",
      "source": [
        "state_list = list(code_to_state.values())[:49]\n",
        "\n",
        "# Create .csv files with MAX temperatures for each state\n",
        "for state in state_list:\n",
        "  csv_name = str(state.replace(\" \", \"\")) + 'MAX.csv'\n",
        "  dataset = max_dataset[max_dataset['state'] == state]\n",
        "  create_csv(csv_name, dataset)\n",
        "\n",
        "# Create .csv files with MIN temperatures for each state\n",
        "for state in state_list:\n",
        "  csv_name = str(state.replace(\" \", \"\")) + 'MIN.csv'\n",
        "  dataset = min_dataset[min_dataset['state'] == state]\n",
        "  create_csv(csv_name, dataset)\n",
        "\n",
        "# Create .csv files with AVG temperatures for each state\n",
        "for state in state_list:\n",
        "  csv_name = str(state.replace(\" \", \"\")) + 'AVG.csv'\n",
        "  dataset = avg_dataset[avg_dataset['state'] == state]\n",
        "  create_csv(csv_name, dataset)"
      ],
      "metadata": {
        "id": "KyeygW1VDnrm"
      },
      "execution_count": 14,
      "outputs": []
    },
    {
      "cell_type": "markdown",
      "source": [
        "# Load tree_dataset"
      ],
      "metadata": {
        "id": "wduOcyh_2j2k"
      }
    },
    {
      "cell_type": "markdown",
      "source": [
        "Uncomment the following line of code to load the already pre-processed *tree_dataset* from google drive"
      ],
      "metadata": {
        "id": "TikljYvEHD6o"
      }
    },
    {
      "cell_type": "code",
      "source": [
        "tree_dataset = pd.read_csv(\"/content/drive/MyDrive/tree_dataset/final_dataset/tree_dataset.csv\", low_memory=False)"
      ],
      "metadata": {
        "id": "-yb7Zoj7Uwl3"
      },
      "execution_count": 15,
      "outputs": []
    },
    {
      "cell_type": "markdown",
      "source": [
        "# Prepare data for mapping"
      ],
      "metadata": {
        "id": "db3a-MbTX2NY"
      }
    },
    {
      "cell_type": "code",
      "source": [
        "def create_abundance_csv(csv_name, header, name, abundance):\n",
        "\n",
        "  with open(csv_name, 'w', encoding='UTF8', newline='') as f:\n",
        "    writer = csv.writer(f)\n",
        "    writer.writerow(header)\n",
        "    for idx in range(len(state)):\n",
        "      row = [name[idx], abundance[idx]]\n",
        "      writer.writerow(row)"
      ],
      "metadata": {
        "id": "W4u9Tbpic3Jx"
      },
      "execution_count": 16,
      "outputs": []
    },
    {
      "cell_type": "code",
      "source": [
        "def create_abundance_fips_csv(csv_name, header, name, abundance, fips_codes):\n",
        "\n",
        "  with open(csv_name, 'w', encoding='UTF8', newline='') as f:\n",
        "    writer = csv.writer(f)\n",
        "    writer.writerow(header)\n",
        "    for idx in range(len(state)):\n",
        "      row = [name[idx], abundance[idx], fips_codes.get(name[idx])]\n",
        "      writer.writerow(row)"
      ],
      "metadata": {
        "id": "IyRaqiBQoE-l"
      },
      "execution_count": 17,
      "outputs": []
    },
    {
      "cell_type": "markdown",
      "source": [
        "## State abundance"
      ],
      "metadata": {
        "id": "QQh6c7p0g14e"
      }
    },
    {
      "cell_type": "code",
      "source": [
        "csv_name = \"state_abundance.csv\"\n",
        "header = ['state', 'abundance']\n",
        "state = list(tree_dataset['state'].value_counts().index)\n",
        "abundance = list(tree_dataset['state'].value_counts().values)\n",
        "create_abundance_csv(csv_name, header, state, abundance)"
      ],
      "metadata": {
        "id": "IqR9Tvo6fglY"
      },
      "execution_count": 18,
      "outputs": []
    },
    {
      "cell_type": "markdown",
      "source": [
        "## State abundance and fips code"
      ],
      "metadata": {
        "id": "q84uaUUVoj0M"
      }
    },
    {
      "cell_type": "code",
      "source": [
        "fips_codes = {\n",
        "    \"Alabama\": \"US01\",\n",
        "    \"Alaska\": \"US02\",\n",
        "    \"Arizona\": \"US04\",\n",
        "    \"Arkansas\": \"US05\",\n",
        "    \"California\": \"US06\",\n",
        "    \"Colorado\": \"US08\",\n",
        "    \"Connecticut\": \"US09\",\n",
        "    \"Delaware\": \"US10\",\n",
        "    \"District of Columbia\": \"US11\",\n",
        "    \"Florida\": \"US12\",\n",
        "    \"Georgia\": \"US13\",\n",
        "    \"Hawaii\": \"US15\",\n",
        "    \"Idaho\": \"US16\",\n",
        "    \"Illinois\": \"US17\",\n",
        "    \"Indiana\": \"US18\",\n",
        "    \"Iowa\": \"US19\",\n",
        "    \"Kansas\": \"US20\",\n",
        "    \"Kentucky\": \"US21\",\n",
        "    \"Louisiana\": \"US22\",\n",
        "    \"Maine\": \"US23\",\n",
        "    \"Maryland\": \"US24\",\n",
        "    \"Massachussetts\": \"US25\",\n",
        "    \"Michigan\": \"US26\",\n",
        "    \"Minnesota\": \"US27\",\n",
        "    \"Mississippi\": \"US28\",\n",
        "    \"Missouri\": \"US29\",\n",
        "    \"Montana\": \"US30\",\n",
        "    \"Nebraska\": \"US31\",\n",
        "    \"Nevada\": \"US32\",\n",
        "    \"New Hampshire\": \"US33\",\n",
        "    \"New Jersey\": \"US34\",\n",
        "    \"New Mexico\": \"US35\",\n",
        "    \"New York\": \"US36\",\n",
        "    \"North Carolina\": \"US37\",\n",
        "    \"North Dakota\": \"US38\",\n",
        "    \"Ohio\": \"US39\",\n",
        "    \"Oklahoma\": \"US40\",\n",
        "    \"Oregon\": \"US41\",\n",
        "    \"Pennsylvania\": \"US42\",\n",
        "    \"Rhode Island\": \"US44\",\n",
        "    \"South Carolina\": \"US45\",\n",
        "    \"South Dakota\": \"US46\",\n",
        "    \"Tennessee\": \"US47\",\n",
        "    \"Texas\": \"US48\",\n",
        "    \"Utah\": \"US49\",\n",
        "    \"Vermont\": \"US50\",\n",
        "    \"Virginia\": \"US51\",\n",
        "    \"Washington\": \"US53\",\n",
        "    \"West Virginia\": \"US54\",\n",
        "    \"Wisconsin\": \"US55\",\n",
        "    \"Wyoming\": \"US56\"\n",
        "}"
      ],
      "metadata": {
        "id": "sj9o3FYYkVyp"
      },
      "execution_count": 19,
      "outputs": []
    },
    {
      "cell_type": "code",
      "source": [
        "csv_name = \"state_abundance_fips.csv\"\n",
        "header = ['state', 'abundance', 'fips']\n",
        "state = list(tree_dataset['state'].value_counts().index)\n",
        "abundance = list(tree_dataset['state'].value_counts().values)\n",
        "create_abundance_fips_csv(csv_name, header, state, abundance, fips_codes)"
      ],
      "metadata": {
        "id": "nEeTI8AwoqPc"
      },
      "execution_count": 20,
      "outputs": []
    },
    {
      "cell_type": "markdown",
      "source": [
        "## State abundance and postal"
      ],
      "metadata": {
        "id": "BfA4nKyVM1yo"
      }
    },
    {
      "cell_type": "code",
      "source": [
        "postal_codes = {\n",
        "    \"Alabama\": \"AL\",\n",
        "    \"Alaska\": \"AK\",\n",
        "    \"Arizona\": \"AZ\",\n",
        "    \"Arkansas\": \"AR\",\n",
        "    \"California\": \"CA\",\n",
        "    \"Colorado\": \"CO\",\n",
        "    \"Connecticut\": \"CT\",\n",
        "    \"Delaware\": \"DE\",\n",
        "    \"District of Columbia\": \"DC\",\n",
        "    \"Florida\": \"FL\",\n",
        "    \"Georgia\": \"GA\",\n",
        "    \"Hawaii\": \"HI\",\n",
        "    \"Idaho\": \"ID\",\n",
        "    \"Illinois\": \"IL\",\n",
        "    \"Indiana\": \"IN\",\n",
        "    \"Iowa\": \"IA\",\n",
        "    \"Kansas\": \"KS\",\n",
        "    \"Kentucky\": \"KY\",\n",
        "    \"Louisiana\": \"LA\",\n",
        "    \"Maine\": \"ME\",\n",
        "    \"Maryland\": \"MD\",\n",
        "    \"Massachusetts\": \"MA\",\n",
        "    \"Michigan\": \"MI\",\n",
        "    \"Minnesota\": \"MN\",\n",
        "    \"Mississippi\": \"MS\",\n",
        "    \"Missouri\": \"MO\",\n",
        "    \"Montana\": \"MT\",\n",
        "    \"Nebraska\": \"NE\",\n",
        "    \"Nevada\": \"NV\",\n",
        "    \"New Hampshire\": \"NH\",\n",
        "    \"New Jersey\": \"NJ\",\n",
        "    \"New Mexico\": \"NM\",\n",
        "    \"New York\": \"NY\",\n",
        "    \"North Carolina\": \"NC\",\n",
        "    \"North Dakota\": \"ND\",\n",
        "    \"Ohio\": \"OH\",\n",
        "    \"Oklahoma\": \"OK\",\n",
        "    \"Oregon\": \"OR\",\n",
        "    \"Pennsylvania\": \"PA\",\n",
        "    \"Puerto Rico\": \"PR\",\n",
        "    \"Rhode Island\": \"RI\",\n",
        "    \"South Carolina\": \"SC\",\n",
        "    \"South Dakota\": \"SD\",\n",
        "    \"Tennessee\": \"TN\",\n",
        "    \"Texas\": \"TX\",\n",
        "    \"Utah\": \"UT\",\n",
        "    \"Vermont\": \"VT\",\n",
        "    \"Virginia\": \"VA\",\n",
        "    \"Virgin Islands\": \"VI\",\n",
        "    \"Washington\": \"WA\",\n",
        "    \"West Virginia\": \"WV\",\n",
        "    \"Wisconsin\": \"WI\",\n",
        "    \"Wyoming\": \"WY\"\n",
        "}"
      ],
      "metadata": {
        "id": "tXRzRWLzM7ww"
      },
      "execution_count": 21,
      "outputs": []
    },
    {
      "cell_type": "code",
      "source": [
        "csv_name = \"state_abundance_postal.csv\"\n",
        "header = ['state', 'abundance', 'postal']\n",
        "state = list(tree_dataset['state'].value_counts().index)\n",
        "abundance = list(tree_dataset['state'].value_counts().values)\n",
        "create_abundance_fips_csv(csv_name, header, state, abundance, postal_codes)"
      ],
      "metadata": {
        "id": "aT2WX1DhM7z5"
      },
      "execution_count": 22,
      "outputs": []
    },
    {
      "cell_type": "markdown",
      "source": [
        "## City abundance"
      ],
      "metadata": {
        "id": "4tnTR-Gcg6o2"
      }
    },
    {
      "cell_type": "code",
      "source": [
        "csv_name = \"city_abundance.csv\"\n",
        "header = ['city', 'abundance']\n",
        "city = list(tree_dataset['greater_metro'].value_counts().index)\n",
        "abundance = list(tree_dataset['greater_metro'].value_counts().values)\n",
        "create_abundance_csv(csv_name, header, city, abundance)"
      ],
      "metadata": {
        "id": "lnKvMELng_nH"
      },
      "execution_count": 23,
      "outputs": []
    },
    {
      "cell_type": "markdown",
      "source": [
        "## JSON"
      ],
      "metadata": {
        "id": "RZFwZGcAt-XU"
      }
    },
    {
      "cell_type": "code",
      "source": [
        "abundance_df = pd.read_csv(\"/content/state_abundance_postal.csv\", low_memory=False)\n",
        "abundance_dict = {}\n",
        "\n",
        "for idx in range(abundance_df.shape[0]):\n",
        "  name = list(abundance_df.iloc[idx])[0]\n",
        "  abundance = list(abundance_df.iloc[idx])[1]\n",
        "  postal = list(abundance_df.iloc[idx])[2]\n",
        "  abundance_dict[postal] = [name, abundance]\n",
        "\n",
        "for key, value in postal_codes.items():\n",
        "  if abundance_dict.get(value) is None:\n",
        "    name = key\n",
        "    abundance = 0\n",
        "    abundance_dict[value] = [name, abundance]\n",
        "  else:\n",
        "    name = abundance_dict.get(value)[0]\n",
        "    abundance = abundance_dict.get(value)[1]"
      ],
      "metadata": {
        "id": "iEZcy2S43o5K"
      },
      "execution_count": 47,
      "outputs": []
    },
    {
      "cell_type": "code",
      "source": [
        "json_path = \"/content/drive/MyDrive/tree_dataset/final_dataset/us-states.json\"\n",
        "with open(json_path, 'r') as file:\n",
        "    json_file = json.load(file)"
      ],
      "metadata": {
        "id": "KbuSkiNru-SO"
      },
      "execution_count": 48,
      "outputs": []
    },
    {
      "cell_type": "code",
      "source": [
        "for idx in range(len(json_file['objects']['states'].get('geometries'))):\n",
        "  properties = json_file['objects']['states'].get('geometries')[idx]['properties']\n",
        "  postal = properties['postal']\n",
        "  try:\n",
        "    name, abundance = abundance_dict[postal]\n",
        "    properties['name'] = name\n",
        "    properties['abundance'] = str(abundance)\n",
        "    print(properties)\n",
        "  except:\n",
        "    pass"
      ],
      "metadata": {
        "colab": {
          "base_uri": "https://localhost:8080/"
        },
        "id": "V1B3jxJhuCYD",
        "outputId": "41273e8b-b503-4aaa-dc2d-7da391b42d63"
      },
      "execution_count": 49,
      "outputs": [
        {
          "output_type": "stream",
          "name": "stdout",
          "text": [
            "{'postal': 'AK', 'name': 'Alaska', 'abundance': '0'}\n",
            "{'postal': 'AL', 'name': 'Alabama', 'abundance': '0'}\n",
            "{'postal': 'AR', 'name': 'Arkansas', 'abundance': '0'}\n",
            "{'postal': 'AZ', 'name': 'Arizona', 'abundance': '214'}\n",
            "{'postal': 'CA', 'name': 'California', 'abundance': '1806085'}\n",
            "{'postal': 'CO', 'name': 'Colorado', 'abundance': '354878'}\n",
            "{'postal': 'CT', 'name': 'Connecticut', 'abundance': '0'}\n",
            "{'postal': 'DC', 'name': 'District of Columbia', 'abundance': '175847'}\n",
            "{'postal': 'DE', 'name': 'Delaware', 'abundance': '0'}\n",
            "{'postal': 'FL', 'name': 'Florida', 'abundance': '124208'}\n",
            "{'postal': 'GA', 'name': 'Georgia', 'abundance': '41175'}\n",
            "{'postal': 'HI', 'name': 'Hawaii', 'abundance': '15150'}\n",
            "{'postal': 'IA', 'name': 'Iowa', 'abundance': '15805'}\n",
            "{'postal': 'ID', 'name': 'Idaho', 'abundance': '0'}\n",
            "{'postal': 'IL', 'name': 'Illinois', 'abundance': '0'}\n",
            "{'postal': 'IN', 'name': 'Indiana', 'abundance': '97227'}\n",
            "{'postal': 'KS', 'name': 'Kansas', 'abundance': '44767'}\n",
            "{'postal': 'KY', 'name': 'Kentucky', 'abundance': '32711'}\n",
            "{'postal': 'LA', 'name': 'Louisiana', 'abundance': '105786'}\n",
            "{'postal': 'MA', 'name': 'Massachusetts', 'abundance': '16735'}\n",
            "{'postal': 'MD', 'name': 'Maryland', 'abundance': '121279'}\n",
            "{'postal': 'ME', 'name': 'Maine', 'abundance': '0'}\n",
            "{'postal': 'MI', 'name': 'Michigan', 'abundance': '92023'}\n",
            "{'postal': 'MN', 'name': 'Minnesota', 'abundance': '176834'}\n",
            "{'postal': 'MO', 'name': 'Missouri', 'abundance': '83533'}\n",
            "{'postal': 'MS', 'name': 'Mississippi', 'abundance': '0'}\n",
            "{'postal': 'MT', 'name': 'Montana', 'abundance': '0'}\n",
            "{'postal': 'NC', 'name': 'North Carolina', 'abundance': '22586'}\n",
            "{'postal': 'ND', 'name': 'North Dakota', 'abundance': '0'}\n",
            "{'postal': 'NE', 'name': 'Nebraska', 'abundance': '0'}\n",
            "{'postal': 'NH', 'name': 'New Hampshire', 'abundance': '0'}\n",
            "{'postal': 'NJ', 'name': 'New Jersey', 'abundance': '774'}\n",
            "{'postal': 'NM', 'name': 'New Mexico', 'abundance': '2485'}\n",
            "{'postal': 'NV', 'name': 'Nevada', 'abundance': '32006'}\n",
            "{'postal': 'NY', 'name': 'New York', 'abundance': '787349'}\n",
            "{'postal': 'OH', 'name': 'Ohio', 'abundance': '140876'}\n",
            "{'postal': 'OK', 'name': 'Oklahoma', 'abundance': '8871'}\n",
            "{'postal': 'OR', 'name': 'Oregon', 'abundance': '216751'}\n",
            "{'postal': 'PA', 'name': 'Pennsylvania', 'abundance': '42079'}\n",
            "{'postal': 'RI', 'name': 'Rhode Island', 'abundance': '24082'}\n",
            "{'postal': 'SC', 'name': 'South Carolina', 'abundance': '0'}\n",
            "{'postal': 'SD', 'name': 'South Dakota', 'abundance': '61304'}\n",
            "{'postal': 'TN', 'name': 'Tennessee', 'abundance': '10411'}\n",
            "{'postal': 'TX', 'name': 'Texas', 'abundance': '264285'}\n",
            "{'postal': 'UT', 'name': 'Utah', 'abundance': '0'}\n",
            "{'postal': 'VA', 'name': 'Virginia', 'abundance': '1815'}\n",
            "{'postal': 'VT', 'name': 'Vermont', 'abundance': '0'}\n",
            "{'postal': 'WA', 'name': 'Washington', 'abundance': '164903'}\n",
            "{'postal': 'WI', 'name': 'Wisconsin', 'abundance': '127623'}\n",
            "{'postal': 'WV', 'name': 'West Virginia', 'abundance': '0'}\n",
            "{'postal': 'WY', 'name': 'Wyoming', 'abundance': '0'}\n"
          ]
        }
      ]
    },
    {
      "cell_type": "code",
      "source": [
        "out_path = \"/content/choropleth.json\"\n",
        "with open(out_path, 'w') as file:\n",
        "    json.dump(json_file, file)"
      ],
      "metadata": {
        "id": "H_HHnLBd6piy"
      },
      "execution_count": 50,
      "outputs": []
    },
    {
      "cell_type": "markdown",
      "source": [
        "## Drop data with no longitude/latitude"
      ],
      "metadata": {
        "id": "tW0ynO2Kpn80"
      }
    },
    {
      "cell_type": "code",
      "source": [
        "# tree_dataset.dropna(subset=['longitude_coordinate', 'latitude_coordinate'], how='any', inplace=True)"
      ],
      "metadata": {
        "id": "CyPlJ0QMX9E4"
      },
      "execution_count": null,
      "outputs": []
    },
    {
      "cell_type": "markdown",
      "source": [
        "# Download ALL .csv files"
      ],
      "metadata": {
        "id": "Xu0I1XPBTWqA"
      }
    },
    {
      "cell_type": "code",
      "source": [
        "directory_path = '/content'\n",
        "file_type = \".csv\"\n",
        "files_to_download = glob.glob(f\"{directory_path}/*{file_type}\")\n",
        "zip_filename = \"datasets.zip\"\n",
        "with zipfile.ZipFile(zip_filename, \"w\") as zipf:\n",
        "    for file in files_to_download:\n",
        "        zipf.write(file, arcname=os.path.basename(file))\n",
        "files.download(zip_filename)"
      ],
      "metadata": {
        "id": "TCLdmxRCTUmf",
        "outputId": "8ce08fb9-b8c3-422e-bf3a-3085db9a5ae5",
        "colab": {
          "base_uri": "https://localhost:8080/",
          "height": 17
        }
      },
      "execution_count": null,
      "outputs": [
        {
          "output_type": "display_data",
          "data": {
            "text/plain": [
              "<IPython.core.display.Javascript object>"
            ],
            "application/javascript": [
              "\n",
              "    async function download(id, filename, size) {\n",
              "      if (!google.colab.kernel.accessAllowed) {\n",
              "        return;\n",
              "      }\n",
              "      const div = document.createElement('div');\n",
              "      const label = document.createElement('label');\n",
              "      label.textContent = `Downloading \"${filename}\": `;\n",
              "      div.appendChild(label);\n",
              "      const progress = document.createElement('progress');\n",
              "      progress.max = size;\n",
              "      div.appendChild(progress);\n",
              "      document.body.appendChild(div);\n",
              "\n",
              "      const buffers = [];\n",
              "      let downloaded = 0;\n",
              "\n",
              "      const channel = await google.colab.kernel.comms.open(id);\n",
              "      // Send a message to notify the kernel that we're ready.\n",
              "      channel.send({})\n",
              "\n",
              "      for await (const message of channel.messages) {\n",
              "        // Send a message to notify the kernel that we're ready.\n",
              "        channel.send({})\n",
              "        if (message.buffers) {\n",
              "          for (const buffer of message.buffers) {\n",
              "            buffers.push(buffer);\n",
              "            downloaded += buffer.byteLength;\n",
              "            progress.value = downloaded;\n",
              "          }\n",
              "        }\n",
              "      }\n",
              "      const blob = new Blob(buffers, {type: 'application/binary'});\n",
              "      const a = document.createElement('a');\n",
              "      a.href = window.URL.createObjectURL(blob);\n",
              "      a.download = filename;\n",
              "      div.appendChild(a);\n",
              "      a.click();\n",
              "      div.remove();\n",
              "    }\n",
              "  "
            ]
          },
          "metadata": {}
        },
        {
          "output_type": "display_data",
          "data": {
            "text/plain": [
              "<IPython.core.display.Javascript object>"
            ],
            "application/javascript": [
              "download(\"download_8597fff4-27ca-40ad-b4ca-69d9cf83b0c2\", \"datasets.zip\", 2531658)"
            ]
          },
          "metadata": {}
        }
      ]
    }
  ]
}